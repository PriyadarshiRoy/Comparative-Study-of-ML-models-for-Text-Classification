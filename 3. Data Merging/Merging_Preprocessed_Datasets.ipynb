{
  "nbformat": 4,
  "nbformat_minor": 0,
  "metadata": {
    "colab": {
      "name": "Merging_Preprocessed_Datasets.ipynb",
      "provenance": []
    },
    "kernelspec": {
      "name": "python3",
      "display_name": "Python 3"
    },
    "language_info": {
      "name": "python"
    }
  },
  "cells": [
    {
      "cell_type": "code",
      "metadata": {
        "colab": {
          "base_uri": "https://localhost:8080/"
        },
        "id": "HuLSj1WvsA3j",
        "outputId": "96006625-b21e-4649-f471-47520bb130ff"
      },
      "source": [
        "from google.colab import drive\n",
        "drive.mount('/content/drive')"
      ],
      "execution_count": null,
      "outputs": [
        {
          "output_type": "stream",
          "text": [
            "Mounted at /content/drive\n"
          ],
          "name": "stdout"
        }
      ]
    },
    {
      "cell_type": "code",
      "metadata": {
        "id": "ex7KmDEJsBWU"
      },
      "source": [
        "import pandas as pd"
      ],
      "execution_count": null,
      "outputs": []
    },
    {
      "cell_type": "code",
      "metadata": {
        "id": "DO8IBrhyrQiL"
      },
      "source": [
        "df1 = pd.read_csv(r\"/content/drive/MyDrive/MSc Project/Data/dataset1+3_preprocessed.csv\")\n",
        "df2 = pd.read_csv(r\"/content/drive/MyDrive/MSc Project/Data/dataset2_preprocessed.csv\")\n",
        "df3 = pd.read_csv(r\"/content/drive/MyDrive/MSc Project/Data/dataset4_preprocessed.csv\")\n",
        "df4 = pd.read_csv(r\"/content/drive/MyDrive/MSc Project/Data/dataset6_preprocessed.csv\")\n",
        "df5 = pd.read_csv(r\"/content/drive/MyDrive/MSc Project/Data/dataset7_preprocessed.csv\")"
      ],
      "execution_count": null,
      "outputs": []
    },
    {
      "cell_type": "code",
      "metadata": {
        "id": "FQH_0oXXsjOo"
      },
      "source": [
        "merged_df = [df1, df2, df3, df4, df5]"
      ],
      "execution_count": null,
      "outputs": []
    },
    {
      "cell_type": "code",
      "metadata": {
        "id": "0ciPm7C4tRgO"
      },
      "source": [
        "result = pd.concat(merged_df)"
      ],
      "execution_count": null,
      "outputs": []
    },
    {
      "cell_type": "code",
      "metadata": {
        "colab": {
          "base_uri": "https://localhost:8080/",
          "height": 419
        },
        "id": "GVpc4l0utSjn",
        "outputId": "845814cb-1c67-40aa-dfaf-6dbea689199d"
      },
      "source": [
        "result"
      ],
      "execution_count": null,
      "outputs": [
        {
          "output_type": "execute_result",
          "data": {
            "text/html": [
              "<div>\n",
              "<style scoped>\n",
              "    .dataframe tbody tr th:only-of-type {\n",
              "        vertical-align: middle;\n",
              "    }\n",
              "\n",
              "    .dataframe tbody tr th {\n",
              "        vertical-align: top;\n",
              "    }\n",
              "\n",
              "    .dataframe thead th {\n",
              "        text-align: right;\n",
              "    }\n",
              "</style>\n",
              "<table border=\"1\" class=\"dataframe\">\n",
              "  <thead>\n",
              "    <tr style=\"text-align: right;\">\n",
              "      <th></th>\n",
              "      <th>Unnamed: 0</th>\n",
              "      <th>text</th>\n",
              "      <th>label</th>\n",
              "    </tr>\n",
              "  </thead>\n",
              "  <tbody>\n",
              "    <tr>\n",
              "      <th>0</th>\n",
              "      <td>0.0</td>\n",
              "      <td>house dem aide didnt even see comeys letter ja...</td>\n",
              "      <td>1</td>\n",
              "    </tr>\n",
              "    <tr>\n",
              "      <th>1</th>\n",
              "      <td>1.0</td>\n",
              "      <td>flynn hillary clinton big woman campus breitba...</td>\n",
              "      <td>0</td>\n",
              "    </tr>\n",
              "    <tr>\n",
              "      <th>2</th>\n",
              "      <td>2.0</td>\n",
              "      <td>truth might get fired truth might get fired oc...</td>\n",
              "      <td>1</td>\n",
              "    </tr>\n",
              "    <tr>\n",
              "      <th>3</th>\n",
              "      <td>3.0</td>\n",
              "      <td>civilians killed single us airstrike identifie...</td>\n",
              "      <td>1</td>\n",
              "    </tr>\n",
              "    <tr>\n",
              "      <th>4</th>\n",
              "      <td>4.0</td>\n",
              "      <td>iranian woman jailed fictional unpublished sto...</td>\n",
              "      <td>1</td>\n",
              "    </tr>\n",
              "    <tr>\n",
              "      <th>...</th>\n",
              "      <td>...</td>\n",
              "      <td>...</td>\n",
              "      <td>...</td>\n",
              "    </tr>\n",
              "    <tr>\n",
              "      <th>2040</th>\n",
              "      <td>NaN</td>\n",
              "      <td>never trumpers must reconsider prof canoes ree...</td>\n",
              "      <td>0</td>\n",
              "    </tr>\n",
              "    <tr>\n",
              "      <th>2041</th>\n",
              "      <td>NaN</td>\n",
              "      <td>election crossroads socialism capitalism teens...</td>\n",
              "      <td>0</td>\n",
              "    </tr>\n",
              "    <tr>\n",
              "      <th>2042</th>\n",
              "      <td>NaN</td>\n",
              "      <td>reasons ill vote trump school named munichmass...</td>\n",
              "      <td>0</td>\n",
              "    </tr>\n",
              "    <tr>\n",
              "      <th>2043</th>\n",
              "      <td>NaN</td>\n",
              "      <td>new country women minorities hit hardest wars ...</td>\n",
              "      <td>0</td>\n",
              "    </tr>\n",
              "    <tr>\n",
              "      <th>2044</th>\n",
              "      <td>NaN</td>\n",
              "      <td>trump vs clinton risk vs disaster check hillar...</td>\n",
              "      <td>0</td>\n",
              "    </tr>\n",
              "  </tbody>\n",
              "</table>\n",
              "<p>119183 rows × 3 columns</p>\n",
              "</div>"
            ],
            "text/plain": [
              "      Unnamed: 0                                               text  label\n",
              "0            0.0  house dem aide didnt even see comeys letter ja...      1\n",
              "1            1.0  flynn hillary clinton big woman campus breitba...      0\n",
              "2            2.0  truth might get fired truth might get fired oc...      1\n",
              "3            3.0  civilians killed single us airstrike identifie...      1\n",
              "4            4.0  iranian woman jailed fictional unpublished sto...      1\n",
              "...          ...                                                ...    ...\n",
              "2040         NaN  never trumpers must reconsider prof canoes ree...      0\n",
              "2041         NaN  election crossroads socialism capitalism teens...      0\n",
              "2042         NaN  reasons ill vote trump school named munichmass...      0\n",
              "2043         NaN  new country women minorities hit hardest wars ...      0\n",
              "2044         NaN  trump vs clinton risk vs disaster check hillar...      0\n",
              "\n",
              "[119183 rows x 3 columns]"
            ]
          },
          "metadata": {
            "tags": []
          },
          "execution_count": 7
        }
      ]
    },
    {
      "cell_type": "code",
      "metadata": {
        "id": "qmzR6FOruAzU"
      },
      "source": [
        "X = result[\"text\"].to_list()\n",
        "y = result[\"label\"].to_list()"
      ],
      "execution_count": null,
      "outputs": []
    },
    {
      "cell_type": "code",
      "metadata": {
        "id": "5Pa5lQ2KtcFA"
      },
      "source": [
        "df = pd.DataFrame(list(zip(X, y)),\n",
        "               columns =['text', 'label'])"
      ],
      "execution_count": null,
      "outputs": []
    },
    {
      "cell_type": "code",
      "metadata": {
        "colab": {
          "base_uri": "https://localhost:8080/"
        },
        "id": "DtT57e4Jv0mK",
        "outputId": "3b5e370e-fcfe-4804-9089-a2b25a6f51d6"
      },
      "source": [
        "df.isnull().sum()"
      ],
      "execution_count": null,
      "outputs": [
        {
          "output_type": "execute_result",
          "data": {
            "text/plain": [
              "text     62\n",
              "label     0\n",
              "dtype: int64"
            ]
          },
          "metadata": {
            "tags": []
          },
          "execution_count": 11
        }
      ]
    },
    {
      "cell_type": "code",
      "metadata": {
        "id": "7KVd3ss6wQAh"
      },
      "source": [
        "df = df.dropna()"
      ],
      "execution_count": null,
      "outputs": []
    },
    {
      "cell_type": "code",
      "metadata": {
        "colab": {
          "base_uri": "https://localhost:8080/"
        },
        "id": "vnhtT8BSwSZs",
        "outputId": "86cff5c3-2576-4ce6-8f5e-5007b0d8e48c"
      },
      "source": [
        "df.isnull().sum()"
      ],
      "execution_count": null,
      "outputs": [
        {
          "output_type": "execute_result",
          "data": {
            "text/plain": [
              "text     0\n",
              "label    0\n",
              "dtype: int64"
            ]
          },
          "metadata": {
            "tags": []
          },
          "execution_count": 18
        }
      ]
    },
    {
      "cell_type": "code",
      "metadata": {
        "colab": {
          "base_uri": "https://localhost:8080/",
          "height": 350
        },
        "id": "OJUrI4j2wTbC",
        "outputId": "04a158ba-d0f8-47de-cde7-16938e6311f2"
      },
      "source": [
        "import seaborn as sns\n",
        "sns.set_style(\"darkgrid\")\n",
        "sns.countplot(df.label)"
      ],
      "execution_count": null,
      "outputs": [
        {
          "output_type": "stream",
          "text": [
            "/usr/local/lib/python3.7/dist-packages/seaborn/_decorators.py:43: FutureWarning: Pass the following variable as a keyword arg: x. From version 0.12, the only valid positional argument will be `data`, and passing other arguments without an explicit keyword will result in an error or misinterpretation.\n",
            "  FutureWarning\n"
          ],
          "name": "stderr"
        },
        {
          "output_type": "execute_result",
          "data": {
            "text/plain": [
              "<matplotlib.axes._subplots.AxesSubplot at 0x7f5c6b1bfa10>"
            ]
          },
          "metadata": {
            "tags": []
          },
          "execution_count": 19
        },
        {
          "output_type": "display_data",
          "data": {
            "image/png": "[encoded data removed]",
            "text/plain": [
              "<Figure size 432x288 with 1 Axes>"
            ]
          },
          "metadata": {
            "tags": []
          }
        }
      ]
    },
    {
      "cell_type": "code",
      "metadata": {
        "id": "hQm1hxXgwtNS"
      },
      "source": [
        "X = df[\"text\"].to_list()\n",
        "y = df[\"label\"].to_list()"
      ],
      "execution_count": null,
      "outputs": []
    },
    {
      "cell_type": "code",
      "metadata": {
        "id": "tTLOYC8U0AnQ"
      },
      "source": [
        "xtrue = [X[j] for j in [i for i, x in enumerate(y) if x==0]]\n",
        "xfalse = [X[j] for j in [i for i, x in enumerate(y) if x==1]]"
      ],
      "execution_count": null,
      "outputs": []
    },
    {
      "cell_type": "code",
      "metadata": {
        "colab": {
          "base_uri": "https://localhost:8080/"
        },
        "id": "MWYtn16D1JRi",
        "outputId": "eef26fe6-840b-427f-9d62-d7b8c9734afa"
      },
      "source": [
        "print(len(xtrue))\n",
        "print(len(xfalse))"
      ],
      "execution_count": null,
      "outputs": [
        {
          "output_type": "stream",
          "text": [
            "57572\n",
            "61549\n"
          ],
          "name": "stdout"
        }
      ]
    },
    {
      "cell_type": "code",
      "metadata": {
        "id": "AiW5RJcF1Tu6"
      },
      "source": [
        "X = []\n",
        "label = []\n",
        "X.extend(xtrue)\n",
        "label.extend([0]*len(xtrue))\n",
        "X.extend(xfalse[:len(xtrue)])\n",
        "label.extend([1]*len(xtrue))"
      ],
      "execution_count": null,
      "outputs": []
    },
    {
      "cell_type": "code",
      "metadata": {
        "colab": {
          "base_uri": "https://localhost:8080/"
        },
        "id": "OIXYugL51-cS",
        "outputId": "b6829a96-a96a-412f-8970-56a2b3eeb8ff"
      },
      "source": [
        "print(len(X))\n",
        "print(len(label))"
      ],
      "execution_count": null,
      "outputs": [
        {
          "output_type": "stream",
          "text": [
            "115144\n",
            "115144\n"
          ],
          "name": "stdout"
        }
      ]
    },
    {
      "cell_type": "code",
      "metadata": {
        "id": "biU7QUxw2Frh"
      },
      "source": [
        "df = pd.DataFrame(list(zip(X, label)),\n",
        "               columns =['text', 'label'])"
      ],
      "execution_count": null,
      "outputs": []
    },
    {
      "cell_type": "code",
      "metadata": {
        "colab": {
          "base_uri": "https://localhost:8080/",
          "height": 353
        },
        "id": "v86qC4GL2KvM",
        "outputId": "7be7ccb7-6aef-4ed3-b954-2903f03fa2d5"
      },
      "source": [
        "import seaborn as sns\n",
        "sns.set_style(\"darkgrid\")\n",
        "sns.countplot(df.label)"
      ],
      "execution_count": null,
      "outputs": [
        {
          "output_type": "stream",
          "text": [
            "/usr/local/lib/python3.7/dist-packages/seaborn/_decorators.py:43: FutureWarning: Pass the following variable as a keyword arg: x. From version 0.12, the only valid positional argument will be `data`, and passing other arguments without an explicit keyword will result in an error or misinterpretation.\n",
            "  FutureWarning\n"
          ],
          "name": "stderr"
        },
        {
          "output_type": "execute_result",
          "data": {
            "text/plain": [
              "<matplotlib.axes._subplots.AxesSubplot at 0x7f5c66714850>"
            ]
          },
          "metadata": {
            "tags": []
          },
          "execution_count": 39
        },
        {
          "output_type": "display_data",
          "data": {
            "image/png": "[encoded data removed]",
            "text/plain": [
              "<Figure size 432x288 with 1 Axes>"
            ]
          },
          "metadata": {
            "tags": []
          }
        }
      ]
    },
    {
      "cell_type": "code",
      "metadata": {
        "id": "EDoe6p3q2PcI"
      },
      "source": [
        "df.to_csv(r'/content/drive/MyDrive/MSc Project/Data/MergedDataset.csv', index=False)"
      ],
      "execution_count": null,
      "outputs": []
    },
    {
      "cell_type": "code",
      "metadata": {
        "colab": {
          "base_uri": "https://localhost:8080/",
          "height": 419
        },
        "id": "jBM-QhbKuOAb",
        "outputId": "550580a4-9b28-4c6b-bfe0-8afe02b7ed8c"
      },
      "source": [
        "url_saved = '/content/drive/MyDrive/MSc Project/Data/MergedDataset.csv'\n",
        "df_save = pd.read_csv(url_saved)\n",
        "df_save"
      ],
      "execution_count": null,
      "outputs": [
        {
          "output_type": "execute_result",
          "data": {
            "text/html": [
              "<div>\n",
              "<style scoped>\n",
              "    .dataframe tbody tr th:only-of-type {\n",
              "        vertical-align: middle;\n",
              "    }\n",
              "\n",
              "    .dataframe tbody tr th {\n",
              "        vertical-align: top;\n",
              "    }\n",
              "\n",
              "    .dataframe thead th {\n",
              "        text-align: right;\n",
              "    }\n",
              "</style>\n",
              "<table border=\"1\" class=\"dataframe\">\n",
              "  <thead>\n",
              "    <tr style=\"text-align: right;\">\n",
              "      <th></th>\n",
              "      <th>text</th>\n",
              "      <th>label</th>\n",
              "    </tr>\n",
              "  </thead>\n",
              "  <tbody>\n",
              "    <tr>\n",
              "      <th>0</th>\n",
              "      <td>flynn hillary clinton big woman campus breitba...</td>\n",
              "      <td>0</td>\n",
              "    </tr>\n",
              "    <tr>\n",
              "      <th>1</th>\n",
              "      <td>jackie mason hollywood would love trump bombed...</td>\n",
              "      <td>0</td>\n",
              "    </tr>\n",
              "    <tr>\n",
              "      <th>2</th>\n",
              "      <td>benot hamon wins french socialist partys presi...</td>\n",
              "      <td>0</td>\n",
              "    </tr>\n",
              "    <tr>\n",
              "      <th>3</th>\n",
              "      <td>excerpts draft script donald trumps qampa blac...</td>\n",
              "      <td>0</td>\n",
              "    </tr>\n",
              "    <tr>\n",
              "      <th>4</th>\n",
              "      <td>backchannel plan ukraine russia courtesy trump...</td>\n",
              "      <td>0</td>\n",
              "    </tr>\n",
              "    <tr>\n",
              "      <th>...</th>\n",
              "      <td>...</td>\n",
              "      <td>...</td>\n",
              "    </tr>\n",
              "    <tr>\n",
              "      <th>115139</th>\n",
              "      <td>youre lawabiding citizen carries gun grocery c...</td>\n",
              "      <td>1</td>\n",
              "    </tr>\n",
              "    <tr>\n",
              "      <th>115140</th>\n",
              "      <td>preschool kids learn samesex marriage antibias...</td>\n",
              "      <td>1</td>\n",
              "    </tr>\n",
              "    <tr>\n",
              "      <th>115141</th>\n",
              "      <td>college threatens women dont want urinate guys...</td>\n",
              "      <td>1</td>\n",
              "    </tr>\n",
              "    <tr>\n",
              "      <th>115142</th>\n",
              "      <td>transportation secretary unequal distribution ...</td>\n",
              "      <td>1</td>\n",
              "    </tr>\n",
              "    <tr>\n",
              "      <th>115143</th>\n",
              "      <td>vigilante pirates intercede government fails p...</td>\n",
              "      <td>1</td>\n",
              "    </tr>\n",
              "  </tbody>\n",
              "</table>\n",
              "<p>115144 rows × 2 columns</p>\n",
              "</div>"
            ],
            "text/plain": [
              "                                                     text  label\n",
              "0       flynn hillary clinton big woman campus breitba...      0\n",
              "1       jackie mason hollywood would love trump bombed...      0\n",
              "2       benot hamon wins french socialist partys presi...      0\n",
              "3       excerpts draft script donald trumps qampa blac...      0\n",
              "4       backchannel plan ukraine russia courtesy trump...      0\n",
              "...                                                   ...    ...\n",
              "115139  youre lawabiding citizen carries gun grocery c...      1\n",
              "115140  preschool kids learn samesex marriage antibias...      1\n",
              "115141  college threatens women dont want urinate guys...      1\n",
              "115142  transportation secretary unequal distribution ...      1\n",
              "115143  vigilante pirates intercede government fails p...      1\n",
              "\n",
              "[115144 rows x 2 columns]"
            ]
          },
          "metadata": {
            "tags": []
          },
          "execution_count": 41
        }
      ]
    },
    {
      "cell_type": "code",
      "metadata": {
        "id": "3mFzcgBMuTY0"
      },
      "source": [
        ""
      ],
      "execution_count": null,
      "outputs": []
    }
  ]
}