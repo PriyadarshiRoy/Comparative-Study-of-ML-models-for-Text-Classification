{
  "nbformat": 4,
  "nbformat_minor": 0,
  "metadata": {
    "colab": {
      "name": "Dataset_Preprocessing.ipynb",
      "provenance": [],
      "collapsed_sections": []
    },
    "kernelspec": {
      "display_name": "Python 3",
      "name": "python3"
    },
    "accelerator": "GPU"
  },
  "cells": [
    {
      "cell_type": "code",
      "metadata": {
        "id": "Se70B2pQrZLZ"
      },
      "source": [
        "import pandas as pd\n",
        "import tensorflow as tf\n",
        "import numpy as np\n",
        "from tensorflow.keras.preprocessing.sequence import pad_sequences\n",
        "from numpy import array\n",
        "from keras.preprocessing.text import one_hot\n",
        "from keras.layers.embeddings import Embedding\n",
        "from numpy import asarray\n",
        "from numpy import zeros\n",
        "import keras"
      ],
      "execution_count": 1,
      "outputs": []
    },
    {
      "cell_type": "code",
      "metadata": {
        "colab": {
          "base_uri": "https://localhost:8080/"
        },
        "id": "S6RZ3TnI0LDZ",
        "outputId": "c9fc4aeb-bd4a-485e-b92b-979174a7e22b"
      },
      "source": [
        "from google.colab import drive\n",
        "drive.mount('/content/drive')"
      ],
      "execution_count": 2,
      "outputs": [
        {
          "output_type": "stream",
          "text": [
            "Mounted at /content/drive\n"
          ],
          "name": "stdout"
        }
      ]
    },
    {
      "cell_type": "code",
      "metadata": {
        "id": "aTA5RNVhjnIL"
      },
      "source": [
        "df = pd.read_csv(r\"/content/drive/MyDrive/MSc Project/Data/USABLE/dataset1+3.csv\")"
      ],
      "execution_count": 3,
      "outputs": []
    },
    {
      "cell_type": "code",
      "metadata": {
        "id": "pYJ-V3Csjyju",
        "colab": {
          "base_uri": "https://localhost:8080/",
          "height": 137
        },
        "outputId": "57a0cd1a-80c9-4d7d-e8de-98a27e513719"
      },
      "source": [
        "df['text'][0]"
      ],
      "execution_count": 4,
      "outputs": [
        {
          "output_type": "execute_result",
          "data": {
            "application/vnd.google.colaboratory.intrinsic+json": {
              "type": "string"
            },
            "text/plain": [
              "'House Dem Aide: We Didn’t Even See Comey’s Letter Until Jason Chaffetz Tweeted It House Dem Aide: We Didn’t Even See Comey’s Letter Until Jason Chaffetz Tweeted It By Darrell Lucus on October 30, 2016 Subscribe Jason Chaffetz on the stump in American Fork, Utah ( image courtesy Michael Jolley, available under a Creative Commons-BY license) \\r\\nWith apologies to Keith Olbermann, there is no doubt who the Worst Person in The World is this week–FBI Director James Comey. But according to a House Democratic aide, it looks like we also know who the second-worst person is as well. It turns out that when Comey sent his now-infamous letter announcing that the FBI was looking into emails that may be related to Hillary Clinton’s email server, the ranking Democrats on the relevant committees didn’t hear about it from Comey. They found out via a tweet from one of the Republican committee chairmen. \\r\\nAs we now know, Comey notified the Republican chairmen and Democratic ranking members of the House Intelligence, Judiciary, and Oversight committees that his agency was reviewing emails it had recently discovered in order to see if they contained classified information. Not long after this letter went out, Oversight Committee Chairman Jason Chaffetz set the political world ablaze with this tweet. FBI Dir just informed me, \"The FBI has learned of the existence of emails that appear to be pertinent to the investigation.\" Case reopened \\r\\n— Jason Chaffetz (@jasoninthehouse) October 28, 2016 \\r\\nOf course, we now know that this was not the case . Comey was actually saying that it was reviewing the emails in light of “an unrelated case”–which we now know to be Anthony Weiner’s sexting with a teenager. But apparently such little things as facts didn’t matter to Chaffetz. The Utah Republican had already vowed to initiate a raft of investigations if Hillary wins–at least two years’ worth, and possibly an entire term’s worth of them. Apparently Chaffetz thought the FBI was already doing his work for him–resulting in a tweet that briefly roiled the nation before cooler heads realized it was a dud. \\r\\nBut according to a senior House Democratic aide, misreading that letter may have been the least of Chaffetz’ sins. That aide told Shareblue that his boss and other Democrats didn’t even know about Comey’s letter at the time–and only found out when they checked Twitter. “Democratic Ranking Members on the relevant committees didn’t receive Comey’s letter until after the Republican Chairmen. In fact, the Democratic Ranking Members didn’ receive it until after the Chairman of the Oversight and Government Reform Committee, Jason Chaffetz, tweeted it out and made it public.” \\r\\nSo let’s see if we’ve got this right. The FBI director tells Chaffetz and other GOP committee chairmen about a major development in a potentially politically explosive investigation, and neither Chaffetz nor his other colleagues had the courtesy to let their Democratic counterparts know about it. Instead, according to this aide, he made them find out about it on Twitter. \\r\\nThere has already been talk on Daily Kos that Comey himself provided advance notice of this letter to Chaffetz and other Republicans, giving them time to turn on the spin machine. That may make for good theater, but there is nothing so far that even suggests this is the case. After all, there is nothing so far that suggests that Comey was anything other than grossly incompetent and tone-deaf. \\r\\nWhat it does suggest, however, is that Chaffetz is acting in a way that makes Dan Burton and Darrell Issa look like models of responsibility and bipartisanship. He didn’t even have the decency to notify ranking member Elijah Cummings about something this explosive. If that doesn’t trample on basic standards of fairness, I don’t know what does. \\r\\nGranted, it’s not likely that Chaffetz will have to answer for this. He sits in a ridiculously Republican district anchored in Provo and Orem; it has a Cook Partisan Voting Index of R+25, and gave Mitt Romney a punishing 78 percent of the vote in 2012. Moreover, the Republican House leadership has given its full support to Chaffetz’ planned fishing expedition. But that doesn’t mean we can’t turn the hot lights on him. After all, he is a textbook example of what the House has become under Republican control. And he is also the Second Worst Person in the World. About Darrell Lucus \\r\\nDarrell is a 30-something graduate of the University of North Carolina who considers himself a journalist of the old school. An attempt to turn him into a member of the religious right in college only succeeded in turning him into the religious right\\'s worst nightmare--a charismatic Christian who is an unapologetic liberal. His desire to stand up for those who have been scared into silence only increased when he survived an abusive three-year marriage. You may know him on Daily Kos as Christian Dem in NC . Follow him on Twitter @DarrellLucus or connect with him on Facebook . Click here to buy Darrell a Mello Yello. Connect'"
            ]
          },
          "metadata": {
            "tags": []
          },
          "execution_count": 4
        }
      ]
    },
    {
      "cell_type": "code",
      "metadata": {
        "colab": {
          "base_uri": "https://localhost:8080/",
          "height": 350
        },
        "id": "nkGvBczhpILZ",
        "outputId": "070419cc-b266-4098-8464-b0451778d475"
      },
      "source": [
        "import seaborn as sns\n",
        "sns.set_style(\"darkgrid\")\n",
        "sns.countplot(df.label)"
      ],
      "execution_count": 5,
      "outputs": [
        {
          "output_type": "stream",
          "text": [
            "/usr/local/lib/python3.7/dist-packages/seaborn/_decorators.py:43: FutureWarning: Pass the following variable as a keyword arg: x. From version 0.12, the only valid positional argument will be `data`, and passing other arguments without an explicit keyword will result in an error or misinterpretation.\n",
            "  FutureWarning\n"
          ],
          "name": "stderr"
        },
        {
          "output_type": "execute_result",
          "data": {
            "text/plain": [
              "<matplotlib.axes._subplots.AxesSubplot at 0x7f8152ad6690>"
            ]
          },
          "metadata": {
            "tags": []
          },
          "execution_count": 5
        },
        {
          "output_type": "display_data",
          "data": {
            "image/png": "[encoded data removed]",
            "text/plain": [
              "<Figure size 432x288 with 1 Axes>"
            ]
          },
          "metadata": {
            "tags": []
          }
        }
      ]
    },
    {
      "cell_type": "code",
      "metadata": {
        "id": "x58IP_9PEZH2"
      },
      "source": [
        "X = df['text'].to_list()\n",
        "y = df['label'].to_list()"
      ],
      "execution_count": 6,
      "outputs": []
    },
    {
      "cell_type": "markdown",
      "metadata": {
        "id": "y5SwMOVBIuHz"
      },
      "source": [
        "**PRE-PROCESSING OF DATA**"
      ]
    },
    {
      "cell_type": "markdown",
      "metadata": {
        "id": "iLVcAJePIJfu"
      },
      "source": [
        "REMOVING URLs"
      ]
    },
    {
      "cell_type": "code",
      "metadata": {
        "id": "lrfyLuyRIINs"
      },
      "source": [
        "# Removing URL's\n",
        "def remove_url(text):\n",
        "    return re.sub(r'http\\S+', '', text)"
      ],
      "execution_count": 10,
      "outputs": []
    },
    {
      "cell_type": "code",
      "metadata": {
        "id": "SMEdHxfyIYH2"
      },
      "source": [
        "X_url = [remove_url(x) for x in X]"
      ],
      "execution_count": 11,
      "outputs": []
    },
    {
      "cell_type": "markdown",
      "metadata": {
        "id": "0rxp4A8LEtcy"
      },
      "source": [
        "LOWERCASING"
      ]
    },
    {
      "cell_type": "code",
      "metadata": {
        "id": "1rGJRK9GEeGb"
      },
      "source": [
        "X_lower = [x.lower() for x in X_url]"
      ],
      "execution_count": 12,
      "outputs": []
    },
    {
      "cell_type": "code",
      "metadata": {
        "colab": {
          "base_uri": "https://localhost:8080/"
        },
        "id": "IHS2dNm3GW3M",
        "outputId": "44784b24-7c70-4a15-e2f1-950e2727a967"
      },
      "source": [
        "X_lower[:5]"
      ],
      "execution_count": 13,
      "outputs": [
        {
          "output_type": "execute_result",
          "data": {
            "text/plain": [
              "['house dem aide: we didn’t even see comey’s letter until jason chaffetz tweeted it house dem aide: we didn’t even see comey’s letter until jason chaffetz tweeted it by darrell lucus on october 30, 2016 subscribe jason chaffetz on the stump in american fork, utah ( image courtesy michael jolley, available under a creative commons-by license) \\r\\nwith apologies to keith olbermann, there is no doubt who the worst person in the world is this week–fbi director james comey. but according to a house democratic aide, it looks like we also know who the second-worst person is as well. it turns out that when comey sent his now-infamous letter announcing that the fbi was looking into emails that may be related to hillary clinton’s email server, the ranking democrats on the relevant committees didn’t hear about it from comey. they found out via a tweet from one of the republican committee chairmen. \\r\\nas we now know, comey notified the republican chairmen and democratic ranking members of the house intelligence, judiciary, and oversight committees that his agency was reviewing emails it had recently discovered in order to see if they contained classified information. not long after this letter went out, oversight committee chairman jason chaffetz set the political world ablaze with this tweet. fbi dir just informed me, \"the fbi has learned of the existence of emails that appear to be pertinent to the investigation.\" case reopened \\r\\n— jason chaffetz (@jasoninthehouse) october 28, 2016 \\r\\nof course, we now know that this was not the case . comey was actually saying that it was reviewing the emails in light of “an unrelated case”–which we now know to be anthony weiner’s sexting with a teenager. but apparently such little things as facts didn’t matter to chaffetz. the utah republican had already vowed to initiate a raft of investigations if hillary wins–at least two years’ worth, and possibly an entire term’s worth of them. apparently chaffetz thought the fbi was already doing his work for him–resulting in a tweet that briefly roiled the nation before cooler heads realized it was a dud. \\r\\nbut according to a senior house democratic aide, misreading that letter may have been the least of chaffetz’ sins. that aide told shareblue that his boss and other democrats didn’t even know about comey’s letter at the time–and only found out when they checked twitter. “democratic ranking members on the relevant committees didn’t receive comey’s letter until after the republican chairmen. in fact, the democratic ranking members didn’ receive it until after the chairman of the oversight and government reform committee, jason chaffetz, tweeted it out and made it public.” \\r\\nso let’s see if we’ve got this right. the fbi director tells chaffetz and other gop committee chairmen about a major development in a potentially politically explosive investigation, and neither chaffetz nor his other colleagues had the courtesy to let their democratic counterparts know about it. instead, according to this aide, he made them find out about it on twitter. \\r\\nthere has already been talk on daily kos that comey himself provided advance notice of this letter to chaffetz and other republicans, giving them time to turn on the spin machine. that may make for good theater, but there is nothing so far that even suggests this is the case. after all, there is nothing so far that suggests that comey was anything other than grossly incompetent and tone-deaf. \\r\\nwhat it does suggest, however, is that chaffetz is acting in a way that makes dan burton and darrell issa look like models of responsibility and bipartisanship. he didn’t even have the decency to notify ranking member elijah cummings about something this explosive. if that doesn’t trample on basic standards of fairness, i don’t know what does. \\r\\ngranted, it’s not likely that chaffetz will have to answer for this. he sits in a ridiculously republican district anchored in provo and orem; it has a cook partisan voting index of r+25, and gave mitt romney a punishing 78 percent of the vote in 2012. moreover, the republican house leadership has given its full support to chaffetz’ planned fishing expedition. but that doesn’t mean we can’t turn the hot lights on him. after all, he is a textbook example of what the house has become under republican control. and he is also the second worst person in the world. about darrell lucus \\r\\ndarrell is a 30-something graduate of the university of north carolina who considers himself a journalist of the old school. an attempt to turn him into a member of the religious right in college only succeeded in turning him into the religious right\\'s worst nightmare--a charismatic christian who is an unapologetic liberal. his desire to stand up for those who have been scared into silence only increased when he survived an abusive three-year marriage. you may know him on daily kos as christian dem in nc . follow him on twitter @darrelllucus or connect with him on facebook . click here to buy darrell a mello yello. connect',\n",
              " 'flynn: hillary clinton, big woman on campus - breitbart ever get the feeling your life circles the roundabout rather than heads in a straight line toward the intended destination? [hillary clinton remains the big woman on campus in leafy, liberal wellesley, massachusetts. everywhere else votes her most likely to don her inauguration dress for the remainder of her days the way miss havisham forever wore that wedding dress.  speaking of great expectations, hillary rodham overflowed with them 48 years ago when she first addressed a wellesley graduating class. the president of the college informed those gathered in 1969 that the students needed “no debate so far as i could ascertain as to who their spokesman was to be” (kind of the like the democratic primaries in 2016 minus the   terms unknown then even at a seven sisters school). “i am very glad that miss adams made it clear that what i am speaking for today is all of us —  the 400 of us,” miss rodham told her classmates. after appointing herself edger bergen to the charlie mccarthys and mortimer snerds in attendance, the    bespectacled in granny glasses (awarding her matronly wisdom —  or at least john lennon wisdom) took issue with the previous speaker. despite becoming the first   to win election to a seat in the u. s. senate since reconstruction, edward brooke came in for criticism for calling for “empathy” for the goals of protestors as he criticized tactics. though clinton in her senior thesis on saul alinsky lamented “black power demagogues” and “elitist arrogance and repressive intolerance” within the new left, similar words coming out of a republican necessitated a brief rebuttal. “trust,” rodham ironically observed in 1969, “this is one word that when i asked the class at our rehearsal what it was they wanted me to say for them, everyone came up to me and said ‘talk about trust, talk about the lack of trust both for us and the way we feel about others. talk about the trust bust.’ what can you say about it? what can you say about a feeling that permeates a generation and that perhaps is not even understood by those who are distrusted?” the “trust bust” certainly busted clinton’s 2016 plans. she certainly did not even understand that people distrusted her. after whitewater, travelgate, the vast   conspiracy, benghazi, and the missing emails, clinton found herself the distrusted voice on friday. there was a load of compromising on the road to the broadening of her political horizons. and distrust from the american people —  trump edged her 48 percent to 38 percent on the question immediately prior to november’s election —  stood as a major reason for the closing of those horizons. clinton described her vanquisher and his supporters as embracing a “lie,” a “con,” “alternative facts,” and “a   assault on truth and reason. ” she failed to explain why the american people chose his lies over her truth. “as the history majors among you here today know all too well, when people in power invent their own facts and attack those who question them, it can mark the beginning of the end of a free society,” she offered. “that is not hyperbole. ” like so many people to emerge from the 1960s, hillary clinton embarked upon a long, strange trip. from high school goldwater girl and wellesley college republican president to democratic politician, clinton drank in the times and the place that gave her a degree. more significantly, she went from idealist to cynic, as a comparison of her two wellesley commencement addresses show. way back when, she lamented that “for too long our leaders have viewed politics as the art of the possible, and the challenge now is to practice politics as the art of making what appears to be impossible possible. ” now, as the big woman on campus but the odd woman out of the white house, she wonders how her current station is even possible. “why aren’t i 50 points ahead?” she asked in september. in may she asks why she isn’t president. the woman famously dubbed a “congenital liar” by bill safire concludes that lies did her in —  theirs, mind you, not hers. getting stood up on election day, like finding yourself the jilted bride on your wedding day, inspires dangerous delusions.',\n",
              " 'why the truth might get you fired why the truth might get you fired october 29, 2016 \\r\\nthe tension between intelligence analysts and political policymakers has always been between honest assessments and desired results, with the latter often overwhelming the former, as in the iraq war, writes lawrence davidson. \\r\\nby lawrence davidson \\r\\nfor those who might wonder why foreign policy makers repeatedly make bad choices, some insight might be drawn from the following analysis. the action here plays out in the united states, but the lessons are probably universal. \\r\\nback in the early spring of 2003, george w. bush initiated the invasion of iraq. one of his key public reasons for doing so was the claim that the country’s dictator, saddam hussein, was on the verge of developing nuclear weapons and was hiding other weapons of mass destruction. the real reason went beyond that charge and included a long-range plan for “regime change” in the middle east. president george w. bush and vice president dick cheney receive an oval office briefing from cia director george tenet. also present is chief of staff andy card (on right). (white house photo) \\r\\nfor our purposes, we will concentrate on the belief that iraq was about to become a hostile nuclear power. why did president bush and his close associates accept this scenario so readily? \\r\\nthe short answer is bush wanted, indeed needed, to believe it as a rationale for invading iraq. at first he had tried to connect saddam hussein to the 9/11 attacks on the u.s. though he never gave up on that stratagem, the lack of evidence made it difficult to rally an american people, already fixated on afghanistan, to support a war against baghdad. \\r\\nbut the nuclear weapons gambit proved more fruitful, not because there was any hard evidence for the charge, but because supposedly reliable witnesses, in the persons of exiled anti-saddam iraqis (many on the u.s. government’s payroll ), kept telling bush and his advisers that the nuclear story was true. \\r\\nwhat we had was a u.s. leadership cadre whose worldview literally demanded a mortally dangerous iraq, and informants who, in order to precipitate the overthrow of saddam, were willing to tell the tale of pending atomic weapons. the strong desire to believe the tale of a nuclear iraq lowered the threshold for proof . likewise, the repeated assertions by assumed dependable iraqi sources underpinned a nationwide u.s. campaign generating both fear and war fever. \\r\\nso the u.s. and its allies insisted that the united nations send in weapons inspectors to scour iraq for evidence of a nuclear weapons program (as well as chemical and biological weapons). that the inspectors could find no convincing evidence only frustrated the bush administration and soon forced its hand. \\r\\non march 19, 2003, bush launched the invasion of iraq with the expectation was that, once in occupation of the country, u.s. inspectors would surely find evidence of those nukes (or at least stockpiles of chemical and biological weapons). they did not. their iraqi informants had systematically lied to them. \\r\\nsocial and behavioral sciences to the rescue? \\r\\nthe various u.s. intelligence agencies were thoroughly shaken by this affair, and today, 13 years later, their directors and managers are still trying to sort it out – specifically, how to tell when they are getting “true” intelligence and when they are being lied to. or, as one intelligence worker has put it, we need “ help to protect us against armies of snake oil salesmen. ” to that end the cia et al. are in the market for academic assistance. ahmed chalabi, head of the iraqi national congress, a key supplier of iraqi defectors with bogus stories of hidden wmd. \\r\\na “partnership” is being forged between the office of the director of national intelligence (odni), which serves as the coordinating center for the sixteen independent u.s. intelligence agencies, and the national academies of sciences, engineering and medicine . the result of this collaboration will be a “ permanent intelligence community studies board” to coordinate programs in “social and behavioral science research [that] might strengthen national security .” \\r\\ndespite this effort, it is almost certain that the “social and behavioral sciences” cannot give the spy agencies what they want – a way of detecting lies that is better than their present standard procedures of polygraph tests and interrogations. but even if they could, it might well make no difference, because the real problem is not to be found with the liars. it is to be found with the believers. \\r\\nthe believers \\r\\nit is simply not true, as the odni leaders seem to assert, that u.s. intelligence agency personnel cannot tell, more often than not, that they are being lied to. this is the case because there are thousands of middle-echelon intelligence workers, desk officers, and specialists who know something closely approaching the truth – that is, they know pretty well what is going on in places like afghanistan, iraq, syria, libya, israel, palestine and elsewhere. director of national intelligence james clapper (right) talks with president barack obama in the oval office, with john brennan and other national security aides present. (photo credit: office of director of national intelligence) \\r\\ntherefore, if someone feeds them “snake oil,” they usually know it. however, having an accurate grasp of things is often to no avail because their superiors – those who got their appointments by accepting a pre-structured worldview – have different criterion for what is “true” than do the analysts. \\r\\nlisten to charles gaukel, of the national intelligence council – yet another organization that acts as a meeting ground for the 16 intelligence agencies. referring to the search for a way to avoid getting taken in by lies, gaukel has declared, “ we’re looking for truth. but we’re particularly looking for truth that works. ” now what might that mean? \\r\\ni can certainly tell you what it means historically. it means that for the power brokers, “truth” must match up, fit with, their worldview – their political and ideological precepts. if it does not fit, it does not “work.” so the intelligence specialists who send their usually accurate assessments up the line to the policy makers often hit a roadblock caused by “group think,” ideological blinkers, and a “we know better” attitude. \\r\\non the other hand, as long as what you’re selling the leadership matches up with what they want to believe, you can peddle them anything: imaginary iraqi nukes, israel as a western-style democracy, saudi arabia as an indispensable ally, libya as a liberated country, bashar al-assad as the real roadblock to peace in syria, the strategic defense initiative (sdi) aka star wars, a world that is getting colder and not warmer, american exceptionalism in all its glory – the list is almost endless. \\r\\nwhat does this sad tale tell us? if you want to spend millions of dollars on social and behavioral science research to improve the assessment and use of intelligence, forget about the liars. what you want to look for is an antidote to the narrow-mindedness of the believers – the policymakers who seem not to be able to rise above the ideological presumptions of their class – presumptions that underpin their self-confidence as they lead us all down slippery slopes. \\r\\nit has happened this way so often, and in so many places, that it is the source of shakespeare’s determination that “what is past, is prelude.” our elites play out our destinies as if they have no free will – no capacity to break with structured ways of seeing. yet the middle-echelon specialists keep sending their relatively accurate assessments up the ladder of power. hope springs eternal.',\n",
              " '15 civilians killed in single us airstrike have been identified videos 15 civilians killed in single us airstrike have been identified the rate at which civilians are being killed by american airstrikes in afghanistan is now higher than it was in 2014 when the us was engaged in active combat operations.   photo of hellfire missiles being loaded onto a us military reaper drone in afghanistan by staff sgt. brian ferguson/u.s. air force. \\r\\nthe bureau has been able to identify 15 civilians killed in a single us drone strike in afghanistan last month – the biggest loss of civilian life in one strike since the attack on the medecins sans frontieres hospital (msf) last october. \\r\\nthe us claimed it had conducted a “counter-terrorism” strike against islamic state (is) fighters when it hit nangarhar province with missiles on september 28. but the next day the united nations issued an unusually rapid and strong statement saying the strike had killed 15 civilians and injured 13 others who had gathered at a house to celebrate a tribal elder’s return from a pilgrimage to mecca. \\r\\nthe bureau spoke to a man named haji rais who said he was the owner of the house that was targeted. he said 15 people were killed and 19 others injured, and provided their names (listed below). the bureau was able to independently verify the identities of those who died. \\r\\nrais’ son, a headmaster at a local school, was among them. another man, abdul hakim, lost three of his sons in the attack. \\r\\nrais said he had no involvement with is and denied us claims that is members had visited his house before the strike. he said: “i did not even speak to those sort of people on the phone let alone receiving them in my house.” \\r\\nthe deaths amount to the biggest confirmed loss of civilian life in a single american strike in afghanistan since the attack on the msf hospital in kunduz last october, which killed at least 42 people. \\r\\nthe nangarhar strike was not the only us attack to kill civilians in september. the bureau’s data indicates that as many as 45 civilians and allied soldiers were killed in four american strikes in afghanistan and somalia that month. \\r\\non september 18 a pair of strikes killed eight afghan policemen in tarinkot, the capital of urozgan provice. us jets reportedly hit a police checkpoint, killing one officer, before returning to target first responders. the use of this tactic – known as a “double-tap” strike – is controversial because they often hit civilian rescuers. \\r\\nthe us told the bureau it had conducted the strike against individuals firing on and posing a threat to afghan forces. the email did not directly address the allegations of afghan policemen being killed. \\r\\nat the end of the month in somalia, citizens burnt us flags on the streets of the north-central city of galcayo after it emerged a drone attack may have unintentionally killed 22 somali soldiers and civilians. the strike occurred on the same day as the one in nangarhar. \\r\\nin both the somali and afghan incidents, the us at first denied that any non-combatants had been killed. it is now investigating both the strikes in nangarhar and galcayo. \\r\\nthe rate at which civilians are being killed by american airstrikes in afghanistan is now higher than it was in 2014 when the us was engaged in active combat operations. name',\n",
              " 'iranian woman jailed for fictional unpublished story about woman stoned to death for adultery print \\r\\nan iranian woman has been sentenced to six years in prison after iran’s revolutionary guard searched her home and found a notebook that contained a fictional story she’d written about a woman who was stoned to death, according to the eurasia review . \\r\\ngolrokh ebrahimi iraee, 35, is the wife of political prisoner arash sadeghi, 36, who is serving a 19-year prison sentence for being a human rights activist, the publication reported. \\r\\n“when the intelligence unit of the revolutionary guards came to arrest her husband, they raided their apartment – without a warrant – and found drafts of stories that ebrahimi iraee had written,” the article stated. \\r\\n“one of the confiscated drafts was a story about stoning women to death for adultery – never published, never presented to anyone,” the article stated. “the narrative followed the story of a protagonist that watched a movie about stoning of women under islamic law for adultery.']"
            ]
          },
          "metadata": {
            "tags": []
          },
          "execution_count": 13
        }
      ]
    },
    {
      "cell_type": "markdown",
      "metadata": {
        "id": "tIU7xWnHGuZb"
      },
      "source": [
        "REMOVING ALL NON-ALPHABETS"
      ]
    },
    {
      "cell_type": "code",
      "metadata": {
        "id": "uQ08d2KZEpdW"
      },
      "source": [
        "def cleandata(s):\n",
        "    replaced = re.sub(\"[^a-zA-Z' ]+\", '', s)\n",
        "    return replaced"
      ],
      "execution_count": 14,
      "outputs": []
    },
    {
      "cell_type": "code",
      "metadata": {
        "id": "-6wBO68gFyZ6"
      },
      "source": [
        "X_re = [cleandata(x) for x in X_lower]"
      ],
      "execution_count": 15,
      "outputs": []
    },
    {
      "cell_type": "code",
      "metadata": {
        "colab": {
          "base_uri": "https://localhost:8080/"
        },
        "id": "5ZxBUEZ7F2jd",
        "outputId": "74815640-3e95-4aec-99f1-6ea4b95412ad"
      },
      "source": [
        "len(X_re[0])"
      ],
      "execution_count": 16,
      "outputs": [
        {
          "output_type": "execute_result",
          "data": {
            "text/plain": [
              "4857"
            ]
          },
          "metadata": {
            "tags": []
          },
          "execution_count": 16
        }
      ]
    },
    {
      "cell_type": "markdown",
      "metadata": {
        "id": "CGJpbhFAHAsd"
      },
      "source": [
        "STOPWORD REMOVAL"
      ]
    },
    {
      "cell_type": "code",
      "metadata": {
        "id": "h0Wwut7-HDp-"
      },
      "source": [
        "import nltk\n",
        "from nltk.corpus import stopwords"
      ],
      "execution_count": 17,
      "outputs": []
    },
    {
      "cell_type": "code",
      "metadata": {
        "colab": {
          "base_uri": "https://localhost:8080/"
        },
        "id": "O1w9YZNyHUxn",
        "outputId": "c2fc3e1b-f4f9-4062-b608-763177818aca"
      },
      "source": [
        "nltk.download('stopwords')"
      ],
      "execution_count": 18,
      "outputs": [
        {
          "output_type": "stream",
          "text": [
            "[nltk_data] Downloading package stopwords to /root/nltk_data...\n",
            "[nltk_data]   Unzipping corpora/stopwords.zip.\n"
          ],
          "name": "stdout"
        },
        {
          "output_type": "execute_result",
          "data": {
            "text/plain": [
              "True"
            ]
          },
          "metadata": {
            "tags": []
          },
          "execution_count": 18
        }
      ]
    },
    {
      "cell_type": "code",
      "metadata": {
        "id": "13gS4TdOF7_L"
      },
      "source": [
        "stop = set(stopwords.words('english'))"
      ],
      "execution_count": 19,
      "outputs": []
    },
    {
      "cell_type": "code",
      "metadata": {
        "id": "gV-TfChUHSl3"
      },
      "source": [
        "def remove_stopwords(text):\n",
        "    final_text = []\n",
        "    for i in text.split():\n",
        "        if i.strip().lower() not in stop:\n",
        "            final_text.append(i.strip())\n",
        "    return \" \".join(final_text)"
      ],
      "execution_count": 20,
      "outputs": []
    },
    {
      "cell_type": "code",
      "metadata": {
        "id": "RsJiHskeHfjj"
      },
      "source": [
        "X_stop = [remove_stopwords(x) for x in X_re]"
      ],
      "execution_count": 21,
      "outputs": []
    },
    {
      "cell_type": "code",
      "metadata": {
        "colab": {
          "base_uri": "https://localhost:8080/"
        },
        "id": "Rr6Ukq0LH2zs",
        "outputId": "281cfbb0-9dcf-4c44-9d8a-752a100d847d"
      },
      "source": [
        "len(X_stop[0])"
      ],
      "execution_count": 22,
      "outputs": [
        {
          "output_type": "execute_result",
          "data": {
            "text/plain": [
              "3388"
            ]
          },
          "metadata": {
            "tags": []
          },
          "execution_count": 22
        }
      ]
    },
    {
      "cell_type": "code",
      "metadata": {
        "id": "dY7qh98ZJ6yN"
      },
      "source": [
        "df = pd.DataFrame(list(zip(X_stop, y)),\n",
        "               columns =['text', 'label'])"
      ],
      "execution_count": 23,
      "outputs": []
    },
    {
      "cell_type": "code",
      "metadata": {
        "id": "mOPWItwJKO53"
      },
      "source": [
        "df.to_csv(r'/content/drive/MyDrive/MSc Project/Data/USABLE/dataset1+3_preprocessed.csv')"
      ],
      "execution_count": 24,
      "outputs": []
    },
    {
      "cell_type": "code",
      "metadata": {
        "id": "qb4RsGPHKaju"
      },
      "source": [
        ""
      ],
      "execution_count": null,
      "outputs": []
    }
  ]
}