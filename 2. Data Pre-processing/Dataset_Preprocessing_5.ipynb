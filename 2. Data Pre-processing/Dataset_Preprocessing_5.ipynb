{
  "nbformat": 4,
  "nbformat_minor": 0,
  "metadata": {
    "colab": {
      "name": "Dataset_Preprocessing 5.ipynb",
      "provenance": [],
      "collapsed_sections": []
    },
    "kernelspec": {
      "display_name": "Python 3",
      "name": "python3"
    },
    "accelerator": "GPU"
  },
  "cells": [
    {
      "cell_type": "code",
      "metadata": {
        "id": "Se70B2pQrZLZ"
      },
      "source": [
        "import pandas as pd\n",
        "import tensorflow as tf\n",
        "import numpy as np\n",
        "from tensorflow.keras.preprocessing.sequence import pad_sequences\n",
        "from numpy import array\n",
        "from keras.preprocessing.text import one_hot\n",
        "from keras.layers.embeddings import Embedding\n",
        "from numpy import asarray\n",
        "from numpy import zeros\n",
        "import keras"
      ],
      "execution_count": 1,
      "outputs": []
    },
    {
      "cell_type": "code",
      "metadata": {
        "colab": {
          "base_uri": "https://localhost:8080/"
        },
        "id": "S6RZ3TnI0LDZ",
        "outputId": "fd2a44dd-2edd-4481-a489-d5e4e91eafb5"
      },
      "source": [
        "from google.colab import drive\n",
        "drive.mount('/content/drive')"
      ],
      "execution_count": 2,
      "outputs": [
        {
          "output_type": "stream",
          "text": [
            "Mounted at /content/drive\n"
          ],
          "name": "stdout"
        }
      ]
    },
    {
      "cell_type": "code",
      "metadata": {
        "id": "aTA5RNVhjnIL"
      },
      "source": [
        "df = pd.read_csv(r\"/content/drive/MyDrive/MSc Project/Data/dataset5.csv\")"
      ],
      "execution_count": 52,
      "outputs": []
    },
    {
      "cell_type": "code",
      "metadata": {
        "colab": {
          "base_uri": "https://localhost:8080/",
          "height": 419
        },
        "id": "b4xIr06dpqaG",
        "outputId": "307da16c-7357-4609-949d-30bdaa5a1abb"
      },
      "source": [
        "df"
      ],
      "execution_count": 53,
      "outputs": [
        {
          "output_type": "execute_result",
          "data": {
            "text/html": [
              "<div>\n",
              "<style scoped>\n",
              "    .dataframe tbody tr th:only-of-type {\n",
              "        vertical-align: middle;\n",
              "    }\n",
              "\n",
              "    .dataframe tbody tr th {\n",
              "        vertical-align: top;\n",
              "    }\n",
              "\n",
              "    .dataframe thead th {\n",
              "        text-align: right;\n",
              "    }\n",
              "</style>\n",
              "<table border=\"1\" class=\"dataframe\">\n",
              "  <thead>\n",
              "    <tr style=\"text-align: right;\">\n",
              "      <th></th>\n",
              "      <th>text</th>\n",
              "      <th>label</th>\n",
              "    </tr>\n",
              "  </thead>\n",
              "  <tbody>\n",
              "    <tr>\n",
              "      <th>0</th>\n",
              "      <td>Four ways Bob Corker skewered Donald Trump Ima...</td>\n",
              "      <td>0</td>\n",
              "    </tr>\n",
              "    <tr>\n",
              "      <th>1</th>\n",
              "      <td>Linklater's war veteran comedy speaks to moder...</td>\n",
              "      <td>0</td>\n",
              "    </tr>\n",
              "    <tr>\n",
              "      <th>2</th>\n",
              "      <td>Trump’s Fight With Corker Jeopardizes His Legi...</td>\n",
              "      <td>0</td>\n",
              "    </tr>\n",
              "    <tr>\n",
              "      <th>3</th>\n",
              "      <td>Egypt's Cheiron wins tie-up with Pemex for Mex...</td>\n",
              "      <td>0</td>\n",
              "    </tr>\n",
              "    <tr>\n",
              "      <th>4</th>\n",
              "      <td>Jason Aldean opens 'SNL' with Vegas tribute Co...</td>\n",
              "      <td>0</td>\n",
              "    </tr>\n",
              "    <tr>\n",
              "      <th>...</th>\n",
              "      <td>...</td>\n",
              "      <td>...</td>\n",
              "    </tr>\n",
              "    <tr>\n",
              "      <th>3983</th>\n",
              "      <td>CNN and Globalist Exposed - Steve Quayle and A...</td>\n",
              "      <td>1</td>\n",
              "    </tr>\n",
              "    <tr>\n",
              "      <th>3984</th>\n",
              "      <td>Trends to Watch Trends to Watch\\r\\n% of reader...</td>\n",
              "      <td>1</td>\n",
              "    </tr>\n",
              "    <tr>\n",
              "      <th>3985</th>\n",
              "      <td>Trump Jr. Is Soon To Give A 30-Minute Speech F...</td>\n",
              "      <td>1</td>\n",
              "    </tr>\n",
              "    <tr>\n",
              "      <th>3986</th>\n",
              "      <td>China to accept overseas trial data in bid to ...</td>\n",
              "      <td>0</td>\n",
              "    </tr>\n",
              "    <tr>\n",
              "      <th>3987</th>\n",
              "      <td>Vice President Mike Pence Leaves NFL Game Beca...</td>\n",
              "      <td>1</td>\n",
              "    </tr>\n",
              "  </tbody>\n",
              "</table>\n",
              "<p>3988 rows × 2 columns</p>\n",
              "</div>"
            ],
            "text/plain": [
              "                                                   text  label\n",
              "0     Four ways Bob Corker skewered Donald Trump Ima...      0\n",
              "1     Linklater's war veteran comedy speaks to moder...      0\n",
              "2     Trump’s Fight With Corker Jeopardizes His Legi...      0\n",
              "3     Egypt's Cheiron wins tie-up with Pemex for Mex...      0\n",
              "4     Jason Aldean opens 'SNL' with Vegas tribute Co...      0\n",
              "...                                                 ...    ...\n",
              "3983  CNN and Globalist Exposed - Steve Quayle and A...      1\n",
              "3984  Trends to Watch Trends to Watch\\r\\n% of reader...      1\n",
              "3985  Trump Jr. Is Soon To Give A 30-Minute Speech F...      1\n",
              "3986  China to accept overseas trial data in bid to ...      0\n",
              "3987  Vice President Mike Pence Leaves NFL Game Beca...      1\n",
              "\n",
              "[3988 rows x 2 columns]"
            ]
          },
          "metadata": {
            "tags": []
          },
          "execution_count": 53
        }
      ]
    },
    {
      "cell_type": "code",
      "metadata": {
        "colab": {
          "base_uri": "https://localhost:8080/",
          "height": 350
        },
        "id": "nkGvBczhpILZ",
        "outputId": "d433aad8-5e1b-4fc8-9ab9-3f4fea73a1a2"
      },
      "source": [
        "import seaborn as sns\n",
        "sns.set_style(\"darkgrid\")\n",
        "sns.countplot(df.label)"
      ],
      "execution_count": 54,
      "outputs": [
        {
          "output_type": "stream",
          "text": [
            "/usr/local/lib/python3.7/dist-packages/seaborn/_decorators.py:43: FutureWarning: Pass the following variable as a keyword arg: x. From version 0.12, the only valid positional argument will be `data`, and passing other arguments without an explicit keyword will result in an error or misinterpretation.\n",
            "  FutureWarning\n"
          ],
          "name": "stderr"
        },
        {
          "output_type": "execute_result",
          "data": {
            "text/plain": [
              "<matplotlib.axes._subplots.AxesSubplot at 0x7fb9b2ed7c50>"
            ]
          },
          "metadata": {
            "tags": []
          },
          "execution_count": 54
        },
        {
          "output_type": "display_data",
          "data": {
            "image/png": "[encoded data removed]",
            "text/plain": [
              "<Figure size 432x288 with 1 Axes>"
            ]
          },
          "metadata": {
            "tags": []
          }
        }
      ]
    },
    {
      "cell_type": "code",
      "metadata": {
        "id": "x58IP_9PEZH2"
      },
      "source": [
        "X = df['text'].to_list()\n",
        "y = df['label'].to_list()"
      ],
      "execution_count": 55,
      "outputs": []
    },
    {
      "cell_type": "markdown",
      "metadata": {
        "id": "y5SwMOVBIuHz"
      },
      "source": [
        "**PRE-PROCESSING OF DATA**"
      ]
    },
    {
      "cell_type": "markdown",
      "metadata": {
        "id": "iLVcAJePIJfu"
      },
      "source": [
        "REMOVING URLs"
      ]
    },
    {
      "cell_type": "code",
      "metadata": {
        "id": "96ILHfLCpzkh"
      },
      "source": [
        "import re"
      ],
      "execution_count": 56,
      "outputs": []
    },
    {
      "cell_type": "code",
      "metadata": {
        "id": "lrfyLuyRIINs"
      },
      "source": [
        "# Removing URL's\n",
        "def remove_url(text):\n",
        "    return re.sub(r'http\\S+', '', text)"
      ],
      "execution_count": 57,
      "outputs": []
    },
    {
      "cell_type": "code",
      "metadata": {
        "id": "SMEdHxfyIYH2"
      },
      "source": [
        "X_url = [remove_url(x) for x in X]"
      ],
      "execution_count": 58,
      "outputs": []
    },
    {
      "cell_type": "markdown",
      "metadata": {
        "id": "0rxp4A8LEtcy"
      },
      "source": [
        "LOWERCASING"
      ]
    },
    {
      "cell_type": "code",
      "metadata": {
        "id": "1rGJRK9GEeGb"
      },
      "source": [
        "X_lower = [x.lower() for x in X_url]"
      ],
      "execution_count": 59,
      "outputs": []
    },
    {
      "cell_type": "code",
      "metadata": {
        "colab": {
          "base_uri": "https://localhost:8080/"
        },
        "id": "IHS2dNm3GW3M",
        "outputId": "525c8987-3dab-44ce-cb3f-e15145a47fea"
      },
      "source": [
        "X_lower[:5]"
      ],
      "execution_count": 60,
      "outputs": [
        {
          "output_type": "execute_result",
          "data": {
            "text/plain": [
              "['four ways bob corker skewered donald trump image copyright getty images\\r\\non sunday morning, donald trump went off on a twitter tirade against a member of his own party.\\r\\nthis, in itself, isn\\'t exactly huge news. it\\'s far from the first time the president has turned his rhetorical cannons on his own ranks.\\r\\nthis time, however, his attacks were particularly biting and personal. he essentially called tennessee senator bob corker, the chair of the powerful senate foreign relations committee, a coward for not running for re-election.\\r\\nhe said mr corker \"begged\" for the president\\'s endorsement, which he refused to give. he wrongly claimed that mr corker\\'s support of the iranian nuclear agreement was his only political accomplishment.\\r\\nunlike some of his colleagues, mr corker - free from having to worry about his immediate political future - didn\\'t hold his tongue.\\r\\nskip twitter post by @senbobcorker it\\'s a shame the white house has become an adult day care center. someone obviously missed their shift this morning. — senator bob corker (@senbobcorker) october 8, 2017 report\\r\\nthat wasn\\'t the end of it, though. he then spoke with the new york times and really let the president have it. here are four choice quotes from the tennessee senator\\'s interview with the times and why they are particularly damning.\\r\\n\"i don\\'t know why the president tweets out things that are not true. you know he does it, everyone knows he does it, but he does.\"\\r\\nyou can\\'t really sugarcoat this one. mr corker is flat-out saying the president is a liar - and everyone knows it.\\r\\nthe senator, in particular, is challenging mr trump\\'s insistence that he unsuccessfully pleaded for his endorsement, but the accusation is much broader.\\r\\nmr corker and the president used to be something akin to allies. the tennessean was on mr trump\\'s short list for vice-president and secretary of state.\\r\\nimage copyright getty images image caption bob corker at trump campaign rally in july 2016\\r\\nthose days are seemingly very much over now - and it\\'s not like mr corker is going anywhere anytime soon. although he\\'s not running for re-election, he\\'ll be in the senate, chairing a powerful committee, until january 2019.\\r\\nthe president\\'s margin for success in that chamber is razor-thin. if democrats can continue to stand together in opposition, he can afford to lose only two votes out of 52 republican senators. that\\'s why healthcare reform collapsed in july - and it could be bad news for tax efforts.\\r\\nfrom here on out, mr corker isn\\'t going to do the president any favours.\\r\\n\"look, except for a few people, the vast majority of our caucus understands what we\\'re dealing with here.\"\\r\\nfrustration in congress has been growing over what republicans feel has been the president\\'s inability to focus on advancing their agenda. getting a sharply divided party to come together on plans to repeal obamacare, reform taxes or boost infrastructure spending is challenging enough. doing so when the president stirs up unrelated controversies on a seemingly daily basis makes things all the harder.\\r\\none of the president\\'s gifts has been his ability to shake off negative stories by quickly moving on to a different subject. that worked brilliantly during his presidential campaign, but it\\'s less effective during the legislative slow grind.\\r\\nimage copyright getty images image caption corker at the confirmation hearing for secretary of state rex tillerson\\r\\nfor months, republicans in congress have been grumbling about this in the background and among themselves. occasionally, someone like mr mcconnell will lament that the president doesn\\'t understand how the senate works.\\r\\nmr corker has now stated it loud and clear. and, what\\'s more, he says almost everyone agrees with him. they\\'ve kept silent until now because they still hope to pass conservative legislation that the president can sign or fear mr trump\\'s legions will back a primary challenge next year or stay home during the general election.\\r\\nif that calculus ever changes - if it becomes riskier to stay silent than speak out - mr trump will be in real trouble.\\r\\n\"a lot of people think that there is some kind of \\'good cop, bad cop\\' act underway, but that\\'s just not true.\"\\r\\ntime and again, mr trump has appeared to undercut secretary of state rex tillerson and others in his administration who are attempting to use soft diplomacy to deal with a range of international crises.\\r\\nthe war against the taliban in afghanistan, iran\\'s compliance with the multinational nuclear agreement, the ongoing dispute between qatar and its persian gulf neighbours, the unrest in venezuela and, most recently, north korea\\'s continued ballistic missile tests have all been the target of the president\\'s offhand remarks and twitter invective.\\r\\nsome administration defenders have said this is all a part of mr trump\\'s strategy - an updated version of the nixon-era \"madman theory\", in which the president forces adversaries to give way because they fear an unpredictable us leader\\'s actions.\\r\\nmr corker isn\\'t buying it. there\\'s no strategy, he says, just the possibility of chaos - which he hopes mr trump\\'s senior advisers will be able to avoid.\\r\\n\"i know for a fact that every single day at the white house, it\\'s a situation of trying to contain him.\"\\r\\nthere\\'s now a growing collection of john kelly face-palm photos that serve as a testament to the chief-of-staff\\'s reported frustration at dealing with the president.\\r\\nmr trump goes off-script to praise torch-bearing white nationalists at a rally in charlottesville, and mr kelly is captured closing his eyes and rubbing the arch of his nose, as if attempting to stave off a migraine.\\r\\nimage copyright reuters image caption white house chief of staff john kelly looks on as us president donald trump speaks at a campaign rally\\r\\nthe president calls north korean leaders \"criminals\" in a speech to the united nations, and mr kelly straight-up buries his face in his hands.\\r\\nthe white house communications team is often left scrambling to try to explain or reframe an indelicate presidential \"joke\" or remark that directly contradicts what was until then the official administration line.\\r\\neven though mr kelly has brought some discipline to the west wing staff, the president still marches to the beat of his own drum - and continues to have unfettered access to his phone\\'s twitter app.\\r\\nbob corker is only the latest person - politician, journalist, sports star or celebrity - to feel the mercurial president\\'s uncontainable ire.',\n",
              " 'linklater\\'s war veteran comedy speaks to modern america, says star london (reuters) - “last flag flying”, a comedy-drama about vietnam war veterans, will resonate with trump’s america, despite, or perhaps because of, its period setting, actor bryan cranston said on sunday after a screening at the london film festival.\\r\\nset in the united states in december 2003 – when u.s. forces in iraq were dragging saddam hussein out of a “spider hole” - it is the story of three ageing former servicemen who reunite to bury the son of one of them who has been killed in action.\\r\\nwith president donald trump saying he could “totally destroy” north korea and characterizing a dinner with military commanders as “the calm before the storm”, cranston said “last flag flying” was a timely reminder of the effect on normal americans of ill-advised military campaigns.\\r\\n“i think it has a lot of relevance today in the sense that (today) it’s not clear cut as far as the (what are the) intentions of the government or military,” cranston, acclaimed for his lead role in the tv drama “breaking bad”, told reuters.\\r\\n“in world war two, it was the ‘good war’, it was clear and present danger, we had to stop this mad man. since then, with vietnam and iraq, (there are) a lot of questions ... among the troops and the citizens as to if we are doing the right thing and what is the purpose of our being there.”\\r\\ncast member bryan cranston (r) and director richard linklater pose with festival director claire stewart as they arrive for the premiere of \"last flag flying\" during the british film institute (bfi) london film festival at the odeon, leicester square, in london, britain october 8, 2017. reuters/afolabi sotunde\\r\\n“last flag flying” was produced by amazon studios and directed and co-written by richard linklater, whose greatest critical acclaim has been for the naturalistic “before sunset” trilogy and the 2014 “boyhood” which won a slew of oscar nominations.\\r\\nlinklater also made comedies including “school of rock” and “everybody wants some!!”, about skirt-chasing undergraduates. “last flag flying” falls somewhere between the two genres.\\r\\ncast member bryan cranston (r) poses with director richard linklater as they arrive for the premiere of \"last flag flying\" during the british film institute (bfi) london film festival at the odeon, leicester square, in london, britain october 8, 2017. reuters/afolabi sotunde\\r\\nthe drama and comedy stem from the chemistry between the three leads, each played by a big hollywood name.\\r\\nsteve carell is the awkward shy one who, we assume, was quiet and withdrawn even before the loss of his son. cranston plays a foul-mouthed, hard-drinking bar owner who is his own best customer, and laurence fishburne, is a man who has found god and become an evangelical preacher, preferring to forget the sex and drugs they all indulged in back in ‘nam.\\r\\nvanity fair’s richard lawson said the film’s ability to honor the footsoldiers while being critical of the wars they are sent to fight, could hit “an academy sweet spot, satisfying both the more conservative oldsters and the younger, leftier types.”\\r\\nother critics said “last flag flying” lacked the light touch of linklater’s best work. the guardian’s benjamin lee called it “a half-baked tv movie masquerading as oscarbait, a curious misstep for the oscar-nominated indie auteur”.\\r\\nwriting by robin pomeroy, editing by david evans',\n",
              " \"trump’s fight with corker jeopardizes his legislative agenda the feud broke into public view last week when mr. corker said that mr. trump’s advisers were guarding against “chaos.” the president retaliated on sunday by saying the retiring senator “didn’t have the guts to run” for another term. mr. corker responded on twitter an hour later, saying that the white house had become an “adult day care center.”\\r\\nhe then unloaded in an interview with the new york times, saying in public what many of his republican colleagues say in private — that the president is dangerously erratic, treats his high office like “a reality show,” has to be contained by his staff and is reckless enough to put the country “on the path to world war iii.”\\r\\nmr. corker, a moderate by temperament as well as ideology, had measured his occasional criticisms of mr. trump for months in hopes of influencing his foreign policy, but evidently feels liberated now that he has decided not to run for a third term.\\r\\nfew other incumbent republicans rushed to the microphones to echo his comments on monday, but several made little attempt to hide their irritation at mr. trump for attacking mr. corker.\\r\\n“he’s an important part of our team, and he’s a particularly important part of the budget debate, which will be on the floor next week,” mr. mcconnell said pointedly at an event in hazard, ky., with scott pruitt, the head of the environmental protection agency.\\r\\n“bob corker has been a leader in congress on issues as diverse as deficit reduction and combating terrorism, and he is a man of unwavering integrity,” senator rob portman, republican of ohio, said in a statement. “if we’re going to accomplish our economic and national security agenda we’re going to have to work together, period.”\\r\\nmr. mcconnell’s associates were blunter in expressing the leadership’s frustration with the president for disrupting party unity as republicans push for tax cuts. “this was going to be hard no matter what,” said billy piper, mr. mcconnell’s former chief of staff. “and he took the guy who was one of the linchpins of this and incinerated him for no reason.”\\r\\nadvertisement continue reading the main story\\r\\nthe white house spent monday telling allies that mr. corker was responsible for the fight, not mr. trump, and that the senator was an attention-seeking obstructionist.\\r\\nnewsletter sign up continue reading the main story please verify you're not a robot by clicking the box. invalid email address. please re-enter. you must select a newsletter to subscribe to. sign up you agree to receive occasional updates and special offers for the new york times's products and services. thank you for subscribing. an error has occurred. please try again later. view all new york times newsletters.\\r\\n“i find tweets like this to be incredibly irresponsible,” kellyanne conway, the president’s counselor, told fox news, referring to mr. corker’s posted response to mr. trump on sunday. “it adds to the insulting that the mainstream media and the president’s detractors — almost a year after this election, they still can’t accept the election results. it adds to their ability and their cover to speak about the president of the united states in ways that no president should be talked about.”\\r\\nvice president mike pence was left to defend mr. trump against what he called “empty rhetoric and baseless attacks,” saying the president had accomplished a lot internationally. “today our nation once again stands without apology as leader of the free world,” mr. pence said in a statement. “that’s what american leadership on the world stage looks like and no amount of criticism at home can diminish those results.”\\r\\nmr. trump has grown frustrated by senate republicans — including lashing out at mr. mcconnell for not getting the job done — as legislation to repeal president barack obama’s health care program has been repeatedly blocked. he has engaged in open conflicts with senators john mccain and jeff flake of arizona, lindsey graham of south carolina and lisa murkowski of alaska, among others, although just monday he went golfing with mr. graham.\\r\\nsome republican senators share mr. trump’s frustration with gridlock in the senate. “we want things to move quickly,” said senator thom tillis of north carolina, who was elected in 2014. “people are frustrated with the lack of results.”\\r\\nsenator david perdue of georgia, another member of the 2014 class, has been even more outspoken in venting about fellow republicans derailing health care legislation. “people are very upset that republican senators are not backing the agenda of this president,” he said.\\r\\nmr. trump’s former chief strategist, stephen k. bannon, acting in what he says is the president’s interest, is organizing a rebellion against the republican establishment and recruiting candidates to challenge incumbent senators in primaries next year. “this is what they think about president trump behind closed doors,” mr. bannon said on fox news on monday night, referring to mr. corker’s comments and calling on the senator to resign. mr. pence’s chief of staff has talked about a “purge” of republicans who are not loyal to mr. trump.\\r\\nthat may keep more republicans on board even if they agree with mr. corker.\\r\\n“do most senators have their doubts about the president?” asked john feehery, a longtime republican congressional aide. “that’s probably true, but also largely irrelevant. he’s the president, and they have to find ways to get stuff done with him. otherwise, they face the wrath of the voters — something bob corker no longer worries about.”\\r\\nin effect, mr. mccain, ms. murkowski and senator susan collins of maine already were free agents on many issues. regular defections by mr. corker would make the president’s ability to pass legislation that much harder, absent bipartisan deals with democrats.\\r\\nadvertisement continue reading the main story\\r\\nas chairman of the senate foreign relations committee, mr. corker could block the confirmation of a new secretary of state should mr. trump push out his embattled chief diplomat, rex w. tillerson. he also, presumably, would play a key role in any decision on whether to tear up the iran nuclear deal.\\r\\n“senate republicans’ frustrations with trump are starting to boil over,” said alex conant, a former senate republican aide. “i’m sure the feelings are mutual inside the white house. the relationship was always tenuous at best, but corker’s comments are a new low point.”\\r\\n“if they were getting a lot done, it would be easier for everyone to get along,” mr. conant said. “of course, the fact that they’re not getting along also makes it harder to get anything done.”\",\n",
              " \"egypt's cheiron wins tie-up with pemex for mexican onshore oil field mexico city (reuters) - egypt’s cheiron holdings limited won the rights to partner with mexican national oil company pemex on its onshore cardenas-mora project, the industry regulator said on wednesday.\\r\\nthe tie-up marks only the second joint venture between the pemex and a equity partner since an energy opening finalized in 2014 ended the company’s decades-long monopoly and allowed it to develop projects with private and foreign oil companies.\\r\\ncardenas-mora is a 65-square-mile (168 sq km) field located in tabasco state believed to contain 93 million barrels of oil equivalent (boe) in proven, probable and possible reserves.\",\n",
              " 'jason aldean opens \\'snl\\' with vegas tribute country singer jason aldean, who was performing as the las vegas shooting began, did the \"saturday night live\" cold open with a tribute to the victims and their families by singing tom petty\\'s \"i won\\'t back down.\"']"
            ]
          },
          "metadata": {
            "tags": []
          },
          "execution_count": 60
        }
      ]
    },
    {
      "cell_type": "markdown",
      "metadata": {
        "id": "tIU7xWnHGuZb"
      },
      "source": [
        "REMOVING ALL NON-ALPHABETS"
      ]
    },
    {
      "cell_type": "code",
      "metadata": {
        "id": "uQ08d2KZEpdW"
      },
      "source": [
        "def cleandata(s):\n",
        "    replaced = re.sub(\"[^a-zA-Z' ]+\", '', s)\n",
        "    return replaced"
      ],
      "execution_count": 61,
      "outputs": []
    },
    {
      "cell_type": "code",
      "metadata": {
        "id": "-6wBO68gFyZ6"
      },
      "source": [
        "X_re = [cleandata(x) for x in X_lower]"
      ],
      "execution_count": 62,
      "outputs": []
    },
    {
      "cell_type": "code",
      "metadata": {
        "colab": {
          "base_uri": "https://localhost:8080/"
        },
        "id": "5ZxBUEZ7F2jd",
        "outputId": "d9c27d4e-fcd0-4c6e-d533-e29d06c3f72b"
      },
      "source": [
        "len(X_re[0])"
      ],
      "execution_count": 63,
      "outputs": [
        {
          "output_type": "execute_result",
          "data": {
            "text/plain": [
              "6262"
            ]
          },
          "metadata": {
            "tags": []
          },
          "execution_count": 63
        }
      ]
    },
    {
      "cell_type": "markdown",
      "metadata": {
        "id": "CGJpbhFAHAsd"
      },
      "source": [
        "STOPWORD REMOVAL"
      ]
    },
    {
      "cell_type": "code",
      "metadata": {
        "id": "h0Wwut7-HDp-"
      },
      "source": [
        "import nltk\n",
        "from nltk.corpus import stopwords"
      ],
      "execution_count": 64,
      "outputs": []
    },
    {
      "cell_type": "code",
      "metadata": {
        "colab": {
          "base_uri": "https://localhost:8080/"
        },
        "id": "O1w9YZNyHUxn",
        "outputId": "0b5e9340-9b56-4bf5-d0f6-670b24f2035d"
      },
      "source": [
        "nltk.download('stopwords')"
      ],
      "execution_count": 65,
      "outputs": [
        {
          "output_type": "stream",
          "text": [
            "[nltk_data] Downloading package stopwords to /root/nltk_data...\n",
            "[nltk_data]   Package stopwords is already up-to-date!\n"
          ],
          "name": "stdout"
        },
        {
          "output_type": "execute_result",
          "data": {
            "text/plain": [
              "True"
            ]
          },
          "metadata": {
            "tags": []
          },
          "execution_count": 65
        }
      ]
    },
    {
      "cell_type": "code",
      "metadata": {
        "id": "13gS4TdOF7_L"
      },
      "source": [
        "stop = set(stopwords.words('english'))"
      ],
      "execution_count": 66,
      "outputs": []
    },
    {
      "cell_type": "code",
      "metadata": {
        "id": "gV-TfChUHSl3"
      },
      "source": [
        "def remove_stopwords(text):\n",
        "    final_text = []\n",
        "    for i in text.split():\n",
        "        if i.strip().lower() not in stop:\n",
        "            final_text.append(i.strip())\n",
        "    return \" \".join(final_text)"
      ],
      "execution_count": 67,
      "outputs": []
    },
    {
      "cell_type": "code",
      "metadata": {
        "id": "RsJiHskeHfjj"
      },
      "source": [
        "X_stop = [remove_stopwords(x) for x in X_re]"
      ],
      "execution_count": 68,
      "outputs": []
    },
    {
      "cell_type": "code",
      "metadata": {
        "colab": {
          "base_uri": "https://localhost:8080/"
        },
        "id": "Rr6Ukq0LH2zs",
        "outputId": "d599cd28-2d16-4eed-e1d3-8899c593126d"
      },
      "source": [
        "len(X_stop[0])"
      ],
      "execution_count": 69,
      "outputs": [
        {
          "output_type": "execute_result",
          "data": {
            "text/plain": [
              "4557"
            ]
          },
          "metadata": {
            "tags": []
          },
          "execution_count": 69
        }
      ]
    },
    {
      "cell_type": "code",
      "metadata": {
        "id": "dY7qh98ZJ6yN"
      },
      "source": [
        "df = pd.DataFrame(list(zip(X_stop, y)),\n",
        "               columns =['text', 'label'])"
      ],
      "execution_count": 70,
      "outputs": []
    },
    {
      "cell_type": "code",
      "metadata": {
        "id": "mOPWItwJKO53"
      },
      "source": [
        "df.to_csv(r'/content/drive/MyDrive/MSc Project/Data/dataset5_preprocessed.csv', index=False)"
      ],
      "execution_count": 71,
      "outputs": []
    },
    {
      "cell_type": "code",
      "metadata": {
        "id": "qb4RsGPHKaju",
        "colab": {
          "base_uri": "https://localhost:8080/",
          "height": 419
        },
        "outputId": "0c56b77b-ad07-41e2-9e1f-bdc1cdeefe51"
      },
      "source": [
        "url_saved = '/content/drive/MyDrive/MSc Project/Data/dataset5_preprocessed.csv'\n",
        "df_save = pd.read_csv(url_saved)\n",
        "df_save"
      ],
      "execution_count": 72,
      "outputs": [
        {
          "output_type": "execute_result",
          "data": {
            "text/html": [
              "<div>\n",
              "<style scoped>\n",
              "    .dataframe tbody tr th:only-of-type {\n",
              "        vertical-align: middle;\n",
              "    }\n",
              "\n",
              "    .dataframe tbody tr th {\n",
              "        vertical-align: top;\n",
              "    }\n",
              "\n",
              "    .dataframe thead th {\n",
              "        text-align: right;\n",
              "    }\n",
              "</style>\n",
              "<table border=\"1\" class=\"dataframe\">\n",
              "  <thead>\n",
              "    <tr style=\"text-align: right;\">\n",
              "      <th></th>\n",
              "      <th>text</th>\n",
              "      <th>label</th>\n",
              "    </tr>\n",
              "  </thead>\n",
              "  <tbody>\n",
              "    <tr>\n",
              "      <th>0</th>\n",
              "      <td>four ways bob corker skewered donald trump ima...</td>\n",
              "      <td>0</td>\n",
              "    </tr>\n",
              "    <tr>\n",
              "      <th>1</th>\n",
              "      <td>linklater's war veteran comedy speaks modern a...</td>\n",
              "      <td>0</td>\n",
              "    </tr>\n",
              "    <tr>\n",
              "      <th>2</th>\n",
              "      <td>trumps fight corker jeopardizes legislative ag...</td>\n",
              "      <td>0</td>\n",
              "    </tr>\n",
              "    <tr>\n",
              "      <th>3</th>\n",
              "      <td>egypt's cheiron wins tieup pemex mexican onsho...</td>\n",
              "      <td>0</td>\n",
              "    </tr>\n",
              "    <tr>\n",
              "      <th>4</th>\n",
              "      <td>jason aldean opens 'snl' vegas tribute country...</td>\n",
              "      <td>0</td>\n",
              "    </tr>\n",
              "    <tr>\n",
              "      <th>...</th>\n",
              "      <td>...</td>\n",
              "      <td>...</td>\n",
              "    </tr>\n",
              "    <tr>\n",
              "      <th>3983</th>\n",
              "      <td>cnn globalist exposed steve quayle alex jones ...</td>\n",
              "      <td>1</td>\n",
              "    </tr>\n",
              "    <tr>\n",
              "      <th>3984</th>\n",
              "      <td>trends watch trends watch readers think story ...</td>\n",
              "      <td>1</td>\n",
              "    </tr>\n",
              "    <tr>\n",
              "      <th>3985</th>\n",
              "      <td>trump jr soon give minute speech trump jr soon...</td>\n",
              "      <td>1</td>\n",
              "    </tr>\n",
              "    <tr>\n",
              "      <th>3986</th>\n",
              "      <td>china accept overseas trial data bid speed dru...</td>\n",
              "      <td>0</td>\n",
              "    </tr>\n",
              "    <tr>\n",
              "      <th>3987</th>\n",
              "      <td>vice president mike pence leaves nfl game anti...</td>\n",
              "      <td>1</td>\n",
              "    </tr>\n",
              "  </tbody>\n",
              "</table>\n",
              "<p>3988 rows × 2 columns</p>\n",
              "</div>"
            ],
            "text/plain": [
              "                                                   text  label\n",
              "0     four ways bob corker skewered donald trump ima...      0\n",
              "1     linklater's war veteran comedy speaks modern a...      0\n",
              "2     trumps fight corker jeopardizes legislative ag...      0\n",
              "3     egypt's cheiron wins tieup pemex mexican onsho...      0\n",
              "4     jason aldean opens 'snl' vegas tribute country...      0\n",
              "...                                                 ...    ...\n",
              "3983  cnn globalist exposed steve quayle alex jones ...      1\n",
              "3984  trends watch trends watch readers think story ...      1\n",
              "3985  trump jr soon give minute speech trump jr soon...      1\n",
              "3986  china accept overseas trial data bid speed dru...      0\n",
              "3987  vice president mike pence leaves nfl game anti...      1\n",
              "\n",
              "[3988 rows x 2 columns]"
            ]
          },
          "metadata": {
            "tags": []
          },
          "execution_count": 72
        }
      ]
    },
    {
      "cell_type": "code",
      "metadata": {
        "id": "Gu1NmjCLrfV7"
      },
      "source": [
        ""
      ],
      "execution_count": null,
      "outputs": []
    }
  ]
}