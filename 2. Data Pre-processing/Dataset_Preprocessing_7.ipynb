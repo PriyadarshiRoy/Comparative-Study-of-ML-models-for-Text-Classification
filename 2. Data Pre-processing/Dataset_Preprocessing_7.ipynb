{
  "nbformat": 4,
  "nbformat_minor": 0,
  "metadata": {
    "colab": {
      "name": "Dataset_Preprocessing_7.ipynb",
      "provenance": [],
      "collapsed_sections": []
    },
    "kernelspec": {
      "display_name": "Python 3",
      "name": "python3"
    },
    "accelerator": "GPU"
  },
  "cells": [
    {
      "cell_type": "code",
      "metadata": {
        "id": "Se70B2pQrZLZ"
      },
      "source": [
        "import pandas as pd\n",
        "import tensorflow as tf\n",
        "import numpy as np\n",
        "from tensorflow.keras.preprocessing.sequence import pad_sequences\n",
        "from numpy import array\n",
        "from keras.preprocessing.text import one_hot\n",
        "from keras.layers.embeddings import Embedding\n",
        "from numpy import asarray\n",
        "from numpy import zeros\n",
        "import keras"
      ],
      "execution_count": null,
      "outputs": []
    },
    {
      "cell_type": "code",
      "metadata": {
        "colab": {
          "base_uri": "https://localhost:8080/"
        },
        "id": "S6RZ3TnI0LDZ",
        "outputId": "4a772c59-e031-41d3-86ae-7bdf18654a32"
      },
      "source": [
        "from google.colab import drive\n",
        "drive.mount('/content/drive')"
      ],
      "execution_count": null,
      "outputs": [
        {
          "output_type": "stream",
          "text": [
            "Mounted at /content/drive\n"
          ],
          "name": "stdout"
        }
      ]
    },
    {
      "cell_type": "code",
      "metadata": {
        "id": "aTA5RNVhjnIL"
      },
      "source": [
        "df = pd.read_csv(r\"/content/drive/MyDrive/MSc Project/Data/dataset7.csv\")"
      ],
      "execution_count": null,
      "outputs": []
    },
    {
      "cell_type": "code",
      "metadata": {
        "colab": {
          "base_uri": "https://localhost:8080/",
          "height": 419
        },
        "id": "b4xIr06dpqaG",
        "outputId": "be541cc0-9e99-4028-ecb6-0ddea855dd9b"
      },
      "source": [
        "df"
      ],
      "execution_count": null,
      "outputs": [
        {
          "output_type": "execute_result",
          "data": {
            "text/html": [
              "<div>\n",
              "<style scoped>\n",
              "    .dataframe tbody tr th:only-of-type {\n",
              "        vertical-align: middle;\n",
              "    }\n",
              "\n",
              "    .dataframe tbody tr th {\n",
              "        vertical-align: top;\n",
              "    }\n",
              "\n",
              "    .dataframe thead th {\n",
              "        text-align: right;\n",
              "    }\n",
              "</style>\n",
              "<table border=\"1\" class=\"dataframe\">\n",
              "  <thead>\n",
              "    <tr style=\"text-align: right;\">\n",
              "      <th></th>\n",
              "      <th>text</th>\n",
              "      <th>label</th>\n",
              "    </tr>\n",
              "  </thead>\n",
              "  <tbody>\n",
              "    <tr>\n",
              "      <th>0</th>\n",
              "      <td>muslims busted they stole millions in govt ben...</td>\n",
              "      <td>0</td>\n",
              "    </tr>\n",
              "    <tr>\n",
              "      <th>1</th>\n",
              "      <td>re why did attorney general loretta lynch plea...</td>\n",
              "      <td>0</td>\n",
              "    </tr>\n",
              "    <tr>\n",
              "      <th>2</th>\n",
              "      <td>breaking weiner cooperating with fbi on hillar...</td>\n",
              "      <td>0</td>\n",
              "    </tr>\n",
              "    <tr>\n",
              "      <th>3</th>\n",
              "      <td>pin drop speech by father of daughter kidnappe...</td>\n",
              "      <td>0</td>\n",
              "    </tr>\n",
              "    <tr>\n",
              "      <th>4</th>\n",
              "      <td>fantastic trumps  point plan to reform healthc...</td>\n",
              "      <td>0</td>\n",
              "    </tr>\n",
              "    <tr>\n",
              "      <th>...</th>\n",
              "      <td>...</td>\n",
              "      <td>...</td>\n",
              "    </tr>\n",
              "    <tr>\n",
              "      <th>2040</th>\n",
              "      <td>why never trumpers must reconsider prof canoes...</td>\n",
              "      <td>0</td>\n",
              "    </tr>\n",
              "    <tr>\n",
              "      <th>2041</th>\n",
              "      <td>election crossroads socialism or capitalism te...</td>\n",
              "      <td>0</td>\n",
              "    </tr>\n",
              "    <tr>\n",
              "      <th>2042</th>\n",
              "      <td>reasons ill vote for trump school named for mu...</td>\n",
              "      <td>0</td>\n",
              "    </tr>\n",
              "    <tr>\n",
              "      <th>2043</th>\n",
              "      <td>our new country women and minorities hit harde...</td>\n",
              "      <td>0</td>\n",
              "    </tr>\n",
              "    <tr>\n",
              "      <th>2044</th>\n",
              "      <td>trump vs clinton a risk vs a disaster check ou...</td>\n",
              "      <td>0</td>\n",
              "    </tr>\n",
              "  </tbody>\n",
              "</table>\n",
              "<p>2045 rows × 2 columns</p>\n",
              "</div>"
            ],
            "text/plain": [
              "                                                   text  label\n",
              "0     muslims busted they stole millions in govt ben...      0\n",
              "1     re why did attorney general loretta lynch plea...      0\n",
              "2     breaking weiner cooperating with fbi on hillar...      0\n",
              "3     pin drop speech by father of daughter kidnappe...      0\n",
              "4     fantastic trumps  point plan to reform healthc...      0\n",
              "...                                                 ...    ...\n",
              "2040  why never trumpers must reconsider prof canoes...      0\n",
              "2041  election crossroads socialism or capitalism te...      0\n",
              "2042  reasons ill vote for trump school named for mu...      0\n",
              "2043  our new country women and minorities hit harde...      0\n",
              "2044  trump vs clinton a risk vs a disaster check ou...      0\n",
              "\n",
              "[2045 rows x 2 columns]"
            ]
          },
          "metadata": {
            "tags": []
          },
          "execution_count": 4
        }
      ]
    },
    {
      "cell_type": "code",
      "metadata": {
        "colab": {
          "base_uri": "https://localhost:8080/",
          "height": 350
        },
        "id": "nkGvBczhpILZ",
        "outputId": "421ddd2f-257c-4f56-b889-b81b781af548"
      },
      "source": [
        "import seaborn as sns\n",
        "sns.set_style(\"darkgrid\")\n",
        "sns.countplot(df.label)"
      ],
      "execution_count": null,
      "outputs": [
        {
          "output_type": "stream",
          "text": [
            "/usr/local/lib/python3.7/dist-packages/seaborn/_decorators.py:43: FutureWarning: Pass the following variable as a keyword arg: x. From version 0.12, the only valid positional argument will be `data`, and passing other arguments without an explicit keyword will result in an error or misinterpretation.\n",
            "  FutureWarning\n"
          ],
          "name": "stderr"
        },
        {
          "output_type": "execute_result",
          "data": {
            "text/plain": [
              "<matplotlib.axes._subplots.AxesSubplot at 0x7f3530a9ca90>"
            ]
          },
          "metadata": {
            "tags": []
          },
          "execution_count": 5
        },
        {
          "output_type": "display_data",
          "data": {
            "image/png": "[encoded data removed]",
            "text/plain": [
              "<Figure size 432x288 with 1 Axes>"
            ]
          },
          "metadata": {
            "tags": []
          }
        }
      ]
    },
    {
      "cell_type": "code",
      "metadata": {
        "id": "x58IP_9PEZH2"
      },
      "source": [
        "X = df['text'].to_list()\n",
        "y = df['label'].to_list()"
      ],
      "execution_count": null,
      "outputs": []
    },
    {
      "cell_type": "code",
      "metadata": {
        "colab": {
          "base_uri": "https://localhost:8080/"
        },
        "id": "MzIsBL12aA-p",
        "outputId": "b63c3461-0ed5-4765-976a-3512461ecc45"
      },
      "source": [
        "X[:5]"
      ],
      "execution_count": null,
      "outputs": [
        {
          "output_type": "execute_result",
          "data": {
            "text/plain": [
              "['muslims busted they stole millions in govt benefits print they should pay all the back all the money plus interest the entire family and everyone who came in with them need to be deported asap why did it take two years to bust them \\nhere we go again another group stealing from the government and taxpayers a group of somalis stole over four million in government benefits over just  months \\nweve reported on numerous cases like this one where the muslim refugeesimmigrants commit fraud by scamming our systemits way out of control more related',\n",
              " 're why did attorney general loretta lynch plead the fifth why did attorney general loretta lynch plead the fifth barracuda brigade  print the administration is blocking congressional probe into cash payments to iran of course she needs to plead the th she either cant recall refuses to answer or just plain deflects the question straight up corruption at its finest \\npercentfedupcom  talk about covering your ass loretta lynch did just that when she plead the fifth to avoid incriminating herself over payments to irancorrupt to the core attorney general loretta lynch is declining to comply with an investigation by leading members of congress about the obama administrations secret efforts to send iran  billion in cash earlier this year prompting accusations that lynch has pleaded the fifth amendment to avoid incriminating herself over these payments according to lawmakers and communications exclusively obtained by the washington free beacon \\nsen marco rubio r fla and rep mike pompeo r kan initially presented lynch in october with a series of questions about how the cash payment to iran was approved and delivered \\nin an oct  response assistant attorney general peter kadzik responded on lynchs behalf refusing to answer the questions and informing the lawmakers that they are barred from publicly disclosing any details about the cash payment which was bound up in a ransom deal aimed at freeing several american hostages from iran \\nthe response from the attorney generals office is unacceptable and provides evidence that lynch has chosen to essentially plead the fifth and refuse to respond to inquiries regarding herrole in providing cash to the worlds foremost state sponsor of terrorism rubio and pompeo wrote on friday in a followup letter to lynch more related',\n",
              " 'breaking weiner cooperating with fbi on hillary email investigation red state  \\nfox news sunday reported this morning that anthony weiner is cooperating with the fbi which has reopened yes lefties reopened the investigation into hillary clintons classified emails watch as chris wallace reports the breaking news during the panel segment near the end of the show \\nand the news is breaking while were on the air our colleague bret baier has just sent us an email saying he has two sources who say that anthony weiner who also had coownership of that laptop with his estranged wife huma abedin is cooperating with the fbi investigation had given them the laptop so therefore they didnt need a warrant to get in to see the contents of said laptop pretty interesting development \\ntargets of federal investigations will often cooperate hoping that they will get consideration from a judge at sentencing given weiners wellknown penchant for lying its hard to believe that a prosecutor would give weiner a deal based on an agreement to testify unless his testimony were very strongly corroborated by hard evidence but cooperation can take many forms  and as wallace indicated on this mornings show one of those forms could be signing a consent form to allow   the contents of devices that they could probably get a warrant for anyway well see if weiners cooperation extends beyond that more related',\n",
              " 'pin drop speech by father of daughter kidnapped and killed by isis i have voted for donald j trump  percentfedupcom email kayla mueller was a prisoner and tortured by isis while no chance of releasea horrific story her father gave a pin drop speech that was so heartfelt you want to give him a hug carl mueller believes donald trump will be a great presidentepic speech k shares',\n",
              " 'fantastic trumps  point plan to reform healthcare begins with a bombshell  percentfedupcom email healthcare reform to make america great again \\nsince march of  the american people have had to suffer under the incredible economic burden of the affordable care actobamacare this legislation passed by totally partisan votes in the house and senate and signed into law by the most divisive and partisan president in american history has tragically but predictably resulted in runaway costs websites that dont work greater rationing of care higher premiums less competition and fewer choices obamacare has raised the economic uncertainty of every single person residing in this country as it appears obamacare is certain to collapse of its own weight the damage done by the democrats and president obama and abetted by the supreme court will be difficult to repair unless the next president and a republican congress lead the effort to bring muchneeded free market reforms to the healthcare industry \\ncongress must act our elected representatives in the house and senate must \\n completely repeal obamacare our elected representatives must eliminate the individual mandate no person should be required to buy insurance unless he or she wants to \\n modify existing law that inhibits the sale of health insurance across state lines as long as the plan purchased complies with state requirements any vendor ought to be able to offer insurance in any state by allowing full competition in this market insurance costs will go down and consumer satisfaction will go up \\n allow individuals to fully deduct health insurance premium payments from their tax returns under the current tax system businesses are allowed to take these deductions so why wouldnt congress allow individuals the same exemptions as we allow the free market to provide insurance coverage opportunities to companies and individuals we must also make sure that no one slips through the cracks simply because they cannot afford insurance we must review basic options for medicaid and work with states to ensure that those who want healthcare coverage can have it trending on  fed up']"
            ]
          },
          "metadata": {
            "tags": []
          },
          "execution_count": 20
        }
      ]
    },
    {
      "cell_type": "markdown",
      "metadata": {
        "id": "y5SwMOVBIuHz"
      },
      "source": [
        "**PRE-PROCESSING OF DATA**"
      ]
    },
    {
      "cell_type": "markdown",
      "metadata": {
        "id": "iLVcAJePIJfu"
      },
      "source": [
        "REMOVING URLs"
      ]
    },
    {
      "cell_type": "code",
      "metadata": {
        "id": "96ILHfLCpzkh"
      },
      "source": [
        "import re"
      ],
      "execution_count": null,
      "outputs": []
    },
    {
      "cell_type": "code",
      "metadata": {
        "id": "lrfyLuyRIINs"
      },
      "source": [
        "# Removing URL's\n",
        "def remove_url(text):\n",
        "    return re.sub(r'http\\S+', '', text)"
      ],
      "execution_count": null,
      "outputs": []
    },
    {
      "cell_type": "code",
      "metadata": {
        "id": "SMEdHxfyIYH2"
      },
      "source": [
        "X_url = [remove_url(x) for x in X]"
      ],
      "execution_count": null,
      "outputs": []
    },
    {
      "cell_type": "code",
      "metadata": {
        "id": "H2xVMvprbDzG"
      },
      "source": [
        "X_url[:5]"
      ],
      "execution_count": null,
      "outputs": []
    },
    {
      "cell_type": "markdown",
      "metadata": {
        "id": "0rxp4A8LEtcy"
      },
      "source": [
        "LOWERCASING"
      ]
    },
    {
      "cell_type": "code",
      "metadata": {
        "id": "1rGJRK9GEeGb"
      },
      "source": [
        "X_lower = [x.lower() for x in X_url]"
      ],
      "execution_count": null,
      "outputs": []
    },
    {
      "cell_type": "code",
      "metadata": {
        "colab": {
          "base_uri": "https://localhost:8080/"
        },
        "id": "IHS2dNm3GW3M",
        "outputId": "cc42360e-6ad9-482a-99ad-d2204c8ddeba"
      },
      "source": [
        "X_lower[:5]"
      ],
      "execution_count": null,
      "outputs": [
        {
          "output_type": "execute_result",
          "data": {
            "text/plain": [
              "['muslims busted they stole millions in govt benefits print they should pay all the back all the money plus interest the entire family and everyone who came in with them need to be deported asap why did it take two years to bust them \\nhere we go again another group stealing from the government and taxpayers a group of somalis stole over four million in government benefits over just  months \\nweve reported on numerous cases like this one where the muslim refugeesimmigrants commit fraud by scamming our systemits way out of control more related',\n",
              " 're why did attorney general loretta lynch plead the fifth why did attorney general loretta lynch plead the fifth barracuda brigade  print the administration is blocking congressional probe into cash payments to iran of course she needs to plead the th she either cant recall refuses to answer or just plain deflects the question straight up corruption at its finest \\npercentfedupcom  talk about covering your ass loretta lynch did just that when she plead the fifth to avoid incriminating herself over payments to irancorrupt to the core attorney general loretta lynch is declining to comply with an investigation by leading members of congress about the obama administrations secret efforts to send iran  billion in cash earlier this year prompting accusations that lynch has pleaded the fifth amendment to avoid incriminating herself over these payments according to lawmakers and communications exclusively obtained by the washington free beacon \\nsen marco rubio r fla and rep mike pompeo r kan initially presented lynch in october with a series of questions about how the cash payment to iran was approved and delivered \\nin an oct  response assistant attorney general peter kadzik responded on lynchs behalf refusing to answer the questions and informing the lawmakers that they are barred from publicly disclosing any details about the cash payment which was bound up in a ransom deal aimed at freeing several american hostages from iran \\nthe response from the attorney generals office is unacceptable and provides evidence that lynch has chosen to essentially plead the fifth and refuse to respond to inquiries regarding herrole in providing cash to the worlds foremost state sponsor of terrorism rubio and pompeo wrote on friday in a followup letter to lynch more related',\n",
              " 'breaking weiner cooperating with fbi on hillary email investigation red state  \\nfox news sunday reported this morning that anthony weiner is cooperating with the fbi which has reopened yes lefties reopened the investigation into hillary clintons classified emails watch as chris wallace reports the breaking news during the panel segment near the end of the show \\nand the news is breaking while were on the air our colleague bret baier has just sent us an email saying he has two sources who say that anthony weiner who also had coownership of that laptop with his estranged wife huma abedin is cooperating with the fbi investigation had given them the laptop so therefore they didnt need a warrant to get in to see the contents of said laptop pretty interesting development \\ntargets of federal investigations will often cooperate hoping that they will get consideration from a judge at sentencing given weiners wellknown penchant for lying its hard to believe that a prosecutor would give weiner a deal based on an agreement to testify unless his testimony were very strongly corroborated by hard evidence but cooperation can take many forms  and as wallace indicated on this mornings show one of those forms could be signing a consent form to allow   the contents of devices that they could probably get a warrant for anyway well see if weiners cooperation extends beyond that more related',\n",
              " 'pin drop speech by father of daughter kidnapped and killed by isis i have voted for donald j trump  percentfedupcom email kayla mueller was a prisoner and tortured by isis while no chance of releasea horrific story her father gave a pin drop speech that was so heartfelt you want to give him a hug carl mueller believes donald trump will be a great presidentepic speech k shares',\n",
              " 'fantastic trumps  point plan to reform healthcare begins with a bombshell  percentfedupcom email healthcare reform to make america great again \\nsince march of  the american people have had to suffer under the incredible economic burden of the affordable care actobamacare this legislation passed by totally partisan votes in the house and senate and signed into law by the most divisive and partisan president in american history has tragically but predictably resulted in runaway costs websites that dont work greater rationing of care higher premiums less competition and fewer choices obamacare has raised the economic uncertainty of every single person residing in this country as it appears obamacare is certain to collapse of its own weight the damage done by the democrats and president obama and abetted by the supreme court will be difficult to repair unless the next president and a republican congress lead the effort to bring muchneeded free market reforms to the healthcare industry \\ncongress must act our elected representatives in the house and senate must \\n completely repeal obamacare our elected representatives must eliminate the individual mandate no person should be required to buy insurance unless he or she wants to \\n modify existing law that inhibits the sale of health insurance across state lines as long as the plan purchased complies with state requirements any vendor ought to be able to offer insurance in any state by allowing full competition in this market insurance costs will go down and consumer satisfaction will go up \\n allow individuals to fully deduct health insurance premium payments from their tax returns under the current tax system businesses are allowed to take these deductions so why wouldnt congress allow individuals the same exemptions as we allow the free market to provide insurance coverage opportunities to companies and individuals we must also make sure that no one slips through the cracks simply because they cannot afford insurance we must review basic options for medicaid and work with states to ensure that those who want healthcare coverage can have it trending on  fed up']"
            ]
          },
          "metadata": {
            "tags": []
          },
          "execution_count": 12
        }
      ]
    },
    {
      "cell_type": "markdown",
      "metadata": {
        "id": "tIU7xWnHGuZb"
      },
      "source": [
        "REMOVING ALL NON-ALPHABETS"
      ]
    },
    {
      "cell_type": "code",
      "metadata": {
        "id": "uQ08d2KZEpdW"
      },
      "source": [
        "def cleandata(s):\n",
        "    replaced = re.sub(\"[^a-zA-Z' ]+\", '', s)\n",
        "    return replaced"
      ],
      "execution_count": null,
      "outputs": []
    },
    {
      "cell_type": "code",
      "metadata": {
        "id": "-6wBO68gFyZ6"
      },
      "source": [
        "X_re = [cleandata(x) for x in X_lower]"
      ],
      "execution_count": null,
      "outputs": []
    },
    {
      "cell_type": "code",
      "metadata": {
        "colab": {
          "base_uri": "https://localhost:8080/"
        },
        "id": "pLJj_NlzZy5o",
        "outputId": "04fb0f60-d3bb-4a1a-d98c-d390867a4535"
      },
      "source": [
        "X_re[:5]"
      ],
      "execution_count": null,
      "outputs": [
        {
          "output_type": "execute_result",
          "data": {
            "text/plain": [
              "['muslims busted they stole millions in govt benefits print they should pay all the back all the money plus interest the entire family and everyone who came in with them need to be deported asap why did it take two years to bust them here we go again another group stealing from the government and taxpayers a group of somalis stole over four million in government benefits over just  months weve reported on numerous cases like this one where the muslim refugeesimmigrants commit fraud by scamming our systemits way out of control more related',\n",
              " 're why did attorney general loretta lynch plead the fifth why did attorney general loretta lynch plead the fifth barracuda brigade  print the administration is blocking congressional probe into cash payments to iran of course she needs to plead the th she either cant recall refuses to answer or just plain deflects the question straight up corruption at its finest percentfedupcom  talk about covering your ass loretta lynch did just that when she plead the fifth to avoid incriminating herself over payments to irancorrupt to the core attorney general loretta lynch is declining to comply with an investigation by leading members of congress about the obama administrations secret efforts to send iran  billion in cash earlier this year prompting accusations that lynch has pleaded the fifth amendment to avoid incriminating herself over these payments according to lawmakers and communications exclusively obtained by the washington free beacon sen marco rubio r fla and rep mike pompeo r kan initially presented lynch in october with a series of questions about how the cash payment to iran was approved and delivered in an oct  response assistant attorney general peter kadzik responded on lynchs behalf refusing to answer the questions and informing the lawmakers that they are barred from publicly disclosing any details about the cash payment which was bound up in a ransom deal aimed at freeing several american hostages from iran the response from the attorney generals office is unacceptable and provides evidence that lynch has chosen to essentially plead the fifth and refuse to respond to inquiries regarding herrole in providing cash to the worlds foremost state sponsor of terrorism rubio and pompeo wrote on friday in a followup letter to lynch more related',\n",
              " 'breaking weiner cooperating with fbi on hillary email investigation red state  fox news sunday reported this morning that anthony weiner is cooperating with the fbi which has reopened yes lefties reopened the investigation into hillary clintons classified emails watch as chris wallace reports the breaking news during the panel segment near the end of the show and the news is breaking while were on the air our colleague bret baier has just sent us an email saying he has two sources who say that anthony weiner who also had coownership of that laptop with his estranged wife huma abedin is cooperating with the fbi investigation had given them the laptop so therefore they didnt need a warrant to get in to see the contents of said laptop pretty interesting development targets of federal investigations will often cooperate hoping that they will get consideration from a judge at sentencing given weiners wellknown penchant for lying its hard to believe that a prosecutor would give weiner a deal based on an agreement to testify unless his testimony were very strongly corroborated by hard evidence but cooperation can take many forms  and as wallace indicated on this mornings show one of those forms could be signing a consent form to allow   the contents of devices that they could probably get a warrant for anyway well see if weiners cooperation extends beyond that more related',\n",
              " 'pin drop speech by father of daughter kidnapped and killed by isis i have voted for donald j trump  percentfedupcom email kayla mueller was a prisoner and tortured by isis while no chance of releasea horrific story her father gave a pin drop speech that was so heartfelt you want to give him a hug carl mueller believes donald trump will be a great presidentepic speech k shares',\n",
              " 'fantastic trumps  point plan to reform healthcare begins with a bombshell  percentfedupcom email healthcare reform to make america great again since march of  the american people have had to suffer under the incredible economic burden of the affordable care actobamacare this legislation passed by totally partisan votes in the house and senate and signed into law by the most divisive and partisan president in american history has tragically but predictably resulted in runaway costs websites that dont work greater rationing of care higher premiums less competition and fewer choices obamacare has raised the economic uncertainty of every single person residing in this country as it appears obamacare is certain to collapse of its own weight the damage done by the democrats and president obama and abetted by the supreme court will be difficult to repair unless the next president and a republican congress lead the effort to bring muchneeded free market reforms to the healthcare industry congress must act our elected representatives in the house and senate must  completely repeal obamacare our elected representatives must eliminate the individual mandate no person should be required to buy insurance unless he or she wants to  modify existing law that inhibits the sale of health insurance across state lines as long as the plan purchased complies with state requirements any vendor ought to be able to offer insurance in any state by allowing full competition in this market insurance costs will go down and consumer satisfaction will go up  allow individuals to fully deduct health insurance premium payments from their tax returns under the current tax system businesses are allowed to take these deductions so why wouldnt congress allow individuals the same exemptions as we allow the free market to provide insurance coverage opportunities to companies and individuals we must also make sure that no one slips through the cracks simply because they cannot afford insurance we must review basic options for medicaid and work with states to ensure that those who want healthcare coverage can have it trending on  fed up']"
            ]
          },
          "metadata": {
            "tags": []
          },
          "execution_count": 19
        }
      ]
    },
    {
      "cell_type": "code",
      "metadata": {
        "colab": {
          "base_uri": "https://localhost:8080/"
        },
        "id": "5ZxBUEZ7F2jd",
        "outputId": "6f6b5182-6e5c-49a0-ccce-736f99fecf66"
      },
      "source": [
        "len(X_re[0])"
      ],
      "execution_count": null,
      "outputs": [
        {
          "output_type": "execute_result",
          "data": {
            "text/plain": [
              "542"
            ]
          },
          "metadata": {
            "tags": []
          },
          "execution_count": 21
        }
      ]
    },
    {
      "cell_type": "markdown",
      "metadata": {
        "id": "CGJpbhFAHAsd"
      },
      "source": [
        "STOPWORD REMOVAL"
      ]
    },
    {
      "cell_type": "code",
      "metadata": {
        "id": "h0Wwut7-HDp-"
      },
      "source": [
        "import nltk\n",
        "from nltk.corpus import stopwords"
      ],
      "execution_count": null,
      "outputs": []
    },
    {
      "cell_type": "code",
      "metadata": {
        "colab": {
          "base_uri": "https://localhost:8080/"
        },
        "id": "O1w9YZNyHUxn",
        "outputId": "9ba5f1c8-091b-4b6a-d2d2-bd6841d0b38b"
      },
      "source": [
        "nltk.download('stopwords')"
      ],
      "execution_count": null,
      "outputs": [
        {
          "output_type": "stream",
          "text": [
            "[nltk_data] Downloading package stopwords to /root/nltk_data...\n",
            "[nltk_data]   Unzipping corpora/stopwords.zip.\n"
          ],
          "name": "stdout"
        },
        {
          "output_type": "execute_result",
          "data": {
            "text/plain": [
              "True"
            ]
          },
          "metadata": {
            "tags": []
          },
          "execution_count": 23
        }
      ]
    },
    {
      "cell_type": "code",
      "metadata": {
        "id": "13gS4TdOF7_L"
      },
      "source": [
        "stop = set(stopwords.words('english'))"
      ],
      "execution_count": null,
      "outputs": []
    },
    {
      "cell_type": "code",
      "metadata": {
        "id": "gV-TfChUHSl3"
      },
      "source": [
        "def remove_stopwords(text):\n",
        "    final_text = []\n",
        "    for i in text.split():\n",
        "        if i.strip().lower() not in stop:\n",
        "            final_text.append(i.strip())\n",
        "    return \" \".join(final_text)"
      ],
      "execution_count": null,
      "outputs": []
    },
    {
      "cell_type": "code",
      "metadata": {
        "id": "RsJiHskeHfjj"
      },
      "source": [
        "X_stop = [remove_stopwords(x) for x in X_re]"
      ],
      "execution_count": null,
      "outputs": []
    },
    {
      "cell_type": "code",
      "metadata": {
        "colab": {
          "base_uri": "https://localhost:8080/"
        },
        "id": "aRYerQzTaQwj",
        "outputId": "9a3c290f-104c-4d2b-ed80-416e785f450f"
      },
      "source": [
        "X_stop[:5]"
      ],
      "execution_count": null,
      "outputs": [
        {
          "output_type": "execute_result",
          "data": {
            "text/plain": [
              "['muslims busted stole millions govt benefits print pay back money plus interest entire family everyone came need deported asap take two years bust go another group stealing government taxpayers group somalis stole four million government benefits months weve reported numerous cases like one muslim refugeesimmigrants commit fraud scamming systemits way control related',\n",
              " 'attorney general loretta lynch plead fifth attorney general loretta lynch plead fifth barracuda brigade print administration blocking congressional probe cash payments iran course needs plead th either cant recall refuses answer plain deflects question straight corruption finest percentfedupcom talk covering ass loretta lynch plead fifth avoid incriminating payments irancorrupt core attorney general loretta lynch declining comply investigation leading members congress obama administrations secret efforts send iran billion cash earlier year prompting accusations lynch pleaded fifth amendment avoid incriminating payments according lawmakers communications exclusively obtained washington free beacon sen marco rubio r fla rep mike pompeo r kan initially presented lynch october series questions cash payment iran approved delivered oct response assistant attorney general peter kadzik responded lynchs behalf refusing answer questions informing lawmakers barred publicly disclosing details cash payment bound ransom deal aimed freeing several american hostages iran response attorney generals office unacceptable provides evidence lynch chosen essentially plead fifth refuse respond inquiries regarding herrole providing cash worlds foremost state sponsor terrorism rubio pompeo wrote friday followup letter lynch related',\n",
              " 'breaking weiner cooperating fbi hillary email investigation red state fox news sunday reported morning anthony weiner cooperating fbi reopened yes lefties reopened investigation hillary clintons classified emails watch chris wallace reports breaking news panel segment near end show news breaking air colleague bret baier sent us email saying two sources say anthony weiner also coownership laptop estranged wife huma abedin cooperating fbi investigation given laptop therefore didnt need warrant get see contents said laptop pretty interesting development targets federal investigations often cooperate hoping get consideration judge sentencing given weiners wellknown penchant lying hard believe prosecutor would give weiner deal based agreement testify unless testimony strongly corroborated hard evidence cooperation take many forms wallace indicated mornings show one forms could signing consent form allow contents devices could probably get warrant anyway well see weiners cooperation extends beyond related',\n",
              " 'pin drop speech father daughter kidnapped killed isis voted donald j trump percentfedupcom email kayla mueller prisoner tortured isis chance releasea horrific story father gave pin drop speech heartfelt want give hug carl mueller believes donald trump great presidentepic speech k shares',\n",
              " 'fantastic trumps point plan reform healthcare begins bombshell percentfedupcom email healthcare reform make america great since march american people suffer incredible economic burden affordable care actobamacare legislation passed totally partisan votes house senate signed law divisive partisan president american history tragically predictably resulted runaway costs websites dont work greater rationing care higher premiums less competition fewer choices obamacare raised economic uncertainty every single person residing country appears obamacare certain collapse weight damage done democrats president obama abetted supreme court difficult repair unless next president republican congress lead effort bring muchneeded free market reforms healthcare industry congress must act elected representatives house senate must completely repeal obamacare elected representatives must eliminate individual mandate person required buy insurance unless wants modify existing law inhibits sale health insurance across state lines long plan purchased complies state requirements vendor ought able offer insurance state allowing full competition market insurance costs go consumer satisfaction go allow individuals fully deduct health insurance premium payments tax returns current tax system businesses allowed take deductions wouldnt congress allow individuals exemptions allow free market provide insurance coverage opportunities companies individuals must also make sure one slips cracks simply cannot afford insurance must review basic options medicaid work states ensure want healthcare coverage trending fed']"
            ]
          },
          "metadata": {
            "tags": []
          },
          "execution_count": 27
        }
      ]
    },
    {
      "cell_type": "code",
      "metadata": {
        "colab": {
          "base_uri": "https://localhost:8080/"
        },
        "id": "Rr6Ukq0LH2zs",
        "outputId": "001b4d1b-f003-4904-b605-9001f434a617"
      },
      "source": [
        "len(X_stop[0])"
      ],
      "execution_count": null,
      "outputs": [
        {
          "output_type": "execute_result",
          "data": {
            "text/plain": [
              "368"
            ]
          },
          "metadata": {
            "tags": []
          },
          "execution_count": 28
        }
      ]
    },
    {
      "cell_type": "code",
      "metadata": {
        "id": "dY7qh98ZJ6yN"
      },
      "source": [
        "df = pd.DataFrame(list(zip(X_stop, y)),\n",
        "               columns =['text', 'label'])"
      ],
      "execution_count": null,
      "outputs": []
    },
    {
      "cell_type": "code",
      "metadata": {
        "id": "mOPWItwJKO53"
      },
      "source": [
        "df.to_csv(r'/content/drive/MyDrive/MSc Project/Data/dataset7_preprocessed.csv', index=False)"
      ],
      "execution_count": null,
      "outputs": []
    },
    {
      "cell_type": "code",
      "metadata": {
        "id": "qb4RsGPHKaju",
        "colab": {
          "base_uri": "https://localhost:8080/",
          "height": 419
        },
        "outputId": "e52f0c74-db9a-41c3-d99f-f289b93e06d0"
      },
      "source": [
        "url_saved = '/content/drive/MyDrive/MSc Project/Data/dataset7_preprocessed.csv'\n",
        "df_save = pd.read_csv(url_saved)\n",
        "df_save"
      ],
      "execution_count": null,
      "outputs": [
        {
          "output_type": "execute_result",
          "data": {
            "text/html": [
              "<div>\n",
              "<style scoped>\n",
              "    .dataframe tbody tr th:only-of-type {\n",
              "        vertical-align: middle;\n",
              "    }\n",
              "\n",
              "    .dataframe tbody tr th {\n",
              "        vertical-align: top;\n",
              "    }\n",
              "\n",
              "    .dataframe thead th {\n",
              "        text-align: right;\n",
              "    }\n",
              "</style>\n",
              "<table border=\"1\" class=\"dataframe\">\n",
              "  <thead>\n",
              "    <tr style=\"text-align: right;\">\n",
              "      <th></th>\n",
              "      <th>text</th>\n",
              "      <th>label</th>\n",
              "    </tr>\n",
              "  </thead>\n",
              "  <tbody>\n",
              "    <tr>\n",
              "      <th>0</th>\n",
              "      <td>muslims busted stole millions govt benefits pr...</td>\n",
              "      <td>0</td>\n",
              "    </tr>\n",
              "    <tr>\n",
              "      <th>1</th>\n",
              "      <td>attorney general loretta lynch plead fifth att...</td>\n",
              "      <td>0</td>\n",
              "    </tr>\n",
              "    <tr>\n",
              "      <th>2</th>\n",
              "      <td>breaking weiner cooperating fbi hillary email ...</td>\n",
              "      <td>0</td>\n",
              "    </tr>\n",
              "    <tr>\n",
              "      <th>3</th>\n",
              "      <td>pin drop speech father daughter kidnapped kill...</td>\n",
              "      <td>0</td>\n",
              "    </tr>\n",
              "    <tr>\n",
              "      <th>4</th>\n",
              "      <td>fantastic trumps point plan reform healthcare ...</td>\n",
              "      <td>0</td>\n",
              "    </tr>\n",
              "    <tr>\n",
              "      <th>...</th>\n",
              "      <td>...</td>\n",
              "      <td>...</td>\n",
              "    </tr>\n",
              "    <tr>\n",
              "      <th>2040</th>\n",
              "      <td>never trumpers must reconsider prof canoes ree...</td>\n",
              "      <td>0</td>\n",
              "    </tr>\n",
              "    <tr>\n",
              "      <th>2041</th>\n",
              "      <td>election crossroads socialism capitalism teens...</td>\n",
              "      <td>0</td>\n",
              "    </tr>\n",
              "    <tr>\n",
              "      <th>2042</th>\n",
              "      <td>reasons ill vote trump school named munichmass...</td>\n",
              "      <td>0</td>\n",
              "    </tr>\n",
              "    <tr>\n",
              "      <th>2043</th>\n",
              "      <td>new country women minorities hit hardest wars ...</td>\n",
              "      <td>0</td>\n",
              "    </tr>\n",
              "    <tr>\n",
              "      <th>2044</th>\n",
              "      <td>trump vs clinton risk vs disaster check hillar...</td>\n",
              "      <td>0</td>\n",
              "    </tr>\n",
              "  </tbody>\n",
              "</table>\n",
              "<p>2045 rows × 2 columns</p>\n",
              "</div>"
            ],
            "text/plain": [
              "                                                   text  label\n",
              "0     muslims busted stole millions govt benefits pr...      0\n",
              "1     attorney general loretta lynch plead fifth att...      0\n",
              "2     breaking weiner cooperating fbi hillary email ...      0\n",
              "3     pin drop speech father daughter kidnapped kill...      0\n",
              "4     fantastic trumps point plan reform healthcare ...      0\n",
              "...                                                 ...    ...\n",
              "2040  never trumpers must reconsider prof canoes ree...      0\n",
              "2041  election crossroads socialism capitalism teens...      0\n",
              "2042  reasons ill vote trump school named munichmass...      0\n",
              "2043  new country women minorities hit hardest wars ...      0\n",
              "2044  trump vs clinton risk vs disaster check hillar...      0\n",
              "\n",
              "[2045 rows x 2 columns]"
            ]
          },
          "metadata": {
            "tags": []
          },
          "execution_count": 116
        }
      ]
    },
    {
      "cell_type": "code",
      "metadata": {
        "id": "Gu1NmjCLrfV7"
      },
      "source": [
        ""
      ],
      "execution_count": null,
      "outputs": []
    }
  ]
}