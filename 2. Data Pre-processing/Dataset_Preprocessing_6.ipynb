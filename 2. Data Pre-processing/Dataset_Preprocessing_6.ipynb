{
  "nbformat": 4,
  "nbformat_minor": 0,
  "metadata": {
    "colab": {
      "name": "Dataset_Preprocessing 6.ipynb",
      "provenance": [],
      "collapsed_sections": []
    },
    "kernelspec": {
      "display_name": "Python 3",
      "name": "python3"
    },
    "accelerator": "GPU"
  },
  "cells": [
    {
      "cell_type": "code",
      "metadata": {
        "id": "Se70B2pQrZLZ"
      },
      "source": [
        "import pandas as pd\n",
        "import tensorflow as tf\n",
        "import numpy as np\n",
        "from tensorflow.keras.preprocessing.sequence import pad_sequences\n",
        "from numpy import array\n",
        "from keras.preprocessing.text import one_hot\n",
        "from keras.layers.embeddings import Embedding\n",
        "from numpy import asarray\n",
        "from numpy import zeros\n",
        "import keras"
      ],
      "execution_count": 1,
      "outputs": []
    },
    {
      "cell_type": "code",
      "metadata": {
        "colab": {
          "base_uri": "https://localhost:8080/"
        },
        "id": "S6RZ3TnI0LDZ",
        "outputId": "fd2a44dd-2edd-4481-a489-d5e4e91eafb5"
      },
      "source": [
        "from google.colab import drive\n",
        "drive.mount('/content/drive')"
      ],
      "execution_count": 2,
      "outputs": [
        {
          "output_type": "stream",
          "text": [
            "Mounted at /content/drive\n"
          ],
          "name": "stdout"
        }
      ]
    },
    {
      "cell_type": "code",
      "metadata": {
        "id": "aTA5RNVhjnIL"
      },
      "source": [
        "df = pd.read_csv(r\"/content/drive/MyDrive/MSc Project/Data/dataset6.csv\")"
      ],
      "execution_count": 73,
      "outputs": []
    },
    {
      "cell_type": "code",
      "metadata": {
        "colab": {
          "base_uri": "https://localhost:8080/",
          "height": 419
        },
        "id": "b4xIr06dpqaG",
        "outputId": "61729631-c892-4336-ad42-dba80b7aa103"
      },
      "source": [
        "df"
      ],
      "execution_count": 74,
      "outputs": [
        {
          "output_type": "execute_result",
          "data": {
            "text/html": [
              "<div>\n",
              "<style scoped>\n",
              "    .dataframe tbody tr th:only-of-type {\n",
              "        vertical-align: middle;\n",
              "    }\n",
              "\n",
              "    .dataframe tbody tr th {\n",
              "        vertical-align: top;\n",
              "    }\n",
              "\n",
              "    .dataframe thead th {\n",
              "        text-align: right;\n",
              "    }\n",
              "</style>\n",
              "<table border=\"1\" class=\"dataframe\">\n",
              "  <thead>\n",
              "    <tr style=\"text-align: right;\">\n",
              "      <th></th>\n",
              "      <th>text</th>\n",
              "      <th>label</th>\n",
              "    </tr>\n",
              "  </thead>\n",
              "  <tbody>\n",
              "    <tr>\n",
              "      <th>0</th>\n",
              "      <td>As U.S. budget fight looms, Republicans flip t...</td>\n",
              "      <td>0</td>\n",
              "    </tr>\n",
              "    <tr>\n",
              "      <th>1</th>\n",
              "      <td>U.S. military to accept transgender recruits o...</td>\n",
              "      <td>0</td>\n",
              "    </tr>\n",
              "    <tr>\n",
              "      <th>2</th>\n",
              "      <td>Senior U.S. Republican senator: 'Let Mr. Muell...</td>\n",
              "      <td>0</td>\n",
              "    </tr>\n",
              "    <tr>\n",
              "      <th>3</th>\n",
              "      <td>FBI Russia probe helped by Australian diplomat...</td>\n",
              "      <td>0</td>\n",
              "    </tr>\n",
              "    <tr>\n",
              "      <th>4</th>\n",
              "      <td>Trump wants Postal Service to charge 'much mor...</td>\n",
              "      <td>0</td>\n",
              "    </tr>\n",
              "    <tr>\n",
              "      <th>...</th>\n",
              "      <td>...</td>\n",
              "      <td>...</td>\n",
              "    </tr>\n",
              "    <tr>\n",
              "      <th>44893</th>\n",
              "      <td>McPain: John McCain Furious That Iran Treated ...</td>\n",
              "      <td>1</td>\n",
              "    </tr>\n",
              "    <tr>\n",
              "      <th>44894</th>\n",
              "      <td>JUSTICE? Yahoo Settles E-mail Privacy Class-ac...</td>\n",
              "      <td>1</td>\n",
              "    </tr>\n",
              "    <tr>\n",
              "      <th>44895</th>\n",
              "      <td>Sunnistan: US and Allied ‘Safe Zone’ Plan to T...</td>\n",
              "      <td>1</td>\n",
              "    </tr>\n",
              "    <tr>\n",
              "      <th>44896</th>\n",
              "      <td>How to Blow $700 Million: Al Jazeera America F...</td>\n",
              "      <td>1</td>\n",
              "    </tr>\n",
              "    <tr>\n",
              "      <th>44897</th>\n",
              "      <td>10 U.S. Navy Sailors Held by Iranian Military ...</td>\n",
              "      <td>1</td>\n",
              "    </tr>\n",
              "  </tbody>\n",
              "</table>\n",
              "<p>44898 rows × 2 columns</p>\n",
              "</div>"
            ],
            "text/plain": [
              "                                                    text  label\n",
              "0      As U.S. budget fight looms, Republicans flip t...      0\n",
              "1      U.S. military to accept transgender recruits o...      0\n",
              "2      Senior U.S. Republican senator: 'Let Mr. Muell...      0\n",
              "3      FBI Russia probe helped by Australian diplomat...      0\n",
              "4      Trump wants Postal Service to charge 'much mor...      0\n",
              "...                                                  ...    ...\n",
              "44893  McPain: John McCain Furious That Iran Treated ...      1\n",
              "44894  JUSTICE? Yahoo Settles E-mail Privacy Class-ac...      1\n",
              "44895  Sunnistan: US and Allied ‘Safe Zone’ Plan to T...      1\n",
              "44896  How to Blow $700 Million: Al Jazeera America F...      1\n",
              "44897  10 U.S. Navy Sailors Held by Iranian Military ...      1\n",
              "\n",
              "[44898 rows x 2 columns]"
            ]
          },
          "metadata": {
            "tags": []
          },
          "execution_count": 74
        }
      ]
    },
    {
      "cell_type": "code",
      "metadata": {
        "colab": {
          "base_uri": "https://localhost:8080/",
          "height": 350
        },
        "id": "nkGvBczhpILZ",
        "outputId": "9f2a1487-fca3-425e-ec4d-b73fdf1c6968"
      },
      "source": [
        "import seaborn as sns\n",
        "sns.set_style(\"darkgrid\")\n",
        "sns.countplot(df.label)"
      ],
      "execution_count": 75,
      "outputs": [
        {
          "output_type": "stream",
          "text": [
            "/usr/local/lib/python3.7/dist-packages/seaborn/_decorators.py:43: FutureWarning: Pass the following variable as a keyword arg: x. From version 0.12, the only valid positional argument will be `data`, and passing other arguments without an explicit keyword will result in an error or misinterpretation.\n",
            "  FutureWarning\n"
          ],
          "name": "stderr"
        },
        {
          "output_type": "execute_result",
          "data": {
            "text/plain": [
              "<matplotlib.axes._subplots.AxesSubplot at 0x7fb9b2e32ed0>"
            ]
          },
          "metadata": {
            "tags": []
          },
          "execution_count": 75
        },
        {
          "output_type": "display_data",
          "data": {
            "image/png": "[encoded data removed]",
            "text/plain": [
              "<Figure size 432x288 with 1 Axes>"
            ]
          },
          "metadata": {
            "tags": []
          }
        }
      ]
    },
    {
      "cell_type": "code",
      "metadata": {
        "id": "x58IP_9PEZH2"
      },
      "source": [
        "X = df['text'].to_list()\n",
        "y = df['label'].to_list()"
      ],
      "execution_count": 76,
      "outputs": []
    },
    {
      "cell_type": "markdown",
      "metadata": {
        "id": "y5SwMOVBIuHz"
      },
      "source": [
        "**PRE-PROCESSING OF DATA**"
      ]
    },
    {
      "cell_type": "markdown",
      "metadata": {
        "id": "iLVcAJePIJfu"
      },
      "source": [
        "REMOVING URLs"
      ]
    },
    {
      "cell_type": "code",
      "metadata": {
        "id": "96ILHfLCpzkh"
      },
      "source": [
        "import re"
      ],
      "execution_count": 77,
      "outputs": []
    },
    {
      "cell_type": "code",
      "metadata": {
        "id": "lrfyLuyRIINs"
      },
      "source": [
        "# Removing URL's\n",
        "def remove_url(text):\n",
        "    return re.sub(r'http\\S+', '', text)"
      ],
      "execution_count": 78,
      "outputs": []
    },
    {
      "cell_type": "code",
      "metadata": {
        "id": "SMEdHxfyIYH2"
      },
      "source": [
        "X_url = [remove_url(x) for x in X]"
      ],
      "execution_count": 79,
      "outputs": []
    },
    {
      "cell_type": "markdown",
      "metadata": {
        "id": "0rxp4A8LEtcy"
      },
      "source": [
        "LOWERCASING"
      ]
    },
    {
      "cell_type": "code",
      "metadata": {
        "id": "1rGJRK9GEeGb"
      },
      "source": [
        "X_lower = [x.lower() for x in X_url]"
      ],
      "execution_count": 80,
      "outputs": []
    },
    {
      "cell_type": "code",
      "metadata": {
        "colab": {
          "base_uri": "https://localhost:8080/"
        },
        "id": "IHS2dNm3GW3M",
        "outputId": "514564ad-260e-4808-89dc-fa88843f3487"
      },
      "source": [
        "X_lower[:5]"
      ],
      "execution_count": 81,
      "outputs": [
        {
          "output_type": "execute_result",
          "data": {
            "text/plain": [
              "['as u.s. budget fight looms, republicans flip their fiscal script washington (reuters) - the head of a conservative republican faction in the u.s. congress, who voted this month for a huge expansion of the national debt to pay for tax cuts, called himself a “fiscal conservative” on sunday and urged budget restraint in 2018. in keeping with a sharp pivot under way among republicans, u.s. representative mark meadows, speaking on cbs’ “face the nation,” drew a hard line on federal spending, which lawmakers are bracing to do battle over in january. when they return from the holidays on wednesday, lawmakers will begin trying to pass a federal budget in a fight likely to be linked to other issues, such as immigration policy, even as the november congressional election campaigns approach in which republicans will seek to keep control of congress. president donald trump and his republicans want a big budget increase in military spending, while democrats also want proportional increases for non-defense “discretionary” spending on programs that support education, scientific research, infrastructure, public health and environmental protection. “the (trump) administration has already been willing to say: ‘we’re going to increase non-defense discretionary spending ... by about 7 percent,’” meadows, chairman of the small but influential house freedom caucus, said on the program. “now, democrats are saying that’s not enough, we need to give the government a pay raise of 10 to 11 percent. for a fiscal conservative, i don’t see where the rationale is. ... eventually you run out of other people’s money,” he said. meadows was among republicans who voted in late december for their party’s debt-financed tax overhaul, which is expected to balloon the federal budget deficit and add about $1.5 trillion over 10 years to the $20 trillion national debt. “it’s interesting to hear mark talk about fiscal responsibility,” democratic u.s. representative joseph crowley said on cbs. crowley said the republican tax bill would require the  united states to borrow $1.5 trillion, to be paid off by future generations, to finance tax cuts for corporations and the rich. “this is one of the least ... fiscally responsible bills we’ve ever seen passed in the history of the house of representatives. i think we’re going to be paying for this for many, many years to come,” crowley said. republicans insist the tax package, the biggest u.s. tax overhaul in more than 30 years,  will boost the economy and job growth. house speaker paul ryan, who also supported the tax bill, recently went further than meadows, making clear in a radio interview that welfare or “entitlement reform,” as the party often calls it, would be a top republican priority in 2018. in republican parlance, “entitlement” programs mean food stamps, housing assistance, medicare and medicaid health insurance for the elderly, poor and disabled, as well as other programs created by washington to assist the needy. democrats seized on ryan’s early december remarks, saying they showed republicans would try to pay for their tax overhaul by seeking spending cuts for social programs. but the goals of house republicans may have to take a back seat to the senate, where the votes of some democrats will be needed to approve a budget and prevent a government shutdown. democrats will use their leverage in the senate, which republicans narrowly control, to defend both discretionary non-defense programs and social spending, while tackling the issue of the “dreamers,” people brought illegally to the country as children. trump in september put a march 2018 expiration date on the deferred action for childhood arrivals, or daca, program, which protects the young immigrants from deportation and provides them with work permits. the president has said in recent twitter messages he wants funding for his proposed mexican border wall and other immigration law changes in exchange for agreeing to help the dreamers. representative debbie dingell told cbs she did not favor linking that issue to other policy objectives, such as wall funding. “we need to do daca clean,” she said.  on wednesday, trump aides will meet with congressional leaders to discuss those issues. that will be followed by a weekend of strategy sessions for trump and republican leaders on jan. 6 and 7, the white house said. trump was also scheduled to meet on sunday with florida republican governor rick scott, who wants more emergency aid. the house has passed an $81 billion aid package after hurricanes in florida, texas and puerto rico, and wildfires in california. the package far exceeded the $44 billion requested by the trump administration. the senate has not yet voted on the aid. ',\n",
              " 'u.s. military to accept transgender recruits on monday: pentagon washington (reuters) - transgender people will be allowed for the first time to enlist in the u.s. military starting on monday as ordered by federal courts, the pentagon said on friday, after president donald trump’s administration decided not to appeal rulings that blocked his transgender ban. two federal appeals courts, one in washington and one in virginia, last week rejected the administration’s request to put on hold orders by lower court judges requiring the military to begin accepting transgender recruits on jan. 1. a justice department official said the administration will not challenge those rulings. “the department of defense has announced that it will be releasing an independent study of these issues in the coming weeks. so rather than litigate this interim appeal before that occurs, the administration has decided to wait for dod’s study and will continue to defend the president’s lawful authority in district court in the meantime,” the official said, speaking on condition of anonymity. in september, the pentagon said it had created a panel of senior officials to study how to implement a directive by trump to prohibit transgender individuals from serving. the defense department has until feb. 21 to submit a plan to trump. lawyers representing currently-serving transgender service members and aspiring recruits said they had expected the administration to appeal the rulings to the conservative-majority supreme court, but were hoping that would not happen. pentagon spokeswoman heather babb said in a statement: “as mandated by court order, the department of defense is prepared to begin accessing transgender applicants for military service jan. 1. all applicants must meet all accession standards.” jennifer levi, a lawyer with gay, lesbian and transgender advocacy group glad, called the decision not to appeal “great news.” “i’m hoping it means the government has come to see that there is no way to justify a ban and that it’s not good for the military or our country,” levi said. both glad and the american civil liberties union represent plaintiffs in the lawsuits filed against the administration. in a move that appealed to his hard-line conservative supporters, trump announced in july that he would prohibit transgender people from serving in the military, reversing democratic president barack obama’s policy of accepting them. trump said on twitter at the time that the military “cannot be burdened with the tremendous medical costs and disruption that transgender in the military would entail.” four federal judges - in baltimore, washington, d.c., seattle and riverside, california - have issued rulings blocking trump’s ban while legal challenges to the republican president’s policy proceed. the judges said the ban would likely violate the right under the u.s. constitution to equal protection under the law. the pentagon on dec. 8 issued guidelines to recruitment personnel in order to enlist transgender applicants by jan. 1. the memo outlined medical requirements and specified how the applicants’ sex would be identified and even which undergarments they would wear. the trump administration previously said in legal papers that the armed forces were not prepared to train thousands of personnel on the medical standards needed to process transgender applicants and might have to accept “some individuals who are not medically fit for service.” the obama administration had set a deadline of july 1, 2017, to begin accepting transgender recruits. but trump’s defense secretary, james mattis, postponed that date to jan. 1, 2018, which the president’s ban then put off indefinitely. trump has taken other steps aimed at rolling back transgender rights. in october, his administration said a federal law banning gender-based workplace discrimination does not protect transgender employees, reversing another obama-era position. in february, trump rescinded guidance issued by the obama administration saying that public schools should allow transgender students to use the restroom that corresponds to their gender identity. ',\n",
              " \"senior u.s. republican senator: 'let mr. mueller do his job' washington (reuters) - the special counsel investigation of links between russia and president trump’s 2016 election campaign should continue without interference in 2018, despite calls from some trump administration allies and republican lawmakers to shut it down, a prominent republican senator said on sunday. lindsey graham, who serves on the senate armed forces and judiciary committees, said department of justice special counsel robert mueller needs to carry on with his russia investigation without political interference. “this investigation will go forward. it will be an investigation conducted without political influence,” graham said on cbs’s face the nation news program. “and we all need to let mr. mueller do his job. i think he’s the right guy at the right time.”  the question of how russia may have interfered in the election, and how trump’s campaign may have had links with or co-ordinated any such effort, has loomed over the white house since trump took office in january. it shows no sign of receding as trump prepares for his second year in power, despite intensified rhetoric from some trump allies in recent weeks accusing mueller’s team of bias against the republican president. trump himself seemed to undercut his supporters in an interview last week with the new york times in which he said he expected mueller was “going to be fair.”    russia’s role in the election and the question of possible links to the trump campaign are the focus of multiple inquiries in washington. three committees of the senate and the house of representatives are investigating, as well as mueller, whose team in may took over an earlier probe launched by the u.s. federal bureau of investigation (fbi). several members of the trump campaign and administration have been convicted or indicted in the investigation.  trump and his allies deny any collusion with russia during the campaign, and the kremlin has denied meddling in the election. graham said he still wants an examination of the fbi’s use of a dossier on links between trump and russia that was compiled by a former british spy, christopher steele, which prompted trump allies and some republicans to question mueller’s inquiry.   on saturday, the new york times reported that it was not that dossier that triggered an early fbi probe, but a tip from former trump campaign foreign policy adviser george papadopoulos to an australian diplomat that russia had damaging information about former trump rival hillary clinton.  “i want somebody to look at the way the department of justice used this dossier. it bothers me greatly the way they used it, and i want somebody to look at it,” graham said. but he said the russia investigation must continue. “as a matter of fact, it would hurt us if we ignored it,” he said. \",\n",
              " 'fbi russia probe helped by australian diplomat tip-off: nyt washington (reuters) - trump campaign adviser george papadopoulos told an australian diplomat in may 2016 that russia had political dirt on democratic presidential candidate hillary clinton, the new york times reported on saturday. the conversation between papadopoulos and the diplomat, alexander downer, in london was a driving factor behind the fbi’s decision to open a counter-intelligence investigation of moscow’s contacts with the trump campaign, the times reported. two months after the meeting, australian officials passed the information that came from papadopoulos to their american counterparts when leaked democratic emails began appearing online, according to the newspaper, which cited four current and former u.s. and foreign officials. besides the information from the australians, the probe by the federal bureau of investigation was also propelled by intelligence from other friendly governments, including the british and dutch, the times said. papadopoulos, a chicago-based international energy lawyer, pleaded guilty on oct. 30 to lying to fbi agents about contacts with people who claimed to have ties to top russian officials. it was the first criminal charge alleging links between the trump campaign and russia. the white house has played down the former aide’s campaign role, saying it was “extremely limited” and that any actions he took would have been on his own. the new york times, however, reported that papadopoulos helped set up a meeting between then-candidate donald trump and egyptian president abdel fattah al-sisi and edited the outline of trump’s first major foreign policy speech in april 2016. the federal investigation, which is now being led by special counsel robert mueller, has hung over trump’s white house since he took office almost a year ago. some trump allies have recently accused mueller’s team of being biased against the republican president. lawyers for papadopoulos did not immediately respond to requests by reuters for comment. mueller’s office declined to comment. trump’s white house attorney, ty cobb, declined to comment on the new york times report. “out of respect for the special counsel and his process, we are not commenting on matters such as this,” he said in a statement. mueller has charged four trump associates, including papadopoulos, in his investigation. russia has denied interfering in the u.s. election and trump has said there was no collusion between his campaign and moscow. ',\n",
              " \"trump wants postal service to charge 'much more' for amazon shipments seattle/washington (reuters) - president donald trump called on the u.s. postal service on friday to charge “much more” to ship packages for amazon (amzn.o), picking another fight with an online retail giant he has criticized in the past.     “why is the united states post office, which is losing many billions of dollars a year, while charging amazon and others so little to deliver their packages, making amazon richer and the post office dumber and poorer? should be charging much more!” trump wrote on twitter.  the president’s tweet drew fresh attention to the fragile finances of the postal service at a time when tens of millions of parcels have just been shipped all over the country for the holiday season.  the u.s. postal service, which runs at a big loss, is an independent agency within the federal government and does not receive tax dollars for operating expenses, according to its website.  package delivery has become an increasingly important part of its business as the internet has led to a sharp decline in the amount of first-class letters. the president does not determine postal rates. they are set by the postal regulatory commission, an independent government agency with commissioners selected by the president from both political parties. that panel raised prices on packages by almost 2 percent in november.  amazon was founded by jeff bezos, who remains the chief executive officer of the retail company and is the richest person in the world, according to bloomberg news. bezos also owns the washington post, a newspaper trump has repeatedly railed against in his criticisms of the news media. in tweets over the past year, trump has said the “amazon washington post” fabricated stories. he has said amazon does not pay sales tax, which is not true, and so hurts other retailers, part of a pattern by the former businessman and reality television host of periodically turning his ire on big american companies since he took office in january. daniel ives, a research analyst at gbh insights, said trump’s comment could be taken as a warning to the retail giant. however, he said he was not concerned for amazon. “we do not see any price hikes in the future. however, that is a risk that amazon is clearly aware of and (it) is building out its distribution (system) aggressively,” he said. amazon has shown interest in the past in shifting into its own delivery service, including testing drones for deliveries. in 2015, the company spent $11.5 billion on shipping, 46 percent of its total operating expenses that year.  amazon shares were down 0.86 percent to $1,175.90 by early afternoon. overall, u.s. stock prices were down slightly on friday.  satish jindel, president of shipmatrix inc, which analyzes shipping data, disputed the idea that the postal service charges less than united parcel service inc (ups.n) and fedex corp (fdx.n), the other biggest players in the parcel delivery business in the united states. many customers get lower rates from ups and fedex than they would get from the post office for comparable services, he said. the postal service delivers about 62 percent of amazon packages, for about 3.5 to 4 million a day during the current peak year-end holiday shipping season, jindel said. the seattle-based company and the post office have an agreement in which mail carriers take amazon packages on the last leg of their journeys, from post offices to customers’ doorsteps. amazon’s no. 2 carrier is ups, at 21 percent, and fedex is third, with 8 percent or so, according to jindel. trump’s comment tapped into a debate over whether postal service pricing has kept pace with the rise of e-commerce, which has flooded the mail with small packages.private companies like ups have long claimed the current system unfairly undercuts their business. steve gaut, a spokesman for ups, noted that the company values its “productive relationship” with the postal service, but that it has filed with the postal regulatory commission its concerns about the postal service’s methods for covering costs. representatives for amazon, the white house, the u.s. postal service and fedex declined comment or were not immediately available for comment on trump’s tweet. according to its annual report, the postal service lost $2.74 billion this year, and its deficit has ballooned to $61.86 billion.  while the postal service’s revenue for first class mail, marketing mail and periodicals is flat or declining, revenue from package delivery is up 44 percent since 2014 to $19.5 billion in the fiscal year ended sept. 30, 2017. but it also lost about $2 billion in revenue when a temporary surcharge expired in april 2016. according to a government accountability office report in february, the service is facing growing personnel expenses, particularly $73.4 billion in unfunded pension and benefits liabilities. the postal service has not announced any plans to cut costs. by law, the postal service has to set prices for package delivery to cover the costs attributable to that service. but the postal service allocates only 5.5 percent of its total costs to its business of shipping packages even though that line of business is 28 percent of its total revenue. \"]"
            ]
          },
          "metadata": {
            "tags": []
          },
          "execution_count": 81
        }
      ]
    },
    {
      "cell_type": "markdown",
      "metadata": {
        "id": "tIU7xWnHGuZb"
      },
      "source": [
        "REMOVING ALL NON-ALPHABETS"
      ]
    },
    {
      "cell_type": "code",
      "metadata": {
        "id": "uQ08d2KZEpdW"
      },
      "source": [
        "def cleandata(s):\n",
        "    replaced = re.sub(\"[^a-zA-Z' ]+\", '', s)\n",
        "    return replaced"
      ],
      "execution_count": 82,
      "outputs": []
    },
    {
      "cell_type": "code",
      "metadata": {
        "id": "-6wBO68gFyZ6"
      },
      "source": [
        "X_re = [cleandata(x) for x in X_lower]"
      ],
      "execution_count": 83,
      "outputs": []
    },
    {
      "cell_type": "code",
      "metadata": {
        "colab": {
          "base_uri": "https://localhost:8080/"
        },
        "id": "5ZxBUEZ7F2jd",
        "outputId": "2fef3d21-87b2-419b-f795-a786fecfc158"
      },
      "source": [
        "len(X_re[0])"
      ],
      "execution_count": 84,
      "outputs": [
        {
          "output_type": "execute_result",
          "data": {
            "text/plain": [
              "4536"
            ]
          },
          "metadata": {
            "tags": []
          },
          "execution_count": 84
        }
      ]
    },
    {
      "cell_type": "markdown",
      "metadata": {
        "id": "CGJpbhFAHAsd"
      },
      "source": [
        "STOPWORD REMOVAL"
      ]
    },
    {
      "cell_type": "code",
      "metadata": {
        "id": "h0Wwut7-HDp-"
      },
      "source": [
        "import nltk\n",
        "from nltk.corpus import stopwords"
      ],
      "execution_count": 85,
      "outputs": []
    },
    {
      "cell_type": "code",
      "metadata": {
        "colab": {
          "base_uri": "https://localhost:8080/"
        },
        "id": "O1w9YZNyHUxn",
        "outputId": "e91bef6d-3c26-49f9-f7a6-8342f59ef8d1"
      },
      "source": [
        "nltk.download('stopwords')"
      ],
      "execution_count": 86,
      "outputs": [
        {
          "output_type": "stream",
          "text": [
            "[nltk_data] Downloading package stopwords to /root/nltk_data...\n",
            "[nltk_data]   Package stopwords is already up-to-date!\n"
          ],
          "name": "stdout"
        },
        {
          "output_type": "execute_result",
          "data": {
            "text/plain": [
              "True"
            ]
          },
          "metadata": {
            "tags": []
          },
          "execution_count": 86
        }
      ]
    },
    {
      "cell_type": "code",
      "metadata": {
        "id": "13gS4TdOF7_L"
      },
      "source": [
        "stop = set(stopwords.words('english'))"
      ],
      "execution_count": 87,
      "outputs": []
    },
    {
      "cell_type": "code",
      "metadata": {
        "id": "gV-TfChUHSl3"
      },
      "source": [
        "def remove_stopwords(text):\n",
        "    final_text = []\n",
        "    for i in text.split():\n",
        "        if i.strip().lower() not in stop:\n",
        "            final_text.append(i.strip())\n",
        "    return \" \".join(final_text)"
      ],
      "execution_count": 88,
      "outputs": []
    },
    {
      "cell_type": "code",
      "metadata": {
        "id": "RsJiHskeHfjj"
      },
      "source": [
        "X_stop = [remove_stopwords(x) for x in X_re]"
      ],
      "execution_count": 89,
      "outputs": []
    },
    {
      "cell_type": "code",
      "metadata": {
        "colab": {
          "base_uri": "https://localhost:8080/"
        },
        "id": "Rr6Ukq0LH2zs",
        "outputId": "fad7930e-b6f5-4b44-ead5-057da1def756"
      },
      "source": [
        "len(X_stop[0])"
      ],
      "execution_count": 90,
      "outputs": [
        {
          "output_type": "execute_result",
          "data": {
            "text/plain": [
              "3393"
            ]
          },
          "metadata": {
            "tags": []
          },
          "execution_count": 90
        }
      ]
    },
    {
      "cell_type": "code",
      "metadata": {
        "id": "dY7qh98ZJ6yN"
      },
      "source": [
        "df = pd.DataFrame(list(zip(X_stop, y)),\n",
        "               columns =['text', 'label'])"
      ],
      "execution_count": 91,
      "outputs": []
    },
    {
      "cell_type": "code",
      "metadata": {
        "id": "mOPWItwJKO53"
      },
      "source": [
        "df.to_csv(r'/content/drive/MyDrive/MSc Project/Data/dataset6_preprocessed.csv', index=False)"
      ],
      "execution_count": 92,
      "outputs": []
    },
    {
      "cell_type": "code",
      "metadata": {
        "id": "qb4RsGPHKaju",
        "colab": {
          "base_uri": "https://localhost:8080/",
          "height": 419
        },
        "outputId": "82a73573-c8b8-48c8-918b-4e609e7a1e77"
      },
      "source": [
        "url_saved = '/content/drive/MyDrive/MSc Project/Data/dataset6_preprocessed.csv'\n",
        "df_save = pd.read_csv(url_saved)\n",
        "df_save"
      ],
      "execution_count": 93,
      "outputs": [
        {
          "output_type": "execute_result",
          "data": {
            "text/html": [
              "<div>\n",
              "<style scoped>\n",
              "    .dataframe tbody tr th:only-of-type {\n",
              "        vertical-align: middle;\n",
              "    }\n",
              "\n",
              "    .dataframe tbody tr th {\n",
              "        vertical-align: top;\n",
              "    }\n",
              "\n",
              "    .dataframe thead th {\n",
              "        text-align: right;\n",
              "    }\n",
              "</style>\n",
              "<table border=\"1\" class=\"dataframe\">\n",
              "  <thead>\n",
              "    <tr style=\"text-align: right;\">\n",
              "      <th></th>\n",
              "      <th>text</th>\n",
              "      <th>label</th>\n",
              "    </tr>\n",
              "  </thead>\n",
              "  <tbody>\n",
              "    <tr>\n",
              "      <th>0</th>\n",
              "      <td>us budget fight looms republicans flip fiscal ...</td>\n",
              "      <td>0</td>\n",
              "    </tr>\n",
              "    <tr>\n",
              "      <th>1</th>\n",
              "      <td>us military accept transgender recruits monday...</td>\n",
              "      <td>0</td>\n",
              "    </tr>\n",
              "    <tr>\n",
              "      <th>2</th>\n",
              "      <td>senior us republican senator 'let mr mueller j...</td>\n",
              "      <td>0</td>\n",
              "    </tr>\n",
              "    <tr>\n",
              "      <th>3</th>\n",
              "      <td>fbi russia probe helped australian diplomat ti...</td>\n",
              "      <td>0</td>\n",
              "    </tr>\n",
              "    <tr>\n",
              "      <th>4</th>\n",
              "      <td>trump wants postal service charge 'much more' ...</td>\n",
              "      <td>0</td>\n",
              "    </tr>\n",
              "    <tr>\n",
              "      <th>...</th>\n",
              "      <td>...</td>\n",
              "      <td>...</td>\n",
              "    </tr>\n",
              "    <tr>\n",
              "      <th>44893</th>\n",
              "      <td>mcpain john mccain furious iran treated us sai...</td>\n",
              "      <td>1</td>\n",
              "    </tr>\n",
              "    <tr>\n",
              "      <th>44894</th>\n",
              "      <td>justice yahoo settles email privacy classactio...</td>\n",
              "      <td>1</td>\n",
              "    </tr>\n",
              "    <tr>\n",
              "      <th>44895</th>\n",
              "      <td>sunnistan us allied safe zone plan take territ...</td>\n",
              "      <td>1</td>\n",
              "    </tr>\n",
              "    <tr>\n",
              "      <th>44896</th>\n",
              "      <td>blow million al jazeera america finally calls ...</td>\n",
              "      <td>1</td>\n",
              "    </tr>\n",
              "    <tr>\n",
              "      <th>44897</th>\n",
              "      <td>us navy sailors held iranian military signs ne...</td>\n",
              "      <td>1</td>\n",
              "    </tr>\n",
              "  </tbody>\n",
              "</table>\n",
              "<p>44898 rows × 2 columns</p>\n",
              "</div>"
            ],
            "text/plain": [
              "                                                    text  label\n",
              "0      us budget fight looms republicans flip fiscal ...      0\n",
              "1      us military accept transgender recruits monday...      0\n",
              "2      senior us republican senator 'let mr mueller j...      0\n",
              "3      fbi russia probe helped australian diplomat ti...      0\n",
              "4      trump wants postal service charge 'much more' ...      0\n",
              "...                                                  ...    ...\n",
              "44893  mcpain john mccain furious iran treated us sai...      1\n",
              "44894  justice yahoo settles email privacy classactio...      1\n",
              "44895  sunnistan us allied safe zone plan take territ...      1\n",
              "44896  blow million al jazeera america finally calls ...      1\n",
              "44897  us navy sailors held iranian military signs ne...      1\n",
              "\n",
              "[44898 rows x 2 columns]"
            ]
          },
          "metadata": {
            "tags": []
          },
          "execution_count": 93
        }
      ]
    },
    {
      "cell_type": "code",
      "metadata": {
        "id": "Gu1NmjCLrfV7"
      },
      "source": [
        ""
      ],
      "execution_count": null,
      "outputs": []
    }
  ]
}