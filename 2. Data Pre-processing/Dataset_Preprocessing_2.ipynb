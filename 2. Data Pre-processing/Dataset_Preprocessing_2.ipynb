{
  "nbformat": 4,
  "nbformat_minor": 0,
  "metadata": {
    "colab": {
      "name": "Dataset_Preprocessing_2.ipynb",
      "provenance": [],
      "collapsed_sections": []
    },
    "kernelspec": {
      "display_name": "Python 3",
      "name": "python3"
    },
    "accelerator": "GPU"
  },
  "cells": [
    {
      "cell_type": "code",
      "metadata": {
        "id": "Se70B2pQrZLZ"
      },
      "source": [
        "import pandas as pd\n",
        "import tensorflow as tf\n",
        "import numpy as np\n",
        "from tensorflow.keras.preprocessing.sequence import pad_sequences\n",
        "from numpy import array\n",
        "from keras.preprocessing.text import one_hot\n",
        "from keras.layers.embeddings import Embedding\n",
        "from numpy import asarray\n",
        "from numpy import zeros\n",
        "import keras"
      ],
      "execution_count": 2,
      "outputs": []
    },
    {
      "cell_type": "code",
      "metadata": {
        "colab": {
          "base_uri": "https://localhost:8080/"
        },
        "id": "S6RZ3TnI0LDZ",
        "outputId": "d4e20ced-28c2-4fd2-a9a4-d95a157503e7"
      },
      "source": [
        "from google.colab import drive\n",
        "drive.mount('/content/drive')"
      ],
      "execution_count": 1,
      "outputs": [
        {
          "output_type": "stream",
          "text": [
            "Mounted at /content/drive\n"
          ],
          "name": "stdout"
        }
      ]
    },
    {
      "cell_type": "code",
      "metadata": {
        "id": "aTA5RNVhjnIL"
      },
      "source": [
        "df = pd.read_csv(r\"/content/drive/MyDrive/MSc Project/Data/dataset2.csv\")"
      ],
      "execution_count": 3,
      "outputs": []
    },
    {
      "cell_type": "code",
      "metadata": {
        "colab": {
          "base_uri": "https://localhost:8080/",
          "height": 419
        },
        "id": "b4xIr06dpqaG",
        "outputId": "3b30bb88-0cbd-46e6-faa1-52bf89eed1d3"
      },
      "source": [
        "df"
      ],
      "execution_count": 4,
      "outputs": [
        {
          "output_type": "execute_result",
          "data": {
            "text/html": [
              "<div>\n",
              "<style scoped>\n",
              "    .dataframe tbody tr th:only-of-type {\n",
              "        vertical-align: middle;\n",
              "    }\n",
              "\n",
              "    .dataframe tbody tr th {\n",
              "        vertical-align: top;\n",
              "    }\n",
              "\n",
              "    .dataframe thead th {\n",
              "        text-align: right;\n",
              "    }\n",
              "</style>\n",
              "<table border=\"1\" class=\"dataframe\">\n",
              "  <thead>\n",
              "    <tr style=\"text-align: right;\">\n",
              "      <th></th>\n",
              "      <th>text</th>\n",
              "      <th>label</th>\n",
              "    </tr>\n",
              "  </thead>\n",
              "  <tbody>\n",
              "    <tr>\n",
              "      <th>0</th>\n",
              "      <td>You Can Smell Hillary’s Fear Daniel Greenfield...</td>\n",
              "      <td>1</td>\n",
              "    </tr>\n",
              "    <tr>\n",
              "      <th>1</th>\n",
              "      <td>Watch The Exact Moment Paul Ryan Committed Pol...</td>\n",
              "      <td>1</td>\n",
              "    </tr>\n",
              "    <tr>\n",
              "      <th>2</th>\n",
              "      <td>Kerry to go to Paris in gesture of sympathy U....</td>\n",
              "      <td>0</td>\n",
              "    </tr>\n",
              "    <tr>\n",
              "      <th>3</th>\n",
              "      <td>Bernie supporters on Twitter erupt in anger ag...</td>\n",
              "      <td>1</td>\n",
              "    </tr>\n",
              "    <tr>\n",
              "      <th>4</th>\n",
              "      <td>The Battle of New York: Why This Primary Matte...</td>\n",
              "      <td>0</td>\n",
              "    </tr>\n",
              "    <tr>\n",
              "      <th>...</th>\n",
              "      <td>...</td>\n",
              "      <td>...</td>\n",
              "    </tr>\n",
              "    <tr>\n",
              "      <th>6330</th>\n",
              "      <td>State Department says it can't find emails fro...</td>\n",
              "      <td>0</td>\n",
              "    </tr>\n",
              "    <tr>\n",
              "      <th>6331</th>\n",
              "      <td>The ‘P’ in PBS Should Stand for ‘Plutocratic’ ...</td>\n",
              "      <td>1</td>\n",
              "    </tr>\n",
              "    <tr>\n",
              "      <th>6332</th>\n",
              "      <td>Anti-Trump Protesters Are Tools of the Oligarc...</td>\n",
              "      <td>1</td>\n",
              "    </tr>\n",
              "    <tr>\n",
              "      <th>6333</th>\n",
              "      <td>In Ethiopia, Obama seeks progress on peace, se...</td>\n",
              "      <td>0</td>\n",
              "    </tr>\n",
              "    <tr>\n",
              "      <th>6334</th>\n",
              "      <td>Jeb Bush Is Suddenly Attacking Trump. Here's W...</td>\n",
              "      <td>0</td>\n",
              "    </tr>\n",
              "  </tbody>\n",
              "</table>\n",
              "<p>6335 rows × 2 columns</p>\n",
              "</div>"
            ],
            "text/plain": [
              "                                                   text  label\n",
              "0     You Can Smell Hillary’s Fear Daniel Greenfield...      1\n",
              "1     Watch The Exact Moment Paul Ryan Committed Pol...      1\n",
              "2     Kerry to go to Paris in gesture of sympathy U....      0\n",
              "3     Bernie supporters on Twitter erupt in anger ag...      1\n",
              "4     The Battle of New York: Why This Primary Matte...      0\n",
              "...                                                 ...    ...\n",
              "6330  State Department says it can't find emails fro...      0\n",
              "6331  The ‘P’ in PBS Should Stand for ‘Plutocratic’ ...      1\n",
              "6332  Anti-Trump Protesters Are Tools of the Oligarc...      1\n",
              "6333  In Ethiopia, Obama seeks progress on peace, se...      0\n",
              "6334  Jeb Bush Is Suddenly Attacking Trump. Here's W...      0\n",
              "\n",
              "[6335 rows x 2 columns]"
            ]
          },
          "metadata": {
            "tags": []
          },
          "execution_count": 4
        }
      ]
    },
    {
      "cell_type": "code",
      "metadata": {
        "colab": {
          "base_uri": "https://localhost:8080/",
          "height": 350
        },
        "id": "nkGvBczhpILZ",
        "outputId": "8274a89f-35f8-4944-be6c-8715536a434b"
      },
      "source": [
        "import seaborn as sns\n",
        "sns.set_style(\"darkgrid\")\n",
        "sns.countplot(df.label)"
      ],
      "execution_count": 5,
      "outputs": [
        {
          "output_type": "stream",
          "text": [
            "/usr/local/lib/python3.7/dist-packages/seaborn/_decorators.py:43: FutureWarning: Pass the following variable as a keyword arg: x. From version 0.12, the only valid positional argument will be `data`, and passing other arguments without an explicit keyword will result in an error or misinterpretation.\n",
            "  FutureWarning\n"
          ],
          "name": "stderr"
        },
        {
          "output_type": "execute_result",
          "data": {
            "text/plain": [
              "<matplotlib.axes._subplots.AxesSubplot at 0x7f1fe87a0950>"
            ]
          },
          "metadata": {
            "tags": []
          },
          "execution_count": 5
        },
        {
          "output_type": "display_data",
          "data": {
            "image/png": "[encoded data removed]",
            "text/plain": [
              "<Figure size 432x288 with 1 Axes>"
            ]
          },
          "metadata": {
            "tags": []
          }
        }
      ]
    },
    {
      "cell_type": "code",
      "metadata": {
        "id": "x58IP_9PEZH2"
      },
      "source": [
        "X = df['text'].to_list()\n",
        "y = df['label'].to_list()"
      ],
      "execution_count": 6,
      "outputs": []
    },
    {
      "cell_type": "code",
      "metadata": {
        "colab": {
          "base_uri": "https://localhost:8080/"
        },
        "id": "io6tY_FEbTuX",
        "outputId": "92af34a7-816a-475a-9313-2731a76403c1"
      },
      "source": [
        "X[:5]"
      ],
      "execution_count": 24,
      "outputs": [
        {
          "output_type": "execute_result",
          "data": {
            "text/plain": [
              "['You Can Smell Hillary’s Fear Daniel Greenfield, a Shillman Journalism Fellow at the Freedom Center, is a New York writer focusing on radical Islam. \\nIn the final stretch of the election, Hillary Rodham Clinton has gone to war with the FBI. \\nThe word “unprecedented” has been thrown around so often this election that it ought to be retired. But it’s still unprecedented for the nominee of a major political party to go war with the FBI. \\nBut that’s exactly what Hillary and her people have done. Coma patients just waking up now and watching an hour of CNN from their hospital beds would assume that FBI Director James Comey is Hillary’s opponent in this election. \\nThe FBI is under attack by everyone from Obama to CNN. Hillary’s people have circulated a letter attacking Comey. There are currently more media hit pieces lambasting him than targeting Trump. It wouldn’t be too surprising if the Clintons or their allies were to start running attack ads against the FBI. \\nThe FBI’s leadership is being warned that the entire left-wing establishment will form a lynch mob if they continue going after Hillary. And the FBI’s credibility is being attacked by the media and the Democrats to preemptively head off the results of the investigation of the Clinton Foundation and Hillary Clinton. \\nThe covert struggle between FBI agents and Obama’s DOJ people has gone explosively public. \\nThe New York Times has compared Comey to J. Edgar Hoover. Its bizarre headline, “James Comey Role Recalls Hoover’s FBI, Fairly or Not” practically admits up front that it’s spouting nonsense. The Boston Globe has published a column calling for Comey’s resignation. Not to be outdone, Time has an editorial claiming that the scandal is really an attack on all women. \\nJames Carville appeared on MSNBC to remind everyone that he was still alive and insane. He accused Comey of coordinating with House Republicans and the KGB. And you thought the “vast right wing conspiracy” was a stretch. \\nCountless media stories charge Comey with violating procedure. Do you know what’s a procedural violation? Emailing classified information stored on your bathroom server. \\nSenator Harry Reid has sent Comey a letter accusing him of violating the Hatch Act. The Hatch Act is a nice idea that has as much relevance in the age of Obama as the Tenth Amendment. But the cable news spectrum quickly filled with media hacks glancing at the Wikipedia article on the Hatch Act under the table while accusing the FBI director of one of the most awkward conspiracies against Hillary ever. \\nIf James Comey is really out to hurt Hillary, he picked one hell of a strange way to do it. \\nNot too long ago Democrats were breathing a sigh of relief when he gave Hillary Clinton a pass in a prominent public statement. If he really were out to elect Trump by keeping the email scandal going, why did he trash the investigation? Was he on the payroll of House Republicans and the KGB back then and playing it coy or was it a sudden development where Vladimir Putin and Paul Ryan talked him into taking a look at Anthony Weiner’s computer? \\nEither Comey is the most cunning FBI director that ever lived or he’s just awkwardly trying to navigate a political mess that has trapped him between a DOJ leadership whose political futures are tied to Hillary’s victory and his own bureau whose apolitical agents just want to be allowed to do their jobs. \\nThe only truly mysterious thing is why Hillary and her associates decided to go to war with a respected Federal agency. Most Americans like the FBI while Hillary Clinton enjoys a 60% unfavorable rating. \\nAnd it’s an interesting question. \\nHillary’s old strategy was to lie and deny that the FBI even had a criminal investigation underway. Instead her associates insisted that it was a security review. The FBI corrected her and she shrugged it off. But the old breezy denial approach has given way to a savage assault on the FBI. \\nPretending that nothing was wrong was a bad strategy, but it was a better one that picking a fight with the FBI while lunatic Clinton associates try to claim that the FBI is really the KGB. \\nThere are two possible explanations. \\nHillary Clinton might be arrogant enough to lash out at the FBI now that she believes that victory is near. The same kind of hubris that led her to plan her victory fireworks display could lead her to declare a war on the FBI for irritating her during the final miles of her campaign. \\nBut the other explanation is that her people panicked. \\nGoing to war with the FBI is not the behavior of a smart and focused presidential campaign. It’s an act of desperation. When a presidential candidate decides that her only option is to try and destroy the credibility of the FBI, that’s not hubris, it’s fear of what the FBI might be about to reveal about her. \\nDuring the original FBI investigation, Hillary Clinton was confident that she could ride it out. And she had good reason for believing that. But that Hillary Clinton is gone. In her place is a paranoid wreck. Within a short space of time the “positive” Clinton campaign promising to unite the country has been replaced by a desperate and flailing operation that has focused all its energy on fighting the FBI. \\nThere’s only one reason for such bizarre behavior. \\nThe Clinton campaign has decided that an FBI investigation of the latest batch of emails poses a threat to its survival. And so it’s gone all in on fighting the FBI. It’s an unprecedented step born of fear. It’s hard to know whether that fear is justified. But the existence of that fear already tells us a whole lot. \\nClinton loyalists rigged the old investigation. They knew the outcome ahead of time as well as they knew the debate questions. Now suddenly they are no longer in control. And they are afraid. \\nYou can smell the fear. \\nThe FBI has wiretaps from the investigation of the Clinton Foundation. It’s finding new emails all the time. And Clintonworld panicked. The spinmeisters of Clintonworld have claimed that the email scandal is just so much smoke without fire. All that’s here is the appearance of impropriety without any of the substance. But this isn’t how you react to smoke. It’s how you respond to a fire. \\nThe misguided assault on the FBI tells us that Hillary Clinton and her allies are afraid of a revelation bigger than the fundamental illegality of her email setup. The email setup was a preemptive cover up. The Clinton campaign has panicked badly out of the belief, right or wrong, that whatever crime the illegal setup was meant to cover up is at risk of being exposed. \\nThe Clintons have weathered countless scandals over the years. Whatever they are protecting this time around is bigger than the usual corruption, bribery, sexual assaults and abuses of power that have followed them around throughout the years. This is bigger and more damaging than any of the allegations that have already come out. And they don’t want FBI investigators anywhere near it. \\nThe campaign against Comey is pure intimidation. It’s also a warning. Any senior FBI people who value their careers are being warned to stay away. The Democrats are closing ranks around their nominee against the FBI. It’s an ugly and unprecedented scene. It may also be their last stand. \\nHillary Clinton has awkwardly wound her way through numerous scandals in just this election cycle. But she’s never shown fear or desperation before. Now that has changed. Whatever she is afraid of, it lies buried in her emails with Huma Abedin. And it can bring her down like nothing else has.  ',\n",
              " 'Watch The Exact Moment Paul Ryan Committed Political Suicide At A Trump Rally (VIDEO) Google Pinterest Digg Linkedin Reddit Stumbleupon Print Delicious Pocket Tumblr \\nThere are two fundamental truths in this world: Paul Ryan desperately wants to be president. And Paul Ryan will never be president. Today proved it. \\nIn a particularly staggering example of political cowardice, Paul Ryan re-re-re-reversed course and announced that he was back on the Trump Train after all. This was an aboutface from where he was a few weeks ago. He had previously declared he would not be supporting or defending Trump after a tape was made public in which Trump bragged about assaulting women. Suddenly, Ryan was appearing at a pro-Trump rally and boldly declaring that he already sent in his vote to make him President of the United States. It was a surreal moment. The figurehead of the Republican Party dosed himself in gasoline, got up on a stage on a chilly afternoon in Wisconsin, and lit a match. . @SpeakerRyan says he voted for @realDonaldTrump : “Republicans, it is time to come home” https://t.co/VyTT49YvoE pic.twitter.com/wCvSCg4a5I \\n— ABC News Politics (@ABCPolitics) November 5, 2016 \\nThe Democratic Party couldn’t have asked for a better moment of film. Ryan’s chances of ever becoming president went down to zero in an instant. In the wreckage Trump is to leave behind in his wake, those who cravenly backed his campaign will not recover. If Ryan’s career manages to limp all the way to 2020, then the DNC will have this tape locked and loaded to be used in every ad until Election Day. \\nThe ringing endorsement of the man he clearly hates on a personal level speaks volumes about his own spinelessness. Ryan has postured himself as a “principled” conservative, and one uncomfortable with Trump’s unapologetic bigotry and sexism. However, when push came to shove, Paul Ryan – like many of his colleagues – turned into a sniveling appeaser. After all his lofty tak about conviction, his principles were a house of cards and collapsed with the slightest breeze. \\nWhat’s especially bizarre is how close Ryan came to making it through unscathed. For months the Speaker of the House refused to comment on Trump at all. His strategy seemed to be to keep his head down, pretend Trump didn’t exist, and hope that nobody remembered what happened in 2016. Now, just days away from the election, he screwed it all up. \\nIf 2016’s very ugly election has done any good it’s by exposing the utter cowardice of the Republicans who once feigned moral courage. A reality television star spit on them, hijacked their party, insulted their wives, and got every last one of them to kneel before him. What a turn of events. \\nFeatured image via Twitter',\n",
              " 'Kerry to go to Paris in gesture of sympathy U.S. Secretary of State John F. Kerry said Monday that he will stop in Paris later this week, amid criticism that no top American officials attended Sunday’s unity march against terrorism.\\n\\nKerry said he expects to arrive in Paris Thursday evening, as he heads home after a week abroad. He said he will fly to France at the conclusion of a series of meetings scheduled for Thursday in Sofia, Bulgaria. He plans to meet the next day with Foreign Minister Laurent Fabius and President Francois Hollande, then return to Washington.\\n\\nThe visit by Kerry, who has family and childhood ties to the country and speaks fluent French, could address some of the criticism that the United States snubbed France in its darkest hour in many years.\\n\\nThe French press on Monday was filled with questions about why neither President Obama nor Kerry attended Sunday’s march, as about 40 leaders of other nations did. Obama was said to have stayed away because his own security needs can be taxing on a country, and Kerry had prior commitments.\\n\\nAmong roughly 40 leaders who did attend was Israeli Prime Minister Benjamin Netanyahu, no stranger to intense security, who marched beside Hollande through the city streets. The highest ranking U.S. officials attending the march were Jane Hartley, the ambassador to France, and Victoria Nuland, the assistant secretary of state for European affairs. Attorney General Eric H. Holder Jr. was in Paris for meetings with law enforcement officials but did not participate in the march.\\n\\nKerry spent Sunday at a business summit hosted by India’s prime minister, Narendra Modi. The United States is eager for India to relax stringent laws that function as barriers to foreign investment and hopes Modi’s government will act to open the huge Indian market for more American businesses.\\n\\nIn a news conference, Kerry brushed aside criticism that the United States had not sent a more senior official to Paris as “quibbling a little bit.” He noted that many staffers of the American Embassy in Paris attended the march, including the ambassador. He said he had wanted to be present at the march himself but could not because of his prior commitments in India.\\n\\n“But that is why I am going there on the way home, to make it crystal clear how passionately we feel about the events that have taken place there,” he said.\\n\\n“And I don’t think the people of France have any doubts about America’s understanding of what happened, of our personal sense of loss and our deep commitment to the people of France in this moment of trauma.”',\n",
              " \"Bernie supporters on Twitter erupt in anger against the DNC: 'We tried to warn you!' — Kaydee King (@KaydeeKing) November 9, 2016 The lesson from tonight's Dem losses: Time for Democrats to start listening to the voters. Stop running the same establishment candidates. \\n— People For Bernie (@People4Bernie) November 9, 2016 If Dems didn't want a tight race they shouldn't have worked against Bernie. \\n— Walker Bragman (@WalkerBragman) November 9, 2016 \\nNew York Times columnist Paul Krugman, who was one of Hillary Clinton’s most outspoken surrogates during the contentious Democratic primary, blamed Clinton’s poor performance on Green Party candidate Jill Stein, who has so far received a negligible number of votes nationally, saying Stein was the Ralph Nader of 2016 in preventing a Clinton victory. The account @BerniesTeachers threw Krugman’s analysis back in his face. Your candidate was the issue. Take responsibility. https://t.co/KHyOuUSrFS \\n— Teachers for Bernie (@BerniesTeachers) November 9, 2016 \\nAna Navarro, a Republican who recently endorsed Hillary Clinton, summed up the preposterous nature of the 2016 presidential election in this tweet: GOP nominated the only damn candidate who could lose to Hillary Clinton. Democrats nominated the only damn candidate who could lose to Trump \\n— Ana Navarro (@ananavarro) November 9, 2016 \\nPopular left-wing Facebook page The Other 98%, which was pro-Sanders during the primary, responded to Trump’s surge by simply posting a meme of Sanders’ face with the text “All this could’ve been avoided. Thanks for nothing, DNC!” The meme has been shared almost 15,000 times in less than an hour: \\nPosted by The Other 98% on Tuesday, November 8, 2016 \\nWhile Bernie Sanders endorsed Hillary Clinton just before the Democratic National Convention in July, many of his supporters remained adamant in their refusal to support the DNC-anointed candidate, pointing to WikiLeaks’ revelations that top officials at the DNC had been working behind the scenes to tip the scales in Clinton’s favor by coordinating with media figures to circulate anti-Sanders narratives. \\nRather than attribute a potential Trump presidency to the GOP nominee’s perceived popularity among voters, the closeness of this election could be credited to Hillary Clinton’s unfavorable ratings. According to RealClearPolitics, anywhere between 51 and 57 percent of voters had a negative opinion of the Democratic nominee. \\nAs of 11 PM Eastern, Florida, Michigan, Pennsylvania, and Wisconsin remain too close to call. Clinton has 197 electoral votes to Trump’s 187. \\n\\nZach Cartwright is an activist and author from Richmond, Virginia. He enjoys writing about politics, government, and the media. Send him an email at [email protected]\",\n",
              " 'The Battle of New York: Why This Primary Matters It\\'s primary day in New York and front-runners Hillary Clinton and Donald Trump are leading in the polls.\\n\\nTrump is now vowing to win enough delegates to clinch the Republican nomination and prevent a contested convention. But Sens.Ted Cruz, R-Texas, Bernie Sanders, D-Vt., and Ohio Gov. John Kasich and aren\\'t giving up just yet.\\n\\nA big win in New York could tip the scales for both the Republican and Democratic front-runners in this year\\'s race for the White House. Clinton and Trump have each suffered losses in recent contests, shifting the momentum to their rivals.\\n\\n\"We have won eight out of the last nine caucuses and primaries! Cheer!\" Sanders recently told supporters.\\n\\nWhile wins in New York for Trump and Clinton are expected, the margins of those victories are also important.\\n\\nTrump needs to capture more than 50 percent of the vote statewide if he wants to be positioned to win all of the state\\'s 95 GOP delegates. That would put him one step closer to avoiding a contested convention.\\n\\n\"We\\'ve got to vote and you know Cruz is way, way down in the polls,\" Trump urged supporters.\\n\\nMeanwhile, Sanders is hoping for a close race in the Empire State. A loss by 10 points means he\\'ll need to win 80 percent of the remaining delegates to clinch the nomination.\\n\\nDespite a predicted loss in New York, Cruz hasn\\'t lost momentum. He\\'s hoping to sweep up more delegates this weekend while he\\'s talking about how he can win in November.\\n\\n\"Because if I\\'m the nominee, we win the General Election,\" Cruz promised his supporters. \"We\\'re beating Hillary in the key swing states, we\\'re beating Hillary with Independents, we\\'re beating Hillary with young people.\"\\n\\nFor now, Cruz, Kasich, and Sanders have all moved on from New York to other states. Trump and Clinton are the only two staying in their home state to watch the results come in.']"
            ]
          },
          "metadata": {
            "tags": []
          },
          "execution_count": 24
        }
      ]
    },
    {
      "cell_type": "markdown",
      "metadata": {
        "id": "y5SwMOVBIuHz"
      },
      "source": [
        "**PRE-PROCESSING OF DATA**"
      ]
    },
    {
      "cell_type": "markdown",
      "metadata": {
        "id": "iLVcAJePIJfu"
      },
      "source": [
        "REMOVING URLs"
      ]
    },
    {
      "cell_type": "code",
      "metadata": {
        "id": "96ILHfLCpzkh"
      },
      "source": [
        "import re"
      ],
      "execution_count": 7,
      "outputs": []
    },
    {
      "cell_type": "code",
      "metadata": {
        "id": "lrfyLuyRIINs"
      },
      "source": [
        "# Removing URL's\n",
        "def remove_url(text):\n",
        "    return re.sub(r'http\\S+', '', text)"
      ],
      "execution_count": 8,
      "outputs": []
    },
    {
      "cell_type": "code",
      "metadata": {
        "id": "SMEdHxfyIYH2"
      },
      "source": [
        "X_url = [remove_url(x) for x in X]"
      ],
      "execution_count": 9,
      "outputs": []
    },
    {
      "cell_type": "code",
      "metadata": {
        "colab": {
          "base_uri": "https://localhost:8080/"
        },
        "id": "zbFjD9R1bI3N",
        "outputId": "4a875106-145b-4f6d-e42a-c53a348d6786"
      },
      "source": [
        "X_url[:5]"
      ],
      "execution_count": 10,
      "outputs": [
        {
          "output_type": "execute_result",
          "data": {
            "text/plain": [
              "['You Can Smell Hillary’s Fear Daniel Greenfield, a Shillman Journalism Fellow at the Freedom Center, is a New York writer focusing on radical Islam. \\nIn the final stretch of the election, Hillary Rodham Clinton has gone to war with the FBI. \\nThe word “unprecedented” has been thrown around so often this election that it ought to be retired. But it’s still unprecedented for the nominee of a major political party to go war with the FBI. \\nBut that’s exactly what Hillary and her people have done. Coma patients just waking up now and watching an hour of CNN from their hospital beds would assume that FBI Director James Comey is Hillary’s opponent in this election. \\nThe FBI is under attack by everyone from Obama to CNN. Hillary’s people have circulated a letter attacking Comey. There are currently more media hit pieces lambasting him than targeting Trump. It wouldn’t be too surprising if the Clintons or their allies were to start running attack ads against the FBI. \\nThe FBI’s leadership is being warned that the entire left-wing establishment will form a lynch mob if they continue going after Hillary. And the FBI’s credibility is being attacked by the media and the Democrats to preemptively head off the results of the investigation of the Clinton Foundation and Hillary Clinton. \\nThe covert struggle between FBI agents and Obama’s DOJ people has gone explosively public. \\nThe New York Times has compared Comey to J. Edgar Hoover. Its bizarre headline, “James Comey Role Recalls Hoover’s FBI, Fairly or Not” practically admits up front that it’s spouting nonsense. The Boston Globe has published a column calling for Comey’s resignation. Not to be outdone, Time has an editorial claiming that the scandal is really an attack on all women. \\nJames Carville appeared on MSNBC to remind everyone that he was still alive and insane. He accused Comey of coordinating with House Republicans and the KGB. And you thought the “vast right wing conspiracy” was a stretch. \\nCountless media stories charge Comey with violating procedure. Do you know what’s a procedural violation? Emailing classified information stored on your bathroom server. \\nSenator Harry Reid has sent Comey a letter accusing him of violating the Hatch Act. The Hatch Act is a nice idea that has as much relevance in the age of Obama as the Tenth Amendment. But the cable news spectrum quickly filled with media hacks glancing at the Wikipedia article on the Hatch Act under the table while accusing the FBI director of one of the most awkward conspiracies against Hillary ever. \\nIf James Comey is really out to hurt Hillary, he picked one hell of a strange way to do it. \\nNot too long ago Democrats were breathing a sigh of relief when he gave Hillary Clinton a pass in a prominent public statement. If he really were out to elect Trump by keeping the email scandal going, why did he trash the investigation? Was he on the payroll of House Republicans and the KGB back then and playing it coy or was it a sudden development where Vladimir Putin and Paul Ryan talked him into taking a look at Anthony Weiner’s computer? \\nEither Comey is the most cunning FBI director that ever lived or he’s just awkwardly trying to navigate a political mess that has trapped him between a DOJ leadership whose political futures are tied to Hillary’s victory and his own bureau whose apolitical agents just want to be allowed to do their jobs. \\nThe only truly mysterious thing is why Hillary and her associates decided to go to war with a respected Federal agency. Most Americans like the FBI while Hillary Clinton enjoys a 60% unfavorable rating. \\nAnd it’s an interesting question. \\nHillary’s old strategy was to lie and deny that the FBI even had a criminal investigation underway. Instead her associates insisted that it was a security review. The FBI corrected her and she shrugged it off. But the old breezy denial approach has given way to a savage assault on the FBI. \\nPretending that nothing was wrong was a bad strategy, but it was a better one that picking a fight with the FBI while lunatic Clinton associates try to claim that the FBI is really the KGB. \\nThere are two possible explanations. \\nHillary Clinton might be arrogant enough to lash out at the FBI now that she believes that victory is near. The same kind of hubris that led her to plan her victory fireworks display could lead her to declare a war on the FBI for irritating her during the final miles of her campaign. \\nBut the other explanation is that her people panicked. \\nGoing to war with the FBI is not the behavior of a smart and focused presidential campaign. It’s an act of desperation. When a presidential candidate decides that her only option is to try and destroy the credibility of the FBI, that’s not hubris, it’s fear of what the FBI might be about to reveal about her. \\nDuring the original FBI investigation, Hillary Clinton was confident that she could ride it out. And she had good reason for believing that. But that Hillary Clinton is gone. In her place is a paranoid wreck. Within a short space of time the “positive” Clinton campaign promising to unite the country has been replaced by a desperate and flailing operation that has focused all its energy on fighting the FBI. \\nThere’s only one reason for such bizarre behavior. \\nThe Clinton campaign has decided that an FBI investigation of the latest batch of emails poses a threat to its survival. And so it’s gone all in on fighting the FBI. It’s an unprecedented step born of fear. It’s hard to know whether that fear is justified. But the existence of that fear already tells us a whole lot. \\nClinton loyalists rigged the old investigation. They knew the outcome ahead of time as well as they knew the debate questions. Now suddenly they are no longer in control. And they are afraid. \\nYou can smell the fear. \\nThe FBI has wiretaps from the investigation of the Clinton Foundation. It’s finding new emails all the time. And Clintonworld panicked. The spinmeisters of Clintonworld have claimed that the email scandal is just so much smoke without fire. All that’s here is the appearance of impropriety without any of the substance. But this isn’t how you react to smoke. It’s how you respond to a fire. \\nThe misguided assault on the FBI tells us that Hillary Clinton and her allies are afraid of a revelation bigger than the fundamental illegality of her email setup. The email setup was a preemptive cover up. The Clinton campaign has panicked badly out of the belief, right or wrong, that whatever crime the illegal setup was meant to cover up is at risk of being exposed. \\nThe Clintons have weathered countless scandals over the years. Whatever they are protecting this time around is bigger than the usual corruption, bribery, sexual assaults and abuses of power that have followed them around throughout the years. This is bigger and more damaging than any of the allegations that have already come out. And they don’t want FBI investigators anywhere near it. \\nThe campaign against Comey is pure intimidation. It’s also a warning. Any senior FBI people who value their careers are being warned to stay away. The Democrats are closing ranks around their nominee against the FBI. It’s an ugly and unprecedented scene. It may also be their last stand. \\nHillary Clinton has awkwardly wound her way through numerous scandals in just this election cycle. But she’s never shown fear or desperation before. Now that has changed. Whatever she is afraid of, it lies buried in her emails with Huma Abedin. And it can bring her down like nothing else has.  ',\n",
              " 'Watch The Exact Moment Paul Ryan Committed Political Suicide At A Trump Rally (VIDEO) Google Pinterest Digg Linkedin Reddit Stumbleupon Print Delicious Pocket Tumblr \\nThere are two fundamental truths in this world: Paul Ryan desperately wants to be president. And Paul Ryan will never be president. Today proved it. \\nIn a particularly staggering example of political cowardice, Paul Ryan re-re-re-reversed course and announced that he was back on the Trump Train after all. This was an aboutface from where he was a few weeks ago. He had previously declared he would not be supporting or defending Trump after a tape was made public in which Trump bragged about assaulting women. Suddenly, Ryan was appearing at a pro-Trump rally and boldly declaring that he already sent in his vote to make him President of the United States. It was a surreal moment. The figurehead of the Republican Party dosed himself in gasoline, got up on a stage on a chilly afternoon in Wisconsin, and lit a match. . @SpeakerRyan says he voted for @realDonaldTrump : “Republicans, it is time to come home”  pic.twitter.com/wCvSCg4a5I \\n— ABC News Politics (@ABCPolitics) November 5, 2016 \\nThe Democratic Party couldn’t have asked for a better moment of film. Ryan’s chances of ever becoming president went down to zero in an instant. In the wreckage Trump is to leave behind in his wake, those who cravenly backed his campaign will not recover. If Ryan’s career manages to limp all the way to 2020, then the DNC will have this tape locked and loaded to be used in every ad until Election Day. \\nThe ringing endorsement of the man he clearly hates on a personal level speaks volumes about his own spinelessness. Ryan has postured himself as a “principled” conservative, and one uncomfortable with Trump’s unapologetic bigotry and sexism. However, when push came to shove, Paul Ryan – like many of his colleagues – turned into a sniveling appeaser. After all his lofty tak about conviction, his principles were a house of cards and collapsed with the slightest breeze. \\nWhat’s especially bizarre is how close Ryan came to making it through unscathed. For months the Speaker of the House refused to comment on Trump at all. His strategy seemed to be to keep his head down, pretend Trump didn’t exist, and hope that nobody remembered what happened in 2016. Now, just days away from the election, he screwed it all up. \\nIf 2016’s very ugly election has done any good it’s by exposing the utter cowardice of the Republicans who once feigned moral courage. A reality television star spit on them, hijacked their party, insulted their wives, and got every last one of them to kneel before him. What a turn of events. \\nFeatured image via Twitter',\n",
              " 'Kerry to go to Paris in gesture of sympathy U.S. Secretary of State John F. Kerry said Monday that he will stop in Paris later this week, amid criticism that no top American officials attended Sunday’s unity march against terrorism.\\n\\nKerry said he expects to arrive in Paris Thursday evening, as he heads home after a week abroad. He said he will fly to France at the conclusion of a series of meetings scheduled for Thursday in Sofia, Bulgaria. He plans to meet the next day with Foreign Minister Laurent Fabius and President Francois Hollande, then return to Washington.\\n\\nThe visit by Kerry, who has family and childhood ties to the country and speaks fluent French, could address some of the criticism that the United States snubbed France in its darkest hour in many years.\\n\\nThe French press on Monday was filled with questions about why neither President Obama nor Kerry attended Sunday’s march, as about 40 leaders of other nations did. Obama was said to have stayed away because his own security needs can be taxing on a country, and Kerry had prior commitments.\\n\\nAmong roughly 40 leaders who did attend was Israeli Prime Minister Benjamin Netanyahu, no stranger to intense security, who marched beside Hollande through the city streets. The highest ranking U.S. officials attending the march were Jane Hartley, the ambassador to France, and Victoria Nuland, the assistant secretary of state for European affairs. Attorney General Eric H. Holder Jr. was in Paris for meetings with law enforcement officials but did not participate in the march.\\n\\nKerry spent Sunday at a business summit hosted by India’s prime minister, Narendra Modi. The United States is eager for India to relax stringent laws that function as barriers to foreign investment and hopes Modi’s government will act to open the huge Indian market for more American businesses.\\n\\nIn a news conference, Kerry brushed aside criticism that the United States had not sent a more senior official to Paris as “quibbling a little bit.” He noted that many staffers of the American Embassy in Paris attended the march, including the ambassador. He said he had wanted to be present at the march himself but could not because of his prior commitments in India.\\n\\n“But that is why I am going there on the way home, to make it crystal clear how passionately we feel about the events that have taken place there,” he said.\\n\\n“And I don’t think the people of France have any doubts about America’s understanding of what happened, of our personal sense of loss and our deep commitment to the people of France in this moment of trauma.”',\n",
              " \"Bernie supporters on Twitter erupt in anger against the DNC: 'We tried to warn you!' — Kaydee King (@KaydeeKing) November 9, 2016 The lesson from tonight's Dem losses: Time for Democrats to start listening to the voters. Stop running the same establishment candidates. \\n— People For Bernie (@People4Bernie) November 9, 2016 If Dems didn't want a tight race they shouldn't have worked against Bernie. \\n— Walker Bragman (@WalkerBragman) November 9, 2016 \\nNew York Times columnist Paul Krugman, who was one of Hillary Clinton’s most outspoken surrogates during the contentious Democratic primary, blamed Clinton’s poor performance on Green Party candidate Jill Stein, who has so far received a negligible number of votes nationally, saying Stein was the Ralph Nader of 2016 in preventing a Clinton victory. The account @BerniesTeachers threw Krugman’s analysis back in his face. Your candidate was the issue. Take responsibility.  \\n— Teachers for Bernie (@BerniesTeachers) November 9, 2016 \\nAna Navarro, a Republican who recently endorsed Hillary Clinton, summed up the preposterous nature of the 2016 presidential election in this tweet: GOP nominated the only damn candidate who could lose to Hillary Clinton. Democrats nominated the only damn candidate who could lose to Trump \\n— Ana Navarro (@ananavarro) November 9, 2016 \\nPopular left-wing Facebook page The Other 98%, which was pro-Sanders during the primary, responded to Trump’s surge by simply posting a meme of Sanders’ face with the text “All this could’ve been avoided. Thanks for nothing, DNC!” The meme has been shared almost 15,000 times in less than an hour: \\nPosted by The Other 98% on Tuesday, November 8, 2016 \\nWhile Bernie Sanders endorsed Hillary Clinton just before the Democratic National Convention in July, many of his supporters remained adamant in their refusal to support the DNC-anointed candidate, pointing to WikiLeaks’ revelations that top officials at the DNC had been working behind the scenes to tip the scales in Clinton’s favor by coordinating with media figures to circulate anti-Sanders narratives. \\nRather than attribute a potential Trump presidency to the GOP nominee’s perceived popularity among voters, the closeness of this election could be credited to Hillary Clinton’s unfavorable ratings. According to RealClearPolitics, anywhere between 51 and 57 percent of voters had a negative opinion of the Democratic nominee. \\nAs of 11 PM Eastern, Florida, Michigan, Pennsylvania, and Wisconsin remain too close to call. Clinton has 197 electoral votes to Trump’s 187. \\n\\nZach Cartwright is an activist and author from Richmond, Virginia. He enjoys writing about politics, government, and the media. Send him an email at [email protected]\",\n",
              " 'The Battle of New York: Why This Primary Matters It\\'s primary day in New York and front-runners Hillary Clinton and Donald Trump are leading in the polls.\\n\\nTrump is now vowing to win enough delegates to clinch the Republican nomination and prevent a contested convention. But Sens.Ted Cruz, R-Texas, Bernie Sanders, D-Vt., and Ohio Gov. John Kasich and aren\\'t giving up just yet.\\n\\nA big win in New York could tip the scales for both the Republican and Democratic front-runners in this year\\'s race for the White House. Clinton and Trump have each suffered losses in recent contests, shifting the momentum to their rivals.\\n\\n\"We have won eight out of the last nine caucuses and primaries! Cheer!\" Sanders recently told supporters.\\n\\nWhile wins in New York for Trump and Clinton are expected, the margins of those victories are also important.\\n\\nTrump needs to capture more than 50 percent of the vote statewide if he wants to be positioned to win all of the state\\'s 95 GOP delegates. That would put him one step closer to avoiding a contested convention.\\n\\n\"We\\'ve got to vote and you know Cruz is way, way down in the polls,\" Trump urged supporters.\\n\\nMeanwhile, Sanders is hoping for a close race in the Empire State. A loss by 10 points means he\\'ll need to win 80 percent of the remaining delegates to clinch the nomination.\\n\\nDespite a predicted loss in New York, Cruz hasn\\'t lost momentum. He\\'s hoping to sweep up more delegates this weekend while he\\'s talking about how he can win in November.\\n\\n\"Because if I\\'m the nominee, we win the General Election,\" Cruz promised his supporters. \"We\\'re beating Hillary in the key swing states, we\\'re beating Hillary with Independents, we\\'re beating Hillary with young people.\"\\n\\nFor now, Cruz, Kasich, and Sanders have all moved on from New York to other states. Trump and Clinton are the only two staying in their home state to watch the results come in.']"
            ]
          },
          "metadata": {
            "tags": []
          },
          "execution_count": 10
        }
      ]
    },
    {
      "cell_type": "markdown",
      "metadata": {
        "id": "0rxp4A8LEtcy"
      },
      "source": [
        "LOWERCASING"
      ]
    },
    {
      "cell_type": "code",
      "metadata": {
        "id": "1rGJRK9GEeGb"
      },
      "source": [
        "X_lower = [x.lower() for x in X_url]"
      ],
      "execution_count": 11,
      "outputs": []
    },
    {
      "cell_type": "code",
      "metadata": {
        "colab": {
          "base_uri": "https://localhost:8080/"
        },
        "id": "IHS2dNm3GW3M",
        "outputId": "b48b9be1-4c31-471d-82f6-0ae11ed2f2e2"
      },
      "source": [
        "X_lower[:5]"
      ],
      "execution_count": 12,
      "outputs": [
        {
          "output_type": "execute_result",
          "data": {
            "text/plain": [
              "['you can smell hillary’s fear daniel greenfield, a shillman journalism fellow at the freedom center, is a new york writer focusing on radical islam. \\nin the final stretch of the election, hillary rodham clinton has gone to war with the fbi. \\nthe word “unprecedented” has been thrown around so often this election that it ought to be retired. but it’s still unprecedented for the nominee of a major political party to go war with the fbi. \\nbut that’s exactly what hillary and her people have done. coma patients just waking up now and watching an hour of cnn from their hospital beds would assume that fbi director james comey is hillary’s opponent in this election. \\nthe fbi is under attack by everyone from obama to cnn. hillary’s people have circulated a letter attacking comey. there are currently more media hit pieces lambasting him than targeting trump. it wouldn’t be too surprising if the clintons or their allies were to start running attack ads against the fbi. \\nthe fbi’s leadership is being warned that the entire left-wing establishment will form a lynch mob if they continue going after hillary. and the fbi’s credibility is being attacked by the media and the democrats to preemptively head off the results of the investigation of the clinton foundation and hillary clinton. \\nthe covert struggle between fbi agents and obama’s doj people has gone explosively public. \\nthe new york times has compared comey to j. edgar hoover. its bizarre headline, “james comey role recalls hoover’s fbi, fairly or not” practically admits up front that it’s spouting nonsense. the boston globe has published a column calling for comey’s resignation. not to be outdone, time has an editorial claiming that the scandal is really an attack on all women. \\njames carville appeared on msnbc to remind everyone that he was still alive and insane. he accused comey of coordinating with house republicans and the kgb. and you thought the “vast right wing conspiracy” was a stretch. \\ncountless media stories charge comey with violating procedure. do you know what’s a procedural violation? emailing classified information stored on your bathroom server. \\nsenator harry reid has sent comey a letter accusing him of violating the hatch act. the hatch act is a nice idea that has as much relevance in the age of obama as the tenth amendment. but the cable news spectrum quickly filled with media hacks glancing at the wikipedia article on the hatch act under the table while accusing the fbi director of one of the most awkward conspiracies against hillary ever. \\nif james comey is really out to hurt hillary, he picked one hell of a strange way to do it. \\nnot too long ago democrats were breathing a sigh of relief when he gave hillary clinton a pass in a prominent public statement. if he really were out to elect trump by keeping the email scandal going, why did he trash the investigation? was he on the payroll of house republicans and the kgb back then and playing it coy or was it a sudden development where vladimir putin and paul ryan talked him into taking a look at anthony weiner’s computer? \\neither comey is the most cunning fbi director that ever lived or he’s just awkwardly trying to navigate a political mess that has trapped him between a doj leadership whose political futures are tied to hillary’s victory and his own bureau whose apolitical agents just want to be allowed to do their jobs. \\nthe only truly mysterious thing is why hillary and her associates decided to go to war with a respected federal agency. most americans like the fbi while hillary clinton enjoys a 60% unfavorable rating. \\nand it’s an interesting question. \\nhillary’s old strategy was to lie and deny that the fbi even had a criminal investigation underway. instead her associates insisted that it was a security review. the fbi corrected her and she shrugged it off. but the old breezy denial approach has given way to a savage assault on the fbi. \\npretending that nothing was wrong was a bad strategy, but it was a better one that picking a fight with the fbi while lunatic clinton associates try to claim that the fbi is really the kgb. \\nthere are two possible explanations. \\nhillary clinton might be arrogant enough to lash out at the fbi now that she believes that victory is near. the same kind of hubris that led her to plan her victory fireworks display could lead her to declare a war on the fbi for irritating her during the final miles of her campaign. \\nbut the other explanation is that her people panicked. \\ngoing to war with the fbi is not the behavior of a smart and focused presidential campaign. it’s an act of desperation. when a presidential candidate decides that her only option is to try and destroy the credibility of the fbi, that’s not hubris, it’s fear of what the fbi might be about to reveal about her. \\nduring the original fbi investigation, hillary clinton was confident that she could ride it out. and she had good reason for believing that. but that hillary clinton is gone. in her place is a paranoid wreck. within a short space of time the “positive” clinton campaign promising to unite the country has been replaced by a desperate and flailing operation that has focused all its energy on fighting the fbi. \\nthere’s only one reason for such bizarre behavior. \\nthe clinton campaign has decided that an fbi investigation of the latest batch of emails poses a threat to its survival. and so it’s gone all in on fighting the fbi. it’s an unprecedented step born of fear. it’s hard to know whether that fear is justified. but the existence of that fear already tells us a whole lot. \\nclinton loyalists rigged the old investigation. they knew the outcome ahead of time as well as they knew the debate questions. now suddenly they are no longer in control. and they are afraid. \\nyou can smell the fear. \\nthe fbi has wiretaps from the investigation of the clinton foundation. it’s finding new emails all the time. and clintonworld panicked. the spinmeisters of clintonworld have claimed that the email scandal is just so much smoke without fire. all that’s here is the appearance of impropriety without any of the substance. but this isn’t how you react to smoke. it’s how you respond to a fire. \\nthe misguided assault on the fbi tells us that hillary clinton and her allies are afraid of a revelation bigger than the fundamental illegality of her email setup. the email setup was a preemptive cover up. the clinton campaign has panicked badly out of the belief, right or wrong, that whatever crime the illegal setup was meant to cover up is at risk of being exposed. \\nthe clintons have weathered countless scandals over the years. whatever they are protecting this time around is bigger than the usual corruption, bribery, sexual assaults and abuses of power that have followed them around throughout the years. this is bigger and more damaging than any of the allegations that have already come out. and they don’t want fbi investigators anywhere near it. \\nthe campaign against comey is pure intimidation. it’s also a warning. any senior fbi people who value their careers are being warned to stay away. the democrats are closing ranks around their nominee against the fbi. it’s an ugly and unprecedented scene. it may also be their last stand. \\nhillary clinton has awkwardly wound her way through numerous scandals in just this election cycle. but she’s never shown fear or desperation before. now that has changed. whatever she is afraid of, it lies buried in her emails with huma abedin. and it can bring her down like nothing else has.  ',\n",
              " 'watch the exact moment paul ryan committed political suicide at a trump rally (video) google pinterest digg linkedin reddit stumbleupon print delicious pocket tumblr \\nthere are two fundamental truths in this world: paul ryan desperately wants to be president. and paul ryan will never be president. today proved it. \\nin a particularly staggering example of political cowardice, paul ryan re-re-re-reversed course and announced that he was back on the trump train after all. this was an aboutface from where he was a few weeks ago. he had previously declared he would not be supporting or defending trump after a tape was made public in which trump bragged about assaulting women. suddenly, ryan was appearing at a pro-trump rally and boldly declaring that he already sent in his vote to make him president of the united states. it was a surreal moment. the figurehead of the republican party dosed himself in gasoline, got up on a stage on a chilly afternoon in wisconsin, and lit a match. . @speakerryan says he voted for @realdonaldtrump : “republicans, it is time to come home”  pic.twitter.com/wcvscg4a5i \\n— abc news politics (@abcpolitics) november 5, 2016 \\nthe democratic party couldn’t have asked for a better moment of film. ryan’s chances of ever becoming president went down to zero in an instant. in the wreckage trump is to leave behind in his wake, those who cravenly backed his campaign will not recover. if ryan’s career manages to limp all the way to 2020, then the dnc will have this tape locked and loaded to be used in every ad until election day. \\nthe ringing endorsement of the man he clearly hates on a personal level speaks volumes about his own spinelessness. ryan has postured himself as a “principled” conservative, and one uncomfortable with trump’s unapologetic bigotry and sexism. however, when push came to shove, paul ryan – like many of his colleagues – turned into a sniveling appeaser. after all his lofty tak about conviction, his principles were a house of cards and collapsed with the slightest breeze. \\nwhat’s especially bizarre is how close ryan came to making it through unscathed. for months the speaker of the house refused to comment on trump at all. his strategy seemed to be to keep his head down, pretend trump didn’t exist, and hope that nobody remembered what happened in 2016. now, just days away from the election, he screwed it all up. \\nif 2016’s very ugly election has done any good it’s by exposing the utter cowardice of the republicans who once feigned moral courage. a reality television star spit on them, hijacked their party, insulted their wives, and got every last one of them to kneel before him. what a turn of events. \\nfeatured image via twitter',\n",
              " 'kerry to go to paris in gesture of sympathy u.s. secretary of state john f. kerry said monday that he will stop in paris later this week, amid criticism that no top american officials attended sunday’s unity march against terrorism.\\n\\nkerry said he expects to arrive in paris thursday evening, as he heads home after a week abroad. he said he will fly to france at the conclusion of a series of meetings scheduled for thursday in sofia, bulgaria. he plans to meet the next day with foreign minister laurent fabius and president francois hollande, then return to washington.\\n\\nthe visit by kerry, who has family and childhood ties to the country and speaks fluent french, could address some of the criticism that the united states snubbed france in its darkest hour in many years.\\n\\nthe french press on monday was filled with questions about why neither president obama nor kerry attended sunday’s march, as about 40 leaders of other nations did. obama was said to have stayed away because his own security needs can be taxing on a country, and kerry had prior commitments.\\n\\namong roughly 40 leaders who did attend was israeli prime minister benjamin netanyahu, no stranger to intense security, who marched beside hollande through the city streets. the highest ranking u.s. officials attending the march were jane hartley, the ambassador to france, and victoria nuland, the assistant secretary of state for european affairs. attorney general eric h. holder jr. was in paris for meetings with law enforcement officials but did not participate in the march.\\n\\nkerry spent sunday at a business summit hosted by india’s prime minister, narendra modi. the united states is eager for india to relax stringent laws that function as barriers to foreign investment and hopes modi’s government will act to open the huge indian market for more american businesses.\\n\\nin a news conference, kerry brushed aside criticism that the united states had not sent a more senior official to paris as “quibbling a little bit.” he noted that many staffers of the american embassy in paris attended the march, including the ambassador. he said he had wanted to be present at the march himself but could not because of his prior commitments in india.\\n\\n“but that is why i am going there on the way home, to make it crystal clear how passionately we feel about the events that have taken place there,” he said.\\n\\n“and i don’t think the people of france have any doubts about america’s understanding of what happened, of our personal sense of loss and our deep commitment to the people of france in this moment of trauma.”',\n",
              " \"bernie supporters on twitter erupt in anger against the dnc: 'we tried to warn you!' — kaydee king (@kaydeeking) november 9, 2016 the lesson from tonight's dem losses: time for democrats to start listening to the voters. stop running the same establishment candidates. \\n— people for bernie (@people4bernie) november 9, 2016 if dems didn't want a tight race they shouldn't have worked against bernie. \\n— walker bragman (@walkerbragman) november 9, 2016 \\nnew york times columnist paul krugman, who was one of hillary clinton’s most outspoken surrogates during the contentious democratic primary, blamed clinton’s poor performance on green party candidate jill stein, who has so far received a negligible number of votes nationally, saying stein was the ralph nader of 2016 in preventing a clinton victory. the account @berniesteachers threw krugman’s analysis back in his face. your candidate was the issue. take responsibility.  \\n— teachers for bernie (@berniesteachers) november 9, 2016 \\nana navarro, a republican who recently endorsed hillary clinton, summed up the preposterous nature of the 2016 presidential election in this tweet: gop nominated the only damn candidate who could lose to hillary clinton. democrats nominated the only damn candidate who could lose to trump \\n— ana navarro (@ananavarro) november 9, 2016 \\npopular left-wing facebook page the other 98%, which was pro-sanders during the primary, responded to trump’s surge by simply posting a meme of sanders’ face with the text “all this could’ve been avoided. thanks for nothing, dnc!” the meme has been shared almost 15,000 times in less than an hour: \\nposted by the other 98% on tuesday, november 8, 2016 \\nwhile bernie sanders endorsed hillary clinton just before the democratic national convention in july, many of his supporters remained adamant in their refusal to support the dnc-anointed candidate, pointing to wikileaks’ revelations that top officials at the dnc had been working behind the scenes to tip the scales in clinton’s favor by coordinating with media figures to circulate anti-sanders narratives. \\nrather than attribute a potential trump presidency to the gop nominee’s perceived popularity among voters, the closeness of this election could be credited to hillary clinton’s unfavorable ratings. according to realclearpolitics, anywhere between 51 and 57 percent of voters had a negative opinion of the democratic nominee. \\nas of 11 pm eastern, florida, michigan, pennsylvania, and wisconsin remain too close to call. clinton has 197 electoral votes to trump’s 187. \\n\\nzach cartwright is an activist and author from richmond, virginia. he enjoys writing about politics, government, and the media. send him an email at [email protected]\",\n",
              " 'the battle of new york: why this primary matters it\\'s primary day in new york and front-runners hillary clinton and donald trump are leading in the polls.\\n\\ntrump is now vowing to win enough delegates to clinch the republican nomination and prevent a contested convention. but sens.ted cruz, r-texas, bernie sanders, d-vt., and ohio gov. john kasich and aren\\'t giving up just yet.\\n\\na big win in new york could tip the scales for both the republican and democratic front-runners in this year\\'s race for the white house. clinton and trump have each suffered losses in recent contests, shifting the momentum to their rivals.\\n\\n\"we have won eight out of the last nine caucuses and primaries! cheer!\" sanders recently told supporters.\\n\\nwhile wins in new york for trump and clinton are expected, the margins of those victories are also important.\\n\\ntrump needs to capture more than 50 percent of the vote statewide if he wants to be positioned to win all of the state\\'s 95 gop delegates. that would put him one step closer to avoiding a contested convention.\\n\\n\"we\\'ve got to vote and you know cruz is way, way down in the polls,\" trump urged supporters.\\n\\nmeanwhile, sanders is hoping for a close race in the empire state. a loss by 10 points means he\\'ll need to win 80 percent of the remaining delegates to clinch the nomination.\\n\\ndespite a predicted loss in new york, cruz hasn\\'t lost momentum. he\\'s hoping to sweep up more delegates this weekend while he\\'s talking about how he can win in november.\\n\\n\"because if i\\'m the nominee, we win the general election,\" cruz promised his supporters. \"we\\'re beating hillary in the key swing states, we\\'re beating hillary with independents, we\\'re beating hillary with young people.\"\\n\\nfor now, cruz, kasich, and sanders have all moved on from new york to other states. trump and clinton are the only two staying in their home state to watch the results come in.']"
            ]
          },
          "metadata": {
            "tags": []
          },
          "execution_count": 12
        }
      ]
    },
    {
      "cell_type": "markdown",
      "metadata": {
        "id": "tIU7xWnHGuZb"
      },
      "source": [
        "REMOVING ALL NON-ALPHABETS"
      ]
    },
    {
      "cell_type": "code",
      "metadata": {
        "id": "uQ08d2KZEpdW"
      },
      "source": [
        "def cleandata(s):\n",
        "    replaced = re.sub(\"[^a-zA-Z' ]+\", '', s)\n",
        "    return replaced"
      ],
      "execution_count": 13,
      "outputs": []
    },
    {
      "cell_type": "code",
      "metadata": {
        "id": "-6wBO68gFyZ6"
      },
      "source": [
        "X_re = [cleandata(x) for x in X_lower]"
      ],
      "execution_count": 14,
      "outputs": []
    },
    {
      "cell_type": "code",
      "metadata": {
        "colab": {
          "base_uri": "https://localhost:8080/"
        },
        "id": "vGkNQ9dEbNBE",
        "outputId": "3f58c2f7-0ca3-4bf0-e39b-5fa828125063"
      },
      "source": [
        "X_re[:5]"
      ],
      "execution_count": 16,
      "outputs": [
        {
          "output_type": "execute_result",
          "data": {
            "text/plain": [
              "['you can smell hillarys fear daniel greenfield a shillman journalism fellow at the freedom center is a new york writer focusing on radical islam in the final stretch of the election hillary rodham clinton has gone to war with the fbi the word unprecedented has been thrown around so often this election that it ought to be retired but its still unprecedented for the nominee of a major political party to go war with the fbi but thats exactly what hillary and her people have done coma patients just waking up now and watching an hour of cnn from their hospital beds would assume that fbi director james comey is hillarys opponent in this election the fbi is under attack by everyone from obama to cnn hillarys people have circulated a letter attacking comey there are currently more media hit pieces lambasting him than targeting trump it wouldnt be too surprising if the clintons or their allies were to start running attack ads against the fbi the fbis leadership is being warned that the entire leftwing establishment will form a lynch mob if they continue going after hillary and the fbis credibility is being attacked by the media and the democrats to preemptively head off the results of the investigation of the clinton foundation and hillary clinton the covert struggle between fbi agents and obamas doj people has gone explosively public the new york times has compared comey to j edgar hoover its bizarre headline james comey role recalls hoovers fbi fairly or not practically admits up front that its spouting nonsense the boston globe has published a column calling for comeys resignation not to be outdone time has an editorial claiming that the scandal is really an attack on all women james carville appeared on msnbc to remind everyone that he was still alive and insane he accused comey of coordinating with house republicans and the kgb and you thought the vast right wing conspiracy was a stretch countless media stories charge comey with violating procedure do you know whats a procedural violation emailing classified information stored on your bathroom server senator harry reid has sent comey a letter accusing him of violating the hatch act the hatch act is a nice idea that has as much relevance in the age of obama as the tenth amendment but the cable news spectrum quickly filled with media hacks glancing at the wikipedia article on the hatch act under the table while accusing the fbi director of one of the most awkward conspiracies against hillary ever if james comey is really out to hurt hillary he picked one hell of a strange way to do it not too long ago democrats were breathing a sigh of relief when he gave hillary clinton a pass in a prominent public statement if he really were out to elect trump by keeping the email scandal going why did he trash the investigation was he on the payroll of house republicans and the kgb back then and playing it coy or was it a sudden development where vladimir putin and paul ryan talked him into taking a look at anthony weiners computer either comey is the most cunning fbi director that ever lived or hes just awkwardly trying to navigate a political mess that has trapped him between a doj leadership whose political futures are tied to hillarys victory and his own bureau whose apolitical agents just want to be allowed to do their jobs the only truly mysterious thing is why hillary and her associates decided to go to war with a respected federal agency most americans like the fbi while hillary clinton enjoys a  unfavorable rating and its an interesting question hillarys old strategy was to lie and deny that the fbi even had a criminal investigation underway instead her associates insisted that it was a security review the fbi corrected her and she shrugged it off but the old breezy denial approach has given way to a savage assault on the fbi pretending that nothing was wrong was a bad strategy but it was a better one that picking a fight with the fbi while lunatic clinton associates try to claim that the fbi is really the kgb there are two possible explanations hillary clinton might be arrogant enough to lash out at the fbi now that she believes that victory is near the same kind of hubris that led her to plan her victory fireworks display could lead her to declare a war on the fbi for irritating her during the final miles of her campaign but the other explanation is that her people panicked going to war with the fbi is not the behavior of a smart and focused presidential campaign its an act of desperation when a presidential candidate decides that her only option is to try and destroy the credibility of the fbi thats not hubris its fear of what the fbi might be about to reveal about her during the original fbi investigation hillary clinton was confident that she could ride it out and she had good reason for believing that but that hillary clinton is gone in her place is a paranoid wreck within a short space of time the positive clinton campaign promising to unite the country has been replaced by a desperate and flailing operation that has focused all its energy on fighting the fbi theres only one reason for such bizarre behavior the clinton campaign has decided that an fbi investigation of the latest batch of emails poses a threat to its survival and so its gone all in on fighting the fbi its an unprecedented step born of fear its hard to know whether that fear is justified but the existence of that fear already tells us a whole lot clinton loyalists rigged the old investigation they knew the outcome ahead of time as well as they knew the debate questions now suddenly they are no longer in control and they are afraid you can smell the fear the fbi has wiretaps from the investigation of the clinton foundation its finding new emails all the time and clintonworld panicked the spinmeisters of clintonworld have claimed that the email scandal is just so much smoke without fire all thats here is the appearance of impropriety without any of the substance but this isnt how you react to smoke its how you respond to a fire the misguided assault on the fbi tells us that hillary clinton and her allies are afraid of a revelation bigger than the fundamental illegality of her email setup the email setup was a preemptive cover up the clinton campaign has panicked badly out of the belief right or wrong that whatever crime the illegal setup was meant to cover up is at risk of being exposed the clintons have weathered countless scandals over the years whatever they are protecting this time around is bigger than the usual corruption bribery sexual assaults and abuses of power that have followed them around throughout the years this is bigger and more damaging than any of the allegations that have already come out and they dont want fbi investigators anywhere near it the campaign against comey is pure intimidation its also a warning any senior fbi people who value their careers are being warned to stay away the democrats are closing ranks around their nominee against the fbi its an ugly and unprecedented scene it may also be their last stand hillary clinton has awkwardly wound her way through numerous scandals in just this election cycle but shes never shown fear or desperation before now that has changed whatever she is afraid of it lies buried in her emails with huma abedin and it can bring her down like nothing else has  ',\n",
              " 'watch the exact moment paul ryan committed political suicide at a trump rally video google pinterest digg linkedin reddit stumbleupon print delicious pocket tumblr there are two fundamental truths in this world paul ryan desperately wants to be president and paul ryan will never be president today proved it in a particularly staggering example of political cowardice paul ryan rererereversed course and announced that he was back on the trump train after all this was an aboutface from where he was a few weeks ago he had previously declared he would not be supporting or defending trump after a tape was made public in which trump bragged about assaulting women suddenly ryan was appearing at a protrump rally and boldly declaring that he already sent in his vote to make him president of the united states it was a surreal moment the figurehead of the republican party dosed himself in gasoline got up on a stage on a chilly afternoon in wisconsin and lit a match  speakerryan says he voted for realdonaldtrump  republicans it is time to come home  pictwittercomwcvscgai  abc news politics abcpolitics november   the democratic party couldnt have asked for a better moment of film ryans chances of ever becoming president went down to zero in an instant in the wreckage trump is to leave behind in his wake those who cravenly backed his campaign will not recover if ryans career manages to limp all the way to  then the dnc will have this tape locked and loaded to be used in every ad until election day the ringing endorsement of the man he clearly hates on a personal level speaks volumes about his own spinelessness ryan has postured himself as a principled conservative and one uncomfortable with trumps unapologetic bigotry and sexism however when push came to shove paul ryan  like many of his colleagues  turned into a sniveling appeaser after all his lofty tak about conviction his principles were a house of cards and collapsed with the slightest breeze whats especially bizarre is how close ryan came to making it through unscathed for months the speaker of the house refused to comment on trump at all his strategy seemed to be to keep his head down pretend trump didnt exist and hope that nobody remembered what happened in  now just days away from the election he screwed it all up if s very ugly election has done any good its by exposing the utter cowardice of the republicans who once feigned moral courage a reality television star spit on them hijacked their party insulted their wives and got every last one of them to kneel before him what a turn of events featured image via twitter',\n",
              " 'kerry to go to paris in gesture of sympathy us secretary of state john f kerry said monday that he will stop in paris later this week amid criticism that no top american officials attended sundays unity march against terrorismkerry said he expects to arrive in paris thursday evening as he heads home after a week abroad he said he will fly to france at the conclusion of a series of meetings scheduled for thursday in sofia bulgaria he plans to meet the next day with foreign minister laurent fabius and president francois hollande then return to washingtonthe visit by kerry who has family and childhood ties to the country and speaks fluent french could address some of the criticism that the united states snubbed france in its darkest hour in many yearsthe french press on monday was filled with questions about why neither president obama nor kerry attended sundays march as about  leaders of other nations did obama was said to have stayed away because his own security needs can be taxing on a country and kerry had prior commitmentsamong roughly  leaders who did attend was israeli prime minister benjamin netanyahu no stranger to intense security who marched beside hollande through the city streets the highest ranking us officials attending the march were jane hartley the ambassador to france and victoria nuland the assistant secretary of state for european affairs attorney general eric h holder jr was in paris for meetings with law enforcement officials but did not participate in the marchkerry spent sunday at a business summit hosted by indias prime minister narendra modi the united states is eager for india to relax stringent laws that function as barriers to foreign investment and hopes modis government will act to open the huge indian market for more american businessesin a news conference kerry brushed aside criticism that the united states had not sent a more senior official to paris as quibbling a little bit he noted that many staffers of the american embassy in paris attended the march including the ambassador he said he had wanted to be present at the march himself but could not because of his prior commitments in indiabut that is why i am going there on the way home to make it crystal clear how passionately we feel about the events that have taken place there he saidand i dont think the people of france have any doubts about americas understanding of what happened of our personal sense of loss and our deep commitment to the people of france in this moment of trauma',\n",
              " \"bernie supporters on twitter erupt in anger against the dnc 'we tried to warn you'  kaydee king kaydeeking november   the lesson from tonight's dem losses time for democrats to start listening to the voters stop running the same establishment candidates  people for bernie peoplebernie november   if dems didn't want a tight race they shouldn't have worked against bernie  walker bragman walkerbragman november   new york times columnist paul krugman who was one of hillary clintons most outspoken surrogates during the contentious democratic primary blamed clintons poor performance on green party candidate jill stein who has so far received a negligible number of votes nationally saying stein was the ralph nader of  in preventing a clinton victory the account berniesteachers threw krugmans analysis back in his face your candidate was the issue take responsibility   teachers for bernie berniesteachers november   ana navarro a republican who recently endorsed hillary clinton summed up the preposterous nature of the  presidential election in this tweet gop nominated the only damn candidate who could lose to hillary clinton democrats nominated the only damn candidate who could lose to trump  ana navarro ananavarro november   popular leftwing facebook page the other  which was prosanders during the primary responded to trumps surge by simply posting a meme of sanders face with the text all this couldve been avoided thanks for nothing dnc the meme has been shared almost  times in less than an hour posted by the other  on tuesday november   while bernie sanders endorsed hillary clinton just before the democratic national convention in july many of his supporters remained adamant in their refusal to support the dncanointed candidate pointing to wikileaks revelations that top officials at the dnc had been working behind the scenes to tip the scales in clintons favor by coordinating with media figures to circulate antisanders narratives rather than attribute a potential trump presidency to the gop nominees perceived popularity among voters the closeness of this election could be credited to hillary clintons unfavorable ratings according to realclearpolitics anywhere between  and  percent of voters had a negative opinion of the democratic nominee as of  pm eastern florida michigan pennsylvania and wisconsin remain too close to call clinton has  electoral votes to trumps  zach cartwright is an activist and author from richmond virginia he enjoys writing about politics government and the media send him an email at email protected\",\n",
              " \"the battle of new york why this primary matters it's primary day in new york and frontrunners hillary clinton and donald trump are leading in the pollstrump is now vowing to win enough delegates to clinch the republican nomination and prevent a contested convention but sensted cruz rtexas bernie sanders dvt and ohio gov john kasich and aren't giving up just yeta big win in new york could tip the scales for both the republican and democratic frontrunners in this year's race for the white house clinton and trump have each suffered losses in recent contests shifting the momentum to their rivalswe have won eight out of the last nine caucuses and primaries cheer sanders recently told supporterswhile wins in new york for trump and clinton are expected the margins of those victories are also importanttrump needs to capture more than  percent of the vote statewide if he wants to be positioned to win all of the state's  gop delegates that would put him one step closer to avoiding a contested conventionwe've got to vote and you know cruz is way way down in the polls trump urged supportersmeanwhile sanders is hoping for a close race in the empire state a loss by  points means he'll need to win  percent of the remaining delegates to clinch the nominationdespite a predicted loss in new york cruz hasn't lost momentum he's hoping to sweep up more delegates this weekend while he's talking about how he can win in novemberbecause if i'm the nominee we win the general election cruz promised his supporters we're beating hillary in the key swing states we're beating hillary with independents we're beating hillary with young peoplefor now cruz kasich and sanders have all moved on from new york to other states trump and clinton are the only two staying in their home state to watch the results come in\"]"
            ]
          },
          "metadata": {
            "tags": []
          },
          "execution_count": 16
        }
      ]
    },
    {
      "cell_type": "code",
      "metadata": {
        "colab": {
          "base_uri": "https://localhost:8080/"
        },
        "id": "5ZxBUEZ7F2jd",
        "outputId": "aec32867-f2d5-44d1-e530-eeb320f696cc"
      },
      "source": [
        "len(X_re[0])"
      ],
      "execution_count": 15,
      "outputs": [
        {
          "output_type": "execute_result",
          "data": {
            "text/plain": [
              "7366"
            ]
          },
          "metadata": {
            "tags": []
          },
          "execution_count": 15
        }
      ]
    },
    {
      "cell_type": "markdown",
      "metadata": {
        "id": "CGJpbhFAHAsd"
      },
      "source": [
        "STOPWORD REMOVAL"
      ]
    },
    {
      "cell_type": "code",
      "metadata": {
        "id": "h0Wwut7-HDp-"
      },
      "source": [
        "import nltk\n",
        "from nltk.corpus import stopwords"
      ],
      "execution_count": 17,
      "outputs": []
    },
    {
      "cell_type": "code",
      "metadata": {
        "colab": {
          "base_uri": "https://localhost:8080/"
        },
        "id": "O1w9YZNyHUxn",
        "outputId": "26ee501b-b461-4584-a6d9-613301ea493d"
      },
      "source": [
        "nltk.download('stopwords')"
      ],
      "execution_count": 18,
      "outputs": [
        {
          "output_type": "stream",
          "text": [
            "[nltk_data] Downloading package stopwords to /root/nltk_data...\n",
            "[nltk_data]   Unzipping corpora/stopwords.zip.\n"
          ],
          "name": "stdout"
        },
        {
          "output_type": "execute_result",
          "data": {
            "text/plain": [
              "True"
            ]
          },
          "metadata": {
            "tags": []
          },
          "execution_count": 18
        }
      ]
    },
    {
      "cell_type": "code",
      "metadata": {
        "id": "13gS4TdOF7_L"
      },
      "source": [
        "stop = set(stopwords.words('english'))"
      ],
      "execution_count": 19,
      "outputs": []
    },
    {
      "cell_type": "code",
      "metadata": {
        "id": "gV-TfChUHSl3"
      },
      "source": [
        "def remove_stopwords(text):\n",
        "    final_text = []\n",
        "    for i in text.split():\n",
        "        if i.strip().lower() not in stop:\n",
        "            final_text.append(i.strip())\n",
        "    return \" \".join(final_text)"
      ],
      "execution_count": 20,
      "outputs": []
    },
    {
      "cell_type": "code",
      "metadata": {
        "id": "RsJiHskeHfjj"
      },
      "source": [
        "X_stop = [remove_stopwords(x) for x in X_re]"
      ],
      "execution_count": 21,
      "outputs": []
    },
    {
      "cell_type": "code",
      "metadata": {
        "colab": {
          "base_uri": "https://localhost:8080/"
        },
        "id": "WvuIfJE5bQBR",
        "outputId": "35c7e068-2a94-46eb-c625-654d34e361d7"
      },
      "source": [
        "X_stop[:5]"
      ],
      "execution_count": 23,
      "outputs": [
        {
          "output_type": "execute_result",
          "data": {
            "text/plain": [
              "['smell hillarys fear daniel greenfield shillman journalism fellow freedom center new york writer focusing radical islam final stretch election hillary rodham clinton gone war fbi word unprecedented thrown around often election ought retired still unprecedented nominee major political party go war fbi thats exactly hillary people done coma patients waking watching hour cnn hospital beds would assume fbi director james comey hillarys opponent election fbi attack everyone obama cnn hillarys people circulated letter attacking comey currently media hit pieces lambasting targeting trump wouldnt surprising clintons allies start running attack ads fbi fbis leadership warned entire leftwing establishment form lynch mob continue going hillary fbis credibility attacked media democrats preemptively head results investigation clinton foundation hillary clinton covert struggle fbi agents obamas doj people gone explosively public new york times compared comey j edgar hoover bizarre headline james comey role recalls hoovers fbi fairly practically admits front spouting nonsense boston globe published column calling comeys resignation outdone time editorial claiming scandal really attack women james carville appeared msnbc remind everyone still alive insane accused comey coordinating house republicans kgb thought vast right wing conspiracy stretch countless media stories charge comey violating procedure know whats procedural violation emailing classified information stored bathroom server senator harry reid sent comey letter accusing violating hatch act hatch act nice idea much relevance age obama tenth amendment cable news spectrum quickly filled media hacks glancing wikipedia article hatch act table accusing fbi director one awkward conspiracies hillary ever james comey really hurt hillary picked one hell strange way long ago democrats breathing sigh relief gave hillary clinton pass prominent public statement really elect trump keeping email scandal going trash investigation payroll house republicans kgb back playing coy sudden development vladimir putin paul ryan talked taking look anthony weiners computer either comey cunning fbi director ever lived hes awkwardly trying navigate political mess trapped doj leadership whose political futures tied hillarys victory bureau whose apolitical agents want allowed jobs truly mysterious thing hillary associates decided go war respected federal agency americans like fbi hillary clinton enjoys unfavorable rating interesting question hillarys old strategy lie deny fbi even criminal investigation underway instead associates insisted security review fbi corrected shrugged old breezy denial approach given way savage assault fbi pretending nothing wrong bad strategy better one picking fight fbi lunatic clinton associates try claim fbi really kgb two possible explanations hillary clinton might arrogant enough lash fbi believes victory near kind hubris led plan victory fireworks display could lead declare war fbi irritating final miles campaign explanation people panicked going war fbi behavior smart focused presidential campaign act desperation presidential candidate decides option try destroy credibility fbi thats hubris fear fbi might reveal original fbi investigation hillary clinton confident could ride good reason believing hillary clinton gone place paranoid wreck within short space time positive clinton campaign promising unite country replaced desperate flailing operation focused energy fighting fbi theres one reason bizarre behavior clinton campaign decided fbi investigation latest batch emails poses threat survival gone fighting fbi unprecedented step born fear hard know whether fear justified existence fear already tells us whole lot clinton loyalists rigged old investigation knew outcome ahead time well knew debate questions suddenly longer control afraid smell fear fbi wiretaps investigation clinton foundation finding new emails time clintonworld panicked spinmeisters clintonworld claimed email scandal much smoke without fire thats appearance impropriety without substance isnt react smoke respond fire misguided assault fbi tells us hillary clinton allies afraid revelation bigger fundamental illegality email setup email setup preemptive cover clinton campaign panicked badly belief right wrong whatever crime illegal setup meant cover risk exposed clintons weathered countless scandals years whatever protecting time around bigger usual corruption bribery sexual assaults abuses power followed around throughout years bigger damaging allegations already come dont want fbi investigators anywhere near campaign comey pure intimidation also warning senior fbi people value careers warned stay away democrats closing ranks around nominee fbi ugly unprecedented scene may also last stand hillary clinton awkwardly wound way numerous scandals election cycle shes never shown fear desperation changed whatever afraid lies buried emails huma abedin bring like nothing else',\n",
              " 'watch exact moment paul ryan committed political suicide trump rally video google pinterest digg linkedin reddit stumbleupon print delicious pocket tumblr two fundamental truths world paul ryan desperately wants president paul ryan never president today proved particularly staggering example political cowardice paul ryan rererereversed course announced back trump train aboutface weeks ago previously declared would supporting defending trump tape made public trump bragged assaulting women suddenly ryan appearing protrump rally boldly declaring already sent vote make president united states surreal moment figurehead republican party dosed gasoline got stage chilly afternoon wisconsin lit match speakerryan says voted realdonaldtrump republicans time come home pictwittercomwcvscgai abc news politics abcpolitics november democratic party couldnt asked better moment film ryans chances ever becoming president went zero instant wreckage trump leave behind wake cravenly backed campaign recover ryans career manages limp way dnc tape locked loaded used every ad election day ringing endorsement man clearly hates personal level speaks volumes spinelessness ryan postured principled conservative one uncomfortable trumps unapologetic bigotry sexism however push came shove paul ryan like many colleagues turned sniveling appeaser lofty tak conviction principles house cards collapsed slightest breeze whats especially bizarre close ryan came making unscathed months speaker house refused comment trump strategy seemed keep head pretend trump didnt exist hope nobody remembered happened days away election screwed ugly election done good exposing utter cowardice republicans feigned moral courage reality television star spit hijacked party insulted wives got every last one kneel turn events featured image via twitter',\n",
              " 'kerry go paris gesture sympathy us secretary state john f kerry said monday stop paris later week amid criticism top american officials attended sundays unity march terrorismkerry said expects arrive paris thursday evening heads home week abroad said fly france conclusion series meetings scheduled thursday sofia bulgaria plans meet next day foreign minister laurent fabius president francois hollande return washingtonthe visit kerry family childhood ties country speaks fluent french could address criticism united states snubbed france darkest hour many yearsthe french press monday filled questions neither president obama kerry attended sundays march leaders nations obama said stayed away security needs taxing country kerry prior commitmentsamong roughly leaders attend israeli prime minister benjamin netanyahu stranger intense security marched beside hollande city streets highest ranking us officials attending march jane hartley ambassador france victoria nuland assistant secretary state european affairs attorney general eric h holder jr paris meetings law enforcement officials participate marchkerry spent sunday business summit hosted indias prime minister narendra modi united states eager india relax stringent laws function barriers foreign investment hopes modis government act open huge indian market american businessesin news conference kerry brushed aside criticism united states sent senior official paris quibbling little bit noted many staffers american embassy paris attended march including ambassador said wanted present march could prior commitments indiabut going way home make crystal clear passionately feel events taken place saidand dont think people france doubts americas understanding happened personal sense loss deep commitment people france moment trauma',\n",
              " \"bernie supporters twitter erupt anger dnc 'we tried warn you' kaydee king kaydeeking november lesson tonight's dem losses time democrats start listening voters stop running establishment candidates people bernie peoplebernie november dems want tight race worked bernie walker bragman walkerbragman november new york times columnist paul krugman one hillary clintons outspoken surrogates contentious democratic primary blamed clintons poor performance green party candidate jill stein far received negligible number votes nationally saying stein ralph nader preventing clinton victory account berniesteachers threw krugmans analysis back face candidate issue take responsibility teachers bernie berniesteachers november ana navarro republican recently endorsed hillary clinton summed preposterous nature presidential election tweet gop nominated damn candidate could lose hillary clinton democrats nominated damn candidate could lose trump ana navarro ananavarro november popular leftwing facebook page prosanders primary responded trumps surge simply posting meme sanders face text couldve avoided thanks nothing dnc meme shared almost times less hour posted tuesday november bernie sanders endorsed hillary clinton democratic national convention july many supporters remained adamant refusal support dncanointed candidate pointing wikileaks revelations top officials dnc working behind scenes tip scales clintons favor coordinating media figures circulate antisanders narratives rather attribute potential trump presidency gop nominees perceived popularity among voters closeness election could credited hillary clintons unfavorable ratings according realclearpolitics anywhere percent voters negative opinion democratic nominee pm eastern florida michigan pennsylvania wisconsin remain close call clinton electoral votes trumps zach cartwright activist author richmond virginia enjoys writing politics government media send email email protected\",\n",
              " \"battle new york primary matters primary day new york frontrunners hillary clinton donald trump leading pollstrump vowing win enough delegates clinch republican nomination prevent contested convention sensted cruz rtexas bernie sanders dvt ohio gov john kasich giving yeta big win new york could tip scales republican democratic frontrunners year's race white house clinton trump suffered losses recent contests shifting momentum rivalswe eight last nine caucuses primaries cheer sanders recently told supporterswhile wins new york trump clinton expected margins victories also importanttrump needs capture percent vote statewide wants positioned win state's gop delegates would put one step closer avoiding contested conventionwe've got vote know cruz way way polls trump urged supportersmeanwhile sanders hoping close race empire state loss points means he'll need win percent remaining delegates clinch nominationdespite predicted loss new york cruz lost momentum he's hoping sweep delegates weekend he's talking win novemberbecause i'm nominee win general election cruz promised supporters we're beating hillary key swing states we're beating hillary independents we're beating hillary young peoplefor cruz kasich sanders moved new york states trump clinton two staying home state watch results come\"]"
            ]
          },
          "metadata": {
            "tags": []
          },
          "execution_count": 23
        }
      ]
    },
    {
      "cell_type": "code",
      "metadata": {
        "colab": {
          "base_uri": "https://localhost:8080/"
        },
        "id": "Rr6Ukq0LH2zs",
        "outputId": "9134f819-23ea-4d80-ac40-3873ed147112"
      },
      "source": [
        "len(X_stop[0])"
      ],
      "execution_count": 22,
      "outputs": [
        {
          "output_type": "execute_result",
          "data": {
            "text/plain": [
              "4971"
            ]
          },
          "metadata": {
            "tags": []
          },
          "execution_count": 22
        }
      ]
    },
    {
      "cell_type": "code",
      "metadata": {
        "id": "dY7qh98ZJ6yN"
      },
      "source": [
        "df = pd.DataFrame(list(zip(X_stop, y)),\n",
        "               columns =['text', 'label'])"
      ],
      "execution_count": null,
      "outputs": []
    },
    {
      "cell_type": "code",
      "metadata": {
        "id": "mOPWItwJKO53"
      },
      "source": [
        "df.to_csv(r'/content/drive/MyDrive/MSc Project/Data/dataset2_preprocessed.csv', index=False)"
      ],
      "execution_count": null,
      "outputs": []
    },
    {
      "cell_type": "code",
      "metadata": {
        "id": "qb4RsGPHKaju",
        "colab": {
          "base_uri": "https://localhost:8080/",
          "height": 419
        },
        "outputId": "01e560a0-2c6f-4bf6-ad0e-59ecfafdc03a"
      },
      "source": [
        "url_saved = '/content/drive/MyDrive/MSc Project/Data/dataset2_preprocessed.csv'\n",
        "df_save = pd.read_csv(url_saved)\n",
        "df_save"
      ],
      "execution_count": null,
      "outputs": [
        {
          "output_type": "execute_result",
          "data": {
            "text/html": [
              "<div>\n",
              "<style scoped>\n",
              "    .dataframe tbody tr th:only-of-type {\n",
              "        vertical-align: middle;\n",
              "    }\n",
              "\n",
              "    .dataframe tbody tr th {\n",
              "        vertical-align: top;\n",
              "    }\n",
              "\n",
              "    .dataframe thead th {\n",
              "        text-align: right;\n",
              "    }\n",
              "</style>\n",
              "<table border=\"1\" class=\"dataframe\">\n",
              "  <thead>\n",
              "    <tr style=\"text-align: right;\">\n",
              "      <th></th>\n",
              "      <th>text</th>\n",
              "      <th>label</th>\n",
              "    </tr>\n",
              "  </thead>\n",
              "  <tbody>\n",
              "    <tr>\n",
              "      <th>0</th>\n",
              "      <td>smell hillarys fear daniel greenfield shillman...</td>\n",
              "      <td>1</td>\n",
              "    </tr>\n",
              "    <tr>\n",
              "      <th>1</th>\n",
              "      <td>watch exact moment paul ryan committed politic...</td>\n",
              "      <td>1</td>\n",
              "    </tr>\n",
              "    <tr>\n",
              "      <th>2</th>\n",
              "      <td>kerry go paris gesture sympathy us secretary s...</td>\n",
              "      <td>0</td>\n",
              "    </tr>\n",
              "    <tr>\n",
              "      <th>3</th>\n",
              "      <td>bernie supporters twitter erupt anger dnc 'we ...</td>\n",
              "      <td>1</td>\n",
              "    </tr>\n",
              "    <tr>\n",
              "      <th>4</th>\n",
              "      <td>battle new york primary matters primary day ne...</td>\n",
              "      <td>0</td>\n",
              "    </tr>\n",
              "    <tr>\n",
              "      <th>...</th>\n",
              "      <td>...</td>\n",
              "      <td>...</td>\n",
              "    </tr>\n",
              "    <tr>\n",
              "      <th>6330</th>\n",
              "      <td>state department says can't find emails clinto...</td>\n",
              "      <td>0</td>\n",
              "    </tr>\n",
              "    <tr>\n",
              "      <th>6331</th>\n",
              "      <td>p pbs stand plutocratic pentagon p pbs stand p...</td>\n",
              "      <td>1</td>\n",
              "    </tr>\n",
              "    <tr>\n",
              "      <th>6332</th>\n",
              "      <td>antitrump protesters tools oligarchy informati...</td>\n",
              "      <td>1</td>\n",
              "    </tr>\n",
              "    <tr>\n",
              "      <th>6333</th>\n",
              "      <td>ethiopia obama seeks progress peace security e...</td>\n",
              "      <td>0</td>\n",
              "    </tr>\n",
              "    <tr>\n",
              "      <th>6334</th>\n",
              "      <td>jeb bush suddenly attacking trump here's matte...</td>\n",
              "      <td>0</td>\n",
              "    </tr>\n",
              "  </tbody>\n",
              "</table>\n",
              "<p>6335 rows × 2 columns</p>\n",
              "</div>"
            ],
            "text/plain": [
              "                                                   text  label\n",
              "0     smell hillarys fear daniel greenfield shillman...      1\n",
              "1     watch exact moment paul ryan committed politic...      1\n",
              "2     kerry go paris gesture sympathy us secretary s...      0\n",
              "3     bernie supporters twitter erupt anger dnc 'we ...      1\n",
              "4     battle new york primary matters primary day ne...      0\n",
              "...                                                 ...    ...\n",
              "6330  state department says can't find emails clinto...      0\n",
              "6331  p pbs stand plutocratic pentagon p pbs stand p...      1\n",
              "6332  antitrump protesters tools oligarchy informati...      1\n",
              "6333  ethiopia obama seeks progress peace security e...      0\n",
              "6334  jeb bush suddenly attacking trump here's matte...      0\n",
              "\n",
              "[6335 rows x 2 columns]"
            ]
          },
          "metadata": {
            "tags": []
          },
          "execution_count": 29
        }
      ]
    },
    {
      "cell_type": "code",
      "metadata": {
        "id": "Gu1NmjCLrfV7"
      },
      "source": [
        ""
      ],
      "execution_count": null,
      "outputs": []
    }
  ]
}