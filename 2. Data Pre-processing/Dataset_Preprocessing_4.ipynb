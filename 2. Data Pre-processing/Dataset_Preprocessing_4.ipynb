{
  "nbformat": 4,
  "nbformat_minor": 0,
  "metadata": {
    "colab": {
      "name": "Dataset_Preprocessing 2.ipynb",
      "provenance": [],
      "collapsed_sections": []
    },
    "kernelspec": {
      "display_name": "Python 3",
      "name": "python3"
    },
    "accelerator": "GPU"
  },
  "cells": [
    {
      "cell_type": "code",
      "metadata": {
        "id": "Se70B2pQrZLZ"
      },
      "source": [
        "import pandas as pd\n",
        "import tensorflow as tf\n",
        "import numpy as np\n",
        "from tensorflow.keras.preprocessing.sequence import pad_sequences\n",
        "from numpy import array\n",
        "from keras.preprocessing.text import one_hot\n",
        "from keras.layers.embeddings import Embedding\n",
        "from numpy import asarray\n",
        "from numpy import zeros\n",
        "import keras"
      ],
      "execution_count": 1,
      "outputs": []
    },
    {
      "cell_type": "code",
      "metadata": {
        "colab": {
          "base_uri": "https://localhost:8080/"
        },
        "id": "S6RZ3TnI0LDZ",
        "outputId": "fd2a44dd-2edd-4481-a489-d5e4e91eafb5"
      },
      "source": [
        "from google.colab import drive\n",
        "drive.mount('/content/drive')"
      ],
      "execution_count": 2,
      "outputs": [
        {
          "output_type": "stream",
          "text": [
            "Mounted at /content/drive\n"
          ],
          "name": "stdout"
        }
      ]
    },
    {
      "cell_type": "code",
      "metadata": {
        "id": "aTA5RNVhjnIL"
      },
      "source": [
        "df = pd.read_csv(r\"/content/drive/MyDrive/MSc Project/Data/dataset4.csv\")"
      ],
      "execution_count": 31,
      "outputs": []
    },
    {
      "cell_type": "code",
      "metadata": {
        "colab": {
          "base_uri": "https://localhost:8080/",
          "height": 419
        },
        "id": "b4xIr06dpqaG",
        "outputId": "bae44f5f-7561-417c-f788-1d34bd2a3bc5"
      },
      "source": [
        "df"
      ],
      "execution_count": 32,
      "outputs": [
        {
          "output_type": "execute_result",
          "data": {
            "text/html": [
              "<div>\n",
              "<style scoped>\n",
              "    .dataframe tbody tr th:only-of-type {\n",
              "        vertical-align: middle;\n",
              "    }\n",
              "\n",
              "    .dataframe tbody tr th {\n",
              "        vertical-align: top;\n",
              "    }\n",
              "\n",
              "    .dataframe thead th {\n",
              "        text-align: right;\n",
              "    }\n",
              "</style>\n",
              "<table border=\"1\" class=\"dataframe\">\n",
              "  <thead>\n",
              "    <tr style=\"text-align: right;\">\n",
              "      <th></th>\n",
              "      <th>text</th>\n",
              "      <th>label</th>\n",
              "    </tr>\n",
              "  </thead>\n",
              "  <tbody>\n",
              "    <tr>\n",
              "      <th>0</th>\n",
              "      <td>Syria attack symptoms consistent with nerve ag...</td>\n",
              "      <td>1</td>\n",
              "    </tr>\n",
              "    <tr>\n",
              "      <th>1</th>\n",
              "      <td>Homs governor says U.S. attack caused deaths b...</td>\n",
              "      <td>1</td>\n",
              "    </tr>\n",
              "    <tr>\n",
              "      <th>2</th>\n",
              "      <td>Death toll from Aleppo bomb attack at least 11...</td>\n",
              "      <td>1</td>\n",
              "    </tr>\n",
              "    <tr>\n",
              "      <th>3</th>\n",
              "      <td>Aleppo bomb blast kills six Syrian state TV We...</td>\n",
              "      <td>1</td>\n",
              "    </tr>\n",
              "    <tr>\n",
              "      <th>4</th>\n",
              "      <td>29 Syria Rebels Dead in Fighting for Key Alepp...</td>\n",
              "      <td>1</td>\n",
              "    </tr>\n",
              "    <tr>\n",
              "      <th>...</th>\n",
              "      <td>...</td>\n",
              "      <td>...</td>\n",
              "    </tr>\n",
              "    <tr>\n",
              "      <th>799</th>\n",
              "      <td>Turkish Bombardment Kills 20 Civilians in Syri...</td>\n",
              "      <td>0</td>\n",
              "    </tr>\n",
              "    <tr>\n",
              "      <th>800</th>\n",
              "      <td>Martyrs as Terrorists Shell Aleppos Salah Eddi...</td>\n",
              "      <td>0</td>\n",
              "    </tr>\n",
              "    <tr>\n",
              "      <th>801</th>\n",
              "      <td>Chemical Attack Kills Five Syrians in Aleppo S...</td>\n",
              "      <td>1</td>\n",
              "    </tr>\n",
              "    <tr>\n",
              "      <th>802</th>\n",
              "      <td>5 Killed as Russian Military Chopper Shot down...</td>\n",
              "      <td>0</td>\n",
              "    </tr>\n",
              "    <tr>\n",
              "      <th>803</th>\n",
              "      <td>Syrian Army Kills 48 ISIL Terrorists in Deir E...</td>\n",
              "      <td>0</td>\n",
              "    </tr>\n",
              "  </tbody>\n",
              "</table>\n",
              "<p>804 rows × 2 columns</p>\n",
              "</div>"
            ],
            "text/plain": [
              "                                                  text  label\n",
              "0    Syria attack symptoms consistent with nerve ag...      1\n",
              "1    Homs governor says U.S. attack caused deaths b...      1\n",
              "2    Death toll from Aleppo bomb attack at least 11...      1\n",
              "3    Aleppo bomb blast kills six Syrian state TV We...      1\n",
              "4    29 Syria Rebels Dead in Fighting for Key Alepp...      1\n",
              "..                                                 ...    ...\n",
              "799  Turkish Bombardment Kills 20 Civilians in Syri...      0\n",
              "800  Martyrs as Terrorists Shell Aleppos Salah Eddi...      0\n",
              "801  Chemical Attack Kills Five Syrians in Aleppo S...      1\n",
              "802  5 Killed as Russian Military Chopper Shot down...      0\n",
              "803  Syrian Army Kills 48 ISIL Terrorists in Deir E...      0\n",
              "\n",
              "[804 rows x 2 columns]"
            ]
          },
          "metadata": {
            "tags": []
          },
          "execution_count": 32
        }
      ]
    },
    {
      "cell_type": "code",
      "metadata": {
        "colab": {
          "base_uri": "https://localhost:8080/",
          "height": 350
        },
        "id": "nkGvBczhpILZ",
        "outputId": "9f241b01-0721-4ddc-91b0-f3409f62dce7"
      },
      "source": [
        "import seaborn as sns\n",
        "sns.set_style(\"darkgrid\")\n",
        "sns.countplot(df.label)"
      ],
      "execution_count": 33,
      "outputs": [
        {
          "output_type": "stream",
          "text": [
            "/usr/local/lib/python3.7/dist-packages/seaborn/_decorators.py:43: FutureWarning: Pass the following variable as a keyword arg: x. From version 0.12, the only valid positional argument will be `data`, and passing other arguments without an explicit keyword will result in an error or misinterpretation.\n",
            "  FutureWarning\n"
          ],
          "name": "stderr"
        },
        {
          "output_type": "execute_result",
          "data": {
            "text/plain": [
              "<matplotlib.axes._subplots.AxesSubplot at 0x7fb9b3444710>"
            ]
          },
          "metadata": {
            "tags": []
          },
          "execution_count": 33
        },
        {
          "output_type": "display_data",
          "data": {
            "image/png": "[encoded data removed]",
            "text/plain": [
              "<Figure size 432x288 with 1 Axes>"
            ]
          },
          "metadata": {
            "tags": []
          }
        }
      ]
    },
    {
      "cell_type": "code",
      "metadata": {
        "id": "x58IP_9PEZH2"
      },
      "source": [
        "X = df['text'].to_list()\n",
        "y = df['label'].to_list()"
      ],
      "execution_count": 34,
      "outputs": []
    },
    {
      "cell_type": "markdown",
      "metadata": {
        "id": "y5SwMOVBIuHz"
      },
      "source": [
        "**PRE-PROCESSING OF DATA**"
      ]
    },
    {
      "cell_type": "markdown",
      "metadata": {
        "id": "iLVcAJePIJfu"
      },
      "source": [
        "REMOVING URLs"
      ]
    },
    {
      "cell_type": "code",
      "metadata": {
        "id": "96ILHfLCpzkh"
      },
      "source": [
        "import re"
      ],
      "execution_count": 35,
      "outputs": []
    },
    {
      "cell_type": "code",
      "metadata": {
        "id": "lrfyLuyRIINs"
      },
      "source": [
        "# Removing URL's\n",
        "def remove_url(text):\n",
        "    return re.sub(r'http\\S+', '', text)"
      ],
      "execution_count": 36,
      "outputs": []
    },
    {
      "cell_type": "code",
      "metadata": {
        "id": "SMEdHxfyIYH2"
      },
      "source": [
        "X_url = [remove_url(x) for x in X]"
      ],
      "execution_count": 37,
      "outputs": []
    },
    {
      "cell_type": "markdown",
      "metadata": {
        "id": "0rxp4A8LEtcy"
      },
      "source": [
        "LOWERCASING"
      ]
    },
    {
      "cell_type": "code",
      "metadata": {
        "id": "1rGJRK9GEeGb"
      },
      "source": [
        "X_lower = [x.lower() for x in X_url]"
      ],
      "execution_count": 38,
      "outputs": []
    },
    {
      "cell_type": "code",
      "metadata": {
        "colab": {
          "base_uri": "https://localhost:8080/"
        },
        "id": "IHS2dNm3GW3M",
        "outputId": "5dd3e20c-d625-4b8e-8b21-eaaec2fc6265"
      },
      "source": [
        "X_lower[:5]"
      ],
      "execution_count": 39,
      "outputs": [
        {
          "output_type": "execute_result",
          "data": {
            "text/plain": [
              "['syria attack symptoms consistent with nerve agent use who wed 05 apr 2017 syria attack symptoms consistent with nerve agent use who. victims of a suspected chemical attack in syria appeared to show symptoms consistent with reaction to a nerve agent the world health organization said on wednesday. \"some cases appear to show additional signs consistent with exposure to organophosphorus chemicals a category of chemicals that includes nerve agents\" who said in a statement putting the death toll at at least 70. the united states has said the deaths were caused by sarin nerve gas dropped by syrian aircraft. russia has said it believes poison gas had leaked from a rebel chemical weapons depot struck by syrian bombs. sarin is an organophosporus compound and a nerve agent. chlorine and mustard gas which are also believed to have been used in the past in syria are not. a russian defence ministry spokesman did not say what agent was used in the attack but said the rebels had used the same chemical weapons in aleppo last year. the who said it was likely that some kind of chemical was used in the attack because sufferers had no apparent external injuries and died from a rapid onset of similar symptoms including acute respiratory distress. it said its experts in turkey were giving guidance to overwhelmed health workers in idlib on the diagnosis and treatment of patients and medicines such as atropine an antidote for some types of chemical exposure and steroids for symptomatic treatment had been sent. a u.n. commission of inquiry into human rights in syria has previously said forces loyal to syrian president bashar al-assad have used lethal chlorine gas on multiple occasions. hundreds of civilians died in a sarin gas attack in ghouta on the outskirts of damascus in august 2013. assads government has always denied responsibility for that attack. syria agreed to destroy its chemical weapons in 2013 under a deal brokered by moscow and washington. but russia a syrian ally and china have repeatedly vetoed any united nations move to sanction assad or refer the situation in syria to the international criminal court. \"these types of weapons are banned by international law because they represent an intolerable barbarism\" peter salama executive director of the who health emergencies programme said in the who statement. - reuters',\n",
              " 'homs governor says u.s. attack caused deaths but doesnt see big human losses fri 07 apr 2017 at 0914 homs governor says u.s. attack caused deaths but doesnt see big human losses. a u.s. missile strike on an airbase near the syrian city of homs on friday caused deaths but is not believed to have resulted in \"big human casualties\" homs governor talal barazi said. barazi said the attack served the interests of \"armed terrorist groups\" including islamic state adding that the targeted airbase had been providing air support for army operations against islamic state east of palmyra. barazi was speaking in a series of phone interviews with media on friday. he confirmed deaths at the airbase in a phone interview with lebanese tv station al-mayadeen. \"i believe - god willing - that the human casualties are not big but there is material damage. we hope there are not many victims and martyrs\" he told reuters by telephone. speaking at dawn he said rescue and fire-fighting operations had been going on for two hours at the base. he said the attack was a form of \"support for the armed terrorist groups and it is an attempt to weaken the capabilities of the syrian arab army to combat terrorism\". speaking to syrian state tv barazi said \"the syrian leadership and syrian policy will not change. \"this targeting was not the first and i dont believe it will be the last\" he added. in separate comments to al-mayadeen he said \"the war against terrorism will continue.\" u.s. president donald trump said he ordered missile strikes against an airfield from which a deadly chemical weapons attack was launched this week declaring he acted in americas \"national security interest\" against syrian president bashar al-assad. u.s. officials said the military fired dozens of cruise missiles against the base in response to the suspected gas attack in a rebel-held area that washington has blamed on assads forces. the syrian government has strongly denied responsibility. the u.s. strikes \"targeted military positions in syria and in homs specifically\" in order to publicly \"serve the goals of terrorism in syria and the goals of israel in the long run\" barazi added in his interview with state tv.-reuters',\n",
              " 'death toll from aleppo bomb attack at least 112 sun 16 apr 2017 death toll from aleppo bomb attack at least 112. the death toll from a bomb blast on a crowded syrian bus convoy outside aleppo reached at least 112 people the syrian observatory for human rights monitoring group said on sunday. syrian rescue workers the civil defence said that they had carted away at least 100 bodies from the site of saturdays blast which hit buses carrying shiite residents as they waited to cross from rebel into government territory in an evacuation deal between warring sides. the british-based observatory said the number was expected to rise. those killed were mostly residents of the villages of al-foua and kefraya in idlib province but included rebel fighters guarding the convoy the observatory said. there was no immediate claim of responsibility for the attack which pro-damascus media said was carried out by a suicide car bomber. the convoy was carrying at least 5000 people including civilians and several hundred pro-government fighters who were granted safe passage out of the two shiite villages which are besieged by rebels. under the evacuation deal more than 2000 people including rebel fighters were granted safe passage out of madaya a town near damascus besieged by government forces and their allies. that convoy was waiting at a bus garage in a government-held area on aleppos outskirts a few miles from where the attack took place. madaya evacuees said they heard the blast. --reuters',\n",
              " 'aleppo bomb blast kills six syrian state tv wed 19 apr 2017 aleppo bomb blast kills six syrian state tv. a bomb blast killed six people and injured 32 in the salah al-din district of aleppo syrian state television reported on wednesday without giving further details. salah al-din is located west of aleppos old city in a district that was part of the last rebel enclave there until it was taken over by the syrian army in an advance in december. --reuters',\n",
              " '29 syria rebels dead in fighting for key aleppo road sun 10 jul 2016 29 syria rebels dead in fighting for key aleppo road. at least 29 syrian rebels were killed in clashes with regime troops overnight during a failed bid to reopen the oppositions key supply route into aleppo city a monitor said sunday. the fighters from the faylaq al-sham islamist faction and al-qaeda affiliate al-nusra front were killed trying to reopen the castello road which regime forces effectively severed on thursday the syrian observatory for human rights monitor said.--afp']"
            ]
          },
          "metadata": {
            "tags": []
          },
          "execution_count": 39
        }
      ]
    },
    {
      "cell_type": "markdown",
      "metadata": {
        "id": "tIU7xWnHGuZb"
      },
      "source": [
        "REMOVING ALL NON-ALPHABETS"
      ]
    },
    {
      "cell_type": "code",
      "metadata": {
        "id": "uQ08d2KZEpdW"
      },
      "source": [
        "def cleandata(s):\n",
        "    replaced = re.sub(\"[^a-zA-Z' ]+\", '', s)\n",
        "    return replaced"
      ],
      "execution_count": 40,
      "outputs": []
    },
    {
      "cell_type": "code",
      "metadata": {
        "id": "-6wBO68gFyZ6"
      },
      "source": [
        "X_re = [cleandata(x) for x in X_lower]"
      ],
      "execution_count": 41,
      "outputs": []
    },
    {
      "cell_type": "code",
      "metadata": {
        "colab": {
          "base_uri": "https://localhost:8080/"
        },
        "id": "5ZxBUEZ7F2jd",
        "outputId": "3faa5a6f-9089-48d0-b1ca-ee9a0eca8e64"
      },
      "source": [
        "len(X_re[0])"
      ],
      "execution_count": 42,
      "outputs": [
        {
          "output_type": "execute_result",
          "data": {
            "text/plain": [
              "2305"
            ]
          },
          "metadata": {
            "tags": []
          },
          "execution_count": 42
        }
      ]
    },
    {
      "cell_type": "markdown",
      "metadata": {
        "id": "CGJpbhFAHAsd"
      },
      "source": [
        "STOPWORD REMOVAL"
      ]
    },
    {
      "cell_type": "code",
      "metadata": {
        "id": "h0Wwut7-HDp-"
      },
      "source": [
        "import nltk\n",
        "from nltk.corpus import stopwords"
      ],
      "execution_count": 43,
      "outputs": []
    },
    {
      "cell_type": "code",
      "metadata": {
        "colab": {
          "base_uri": "https://localhost:8080/"
        },
        "id": "O1w9YZNyHUxn",
        "outputId": "3e221014-69dd-46d2-a4fb-41a8b5faddb1"
      },
      "source": [
        "nltk.download('stopwords')"
      ],
      "execution_count": 44,
      "outputs": [
        {
          "output_type": "stream",
          "text": [
            "[nltk_data] Downloading package stopwords to /root/nltk_data...\n",
            "[nltk_data]   Package stopwords is already up-to-date!\n"
          ],
          "name": "stdout"
        },
        {
          "output_type": "execute_result",
          "data": {
            "text/plain": [
              "True"
            ]
          },
          "metadata": {
            "tags": []
          },
          "execution_count": 44
        }
      ]
    },
    {
      "cell_type": "code",
      "metadata": {
        "id": "13gS4TdOF7_L"
      },
      "source": [
        "stop = set(stopwords.words('english'))"
      ],
      "execution_count": 45,
      "outputs": []
    },
    {
      "cell_type": "code",
      "metadata": {
        "id": "gV-TfChUHSl3"
      },
      "source": [
        "def remove_stopwords(text):\n",
        "    final_text = []\n",
        "    for i in text.split():\n",
        "        if i.strip().lower() not in stop:\n",
        "            final_text.append(i.strip())\n",
        "    return \" \".join(final_text)"
      ],
      "execution_count": 46,
      "outputs": []
    },
    {
      "cell_type": "code",
      "metadata": {
        "id": "RsJiHskeHfjj"
      },
      "source": [
        "X_stop = [remove_stopwords(x) for x in X_re]"
      ],
      "execution_count": 47,
      "outputs": []
    },
    {
      "cell_type": "code",
      "metadata": {
        "colab": {
          "base_uri": "https://localhost:8080/"
        },
        "id": "Rr6Ukq0LH2zs",
        "outputId": "5ab31175-7fc8-4f43-ef67-626704f3e0ab"
      },
      "source": [
        "len(X_stop[0])"
      ],
      "execution_count": 48,
      "outputs": [
        {
          "output_type": "execute_result",
          "data": {
            "text/plain": [
              "1727"
            ]
          },
          "metadata": {
            "tags": []
          },
          "execution_count": 48
        }
      ]
    },
    {
      "cell_type": "code",
      "metadata": {
        "id": "dY7qh98ZJ6yN"
      },
      "source": [
        "df = pd.DataFrame(list(zip(X_stop, y)),\n",
        "               columns =['text', 'label'])"
      ],
      "execution_count": 49,
      "outputs": []
    },
    {
      "cell_type": "code",
      "metadata": {
        "id": "mOPWItwJKO53"
      },
      "source": [
        "df.to_csv(r'/content/drive/MyDrive/MSc Project/Data/dataset4_preprocessed.csv', index=False)"
      ],
      "execution_count": 50,
      "outputs": []
    },
    {
      "cell_type": "code",
      "metadata": {
        "id": "qb4RsGPHKaju",
        "colab": {
          "base_uri": "https://localhost:8080/",
          "height": 419
        },
        "outputId": "6f902cdc-7e20-449f-fdca-1cd8728eeece"
      },
      "source": [
        "url_saved = '/content/drive/MyDrive/MSc Project/Data/dataset4_preprocessed.csv'\n",
        "df_save = pd.read_csv(url_saved)\n",
        "df_save"
      ],
      "execution_count": 51,
      "outputs": [
        {
          "output_type": "execute_result",
          "data": {
            "text/html": [
              "<div>\n",
              "<style scoped>\n",
              "    .dataframe tbody tr th:only-of-type {\n",
              "        vertical-align: middle;\n",
              "    }\n",
              "\n",
              "    .dataframe tbody tr th {\n",
              "        vertical-align: top;\n",
              "    }\n",
              "\n",
              "    .dataframe thead th {\n",
              "        text-align: right;\n",
              "    }\n",
              "</style>\n",
              "<table border=\"1\" class=\"dataframe\">\n",
              "  <thead>\n",
              "    <tr style=\"text-align: right;\">\n",
              "      <th></th>\n",
              "      <th>text</th>\n",
              "      <th>label</th>\n",
              "    </tr>\n",
              "  </thead>\n",
              "  <tbody>\n",
              "    <tr>\n",
              "      <th>0</th>\n",
              "      <td>syria attack symptoms consistent nerve agent u...</td>\n",
              "      <td>1</td>\n",
              "    </tr>\n",
              "    <tr>\n",
              "      <th>1</th>\n",
              "      <td>homs governor says us attack caused deaths doe...</td>\n",
              "      <td>1</td>\n",
              "    </tr>\n",
              "    <tr>\n",
              "      <th>2</th>\n",
              "      <td>death toll aleppo bomb attack least sun apr de...</td>\n",
              "      <td>1</td>\n",
              "    </tr>\n",
              "    <tr>\n",
              "      <th>3</th>\n",
              "      <td>aleppo bomb blast kills six syrian state tv we...</td>\n",
              "      <td>1</td>\n",
              "    </tr>\n",
              "    <tr>\n",
              "      <th>4</th>\n",
              "      <td>syria rebels dead fighting key aleppo road sun...</td>\n",
              "      <td>1</td>\n",
              "    </tr>\n",
              "    <tr>\n",
              "      <th>...</th>\n",
              "      <td>...</td>\n",
              "      <td>...</td>\n",
              "    </tr>\n",
              "    <tr>\n",
              "      <th>799</th>\n",
              "      <td>turkish bombardment kills civilians syria turk...</td>\n",
              "      <td>0</td>\n",
              "    </tr>\n",
              "    <tr>\n",
              "      <th>800</th>\n",
              "      <td>martyrs terrorists shell aleppos salah eddin m...</td>\n",
              "      <td>0</td>\n",
              "    </tr>\n",
              "    <tr>\n",
              "      <th>801</th>\n",
              "      <td>chemical attack kills five syrians aleppo sana...</td>\n",
              "      <td>1</td>\n",
              "    </tr>\n",
              "    <tr>\n",
              "      <th>802</th>\n",
              "      <td>killed russian military chopper shot syria kil...</td>\n",
              "      <td>0</td>\n",
              "    </tr>\n",
              "    <tr>\n",
              "      <th>803</th>\n",
              "      <td>syrian army kills isil terrorists deir ezzor a...</td>\n",
              "      <td>0</td>\n",
              "    </tr>\n",
              "  </tbody>\n",
              "</table>\n",
              "<p>804 rows × 2 columns</p>\n",
              "</div>"
            ],
            "text/plain": [
              "                                                  text  label\n",
              "0    syria attack symptoms consistent nerve agent u...      1\n",
              "1    homs governor says us attack caused deaths doe...      1\n",
              "2    death toll aleppo bomb attack least sun apr de...      1\n",
              "3    aleppo bomb blast kills six syrian state tv we...      1\n",
              "4    syria rebels dead fighting key aleppo road sun...      1\n",
              "..                                                 ...    ...\n",
              "799  turkish bombardment kills civilians syria turk...      0\n",
              "800  martyrs terrorists shell aleppos salah eddin m...      0\n",
              "801  chemical attack kills five syrians aleppo sana...      1\n",
              "802  killed russian military chopper shot syria kil...      0\n",
              "803  syrian army kills isil terrorists deir ezzor a...      0\n",
              "\n",
              "[804 rows x 2 columns]"
            ]
          },
          "metadata": {
            "tags": []
          },
          "execution_count": 51
        }
      ]
    },
    {
      "cell_type": "code",
      "metadata": {
        "id": "Gu1NmjCLrfV7"
      },
      "source": [
        ""
      ],
      "execution_count": null,
      "outputs": []
    }
  ]
}