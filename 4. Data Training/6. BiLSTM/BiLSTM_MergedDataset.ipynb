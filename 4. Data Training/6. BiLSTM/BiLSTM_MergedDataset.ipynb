{
  "nbformat": 4,
  "nbformat_minor": 0,
  "metadata": {
    "colab": {
      "name": "BiLSTM_MergedDataset.ipynb",
      "provenance": [],
      "collapsed_sections": []
    },
    "kernelspec": {
      "display_name": "Python 3",
      "name": "python3"
    },
    "accelerator": "GPU"
  },
  "cells": [
    {
      "cell_type": "code",
      "metadata": {
        "colab": {
          "base_uri": "https://localhost:8080/"
        },
        "id": "Kl4HWq-Tq9dy",
        "outputId": "871d1af5-cf9a-4941-c913-427a8af379f7"
      },
      "source": [
        "import nltk\n",
        "nltk.download('punkt')"
      ],
      "execution_count": 1,
      "outputs": [
        {
          "output_type": "stream",
          "text": [
            "[nltk_data] Downloading package punkt to /root/nltk_data...\n",
            "[nltk_data]   Unzipping tokenizers/punkt.zip.\n"
          ],
          "name": "stdout"
        },
        {
          "output_type": "execute_result",
          "data": {
            "text/plain": [
              "True"
            ]
          },
          "metadata": {
            "tags": []
          },
          "execution_count": 1
        }
      ]
    },
    {
      "cell_type": "code",
      "metadata": {
        "id": "Se70B2pQrZLZ"
      },
      "source": [
        "import pandas as pd\n",
        "import tensorflow as tf\n",
        "from tensorflow.keras.preprocessing.text import Tokenizer\n",
        "import numpy as np\n",
        "from sklearn.model_selection import train_test_split\n",
        "from tensorflow.keras.preprocessing.sequence import pad_sequences\n",
        "from numpy import array\n",
        "from keras.preprocessing.text import one_hot\n",
        "from keras.models import Sequential\n",
        "from keras.layers import Dense\n",
        "from keras.layers import Flatten\n",
        "from keras.layers import Dropout\n",
        "from keras.layers import LSTM\n",
        "from keras.layers import Bidirectional\n",
        "from keras.layers.embeddings import Embedding\n",
        "from numpy import asarray\n",
        "from numpy import zeros\n",
        "import keras"
      ],
      "execution_count": 2,
      "outputs": []
    },
    {
      "cell_type": "code",
      "metadata": {
        "colab": {
          "base_uri": "https://localhost:8080/"
        },
        "id": "S6RZ3TnI0LDZ",
        "outputId": "7da300c8-475a-47c8-e520-c73b85702a16"
      },
      "source": [
        "from google.colab import drive\n",
        "drive.mount('/content/drive')"
      ],
      "execution_count": 3,
      "outputs": [
        {
          "output_type": "stream",
          "text": [
            "Mounted at /content/drive\n"
          ],
          "name": "stdout"
        }
      ]
    },
    {
      "cell_type": "code",
      "metadata": {
        "id": "Iw0OQMkyLJE7"
      },
      "source": [
        "df = pd.read_csv(r'/content/drive/MyDrive/MSc Project/Data/MergedDataset.csv')"
      ],
      "execution_count": 4,
      "outputs": []
    },
    {
      "cell_type": "code",
      "metadata": {
        "colab": {
          "base_uri": "https://localhost:8080/",
          "height": 204
        },
        "id": "5GMv4KQlLSKR",
        "outputId": "2846c965-7ec0-47eb-f5d6-a691d7b69552"
      },
      "source": [
        "df.head()"
      ],
      "execution_count": 5,
      "outputs": [
        {
          "output_type": "execute_result",
          "data": {
            "text/html": [
              "<div>\n",
              "<style scoped>\n",
              "    .dataframe tbody tr th:only-of-type {\n",
              "        vertical-align: middle;\n",
              "    }\n",
              "\n",
              "    .dataframe tbody tr th {\n",
              "        vertical-align: top;\n",
              "    }\n",
              "\n",
              "    .dataframe thead th {\n",
              "        text-align: right;\n",
              "    }\n",
              "</style>\n",
              "<table border=\"1\" class=\"dataframe\">\n",
              "  <thead>\n",
              "    <tr style=\"text-align: right;\">\n",
              "      <th></th>\n",
              "      <th>text</th>\n",
              "      <th>label</th>\n",
              "    </tr>\n",
              "  </thead>\n",
              "  <tbody>\n",
              "    <tr>\n",
              "      <th>0</th>\n",
              "      <td>flynn hillary clinton big woman campus breitba...</td>\n",
              "      <td>0</td>\n",
              "    </tr>\n",
              "    <tr>\n",
              "      <th>1</th>\n",
              "      <td>jackie mason hollywood would love trump bombed...</td>\n",
              "      <td>0</td>\n",
              "    </tr>\n",
              "    <tr>\n",
              "      <th>2</th>\n",
              "      <td>benot hamon wins french socialist partys presi...</td>\n",
              "      <td>0</td>\n",
              "    </tr>\n",
              "    <tr>\n",
              "      <th>3</th>\n",
              "      <td>excerpts draft script donald trumps qampa blac...</td>\n",
              "      <td>0</td>\n",
              "    </tr>\n",
              "    <tr>\n",
              "      <th>4</th>\n",
              "      <td>backchannel plan ukraine russia courtesy trump...</td>\n",
              "      <td>0</td>\n",
              "    </tr>\n",
              "  </tbody>\n",
              "</table>\n",
              "</div>"
            ],
            "text/plain": [
              "                                                text  label\n",
              "0  flynn hillary clinton big woman campus breitba...      0\n",
              "1  jackie mason hollywood would love trump bombed...      0\n",
              "2  benot hamon wins french socialist partys presi...      0\n",
              "3  excerpts draft script donald trumps qampa blac...      0\n",
              "4  backchannel plan ukraine russia courtesy trump...      0"
            ]
          },
          "metadata": {
            "tags": []
          },
          "execution_count": 5
        }
      ]
    },
    {
      "cell_type": "code",
      "metadata": {
        "colab": {
          "base_uri": "https://localhost:8080/",
          "height": 353
        },
        "id": "loMb8pe0OjOo",
        "outputId": "4e9ecf39-61a2-42bb-8e3c-c5277bf414cb"
      },
      "source": [
        "import seaborn as sns\n",
        "sns.set_style(\"darkgrid\")\n",
        "sns.countplot(df.label)"
      ],
      "execution_count": 6,
      "outputs": [
        {
          "output_type": "stream",
          "text": [
            "/usr/local/lib/python3.7/dist-packages/seaborn/_decorators.py:43: FutureWarning: Pass the following variable as a keyword arg: x. From version 0.12, the only valid positional argument will be `data`, and passing other arguments without an explicit keyword will result in an error or misinterpretation.\n",
            "  FutureWarning\n"
          ],
          "name": "stderr"
        },
        {
          "output_type": "execute_result",
          "data": {
            "text/plain": [
              "<matplotlib.axes._subplots.AxesSubplot at 0x7f2f33911a50>"
            ]
          },
          "metadata": {
            "tags": []
          },
          "execution_count": 6
        },
        {
          "output_type": "display_data",
          "data": {
            "image/png": "[encoded data removed]",
            "text/plain": [
              "<Figure size 432x288 with 1 Axes>"
            ]
          },
          "metadata": {
            "tags": []
          }
        }
      ]
    },
    {
      "cell_type": "code",
      "metadata": {
        "colab": {
          "base_uri": "https://localhost:8080/"
        },
        "id": "0ng4lMNf4eei",
        "outputId": "b1d9ef76-0c55-43ce-f34d-c117eeca2730"
      },
      "source": [
        "len(df.index)"
      ],
      "execution_count": 7,
      "outputs": [
        {
          "output_type": "execute_result",
          "data": {
            "text/plain": [
              "115144"
            ]
          },
          "metadata": {
            "tags": []
          },
          "execution_count": 7
        }
      ]
    },
    {
      "cell_type": "code",
      "metadata": {
        "id": "WOCQUpiXLUhT"
      },
      "source": [
        "X = df['text']\n",
        "y = df['label']"
      ],
      "execution_count": 8,
      "outputs": []
    },
    {
      "cell_type": "code",
      "metadata": {
        "colab": {
          "base_uri": "https://localhost:8080/"
        },
        "id": "Scn0brIFLYqO",
        "outputId": "b93ee7a3-9c6d-4060-b57c-e0af70bfdd9a"
      },
      "source": [
        "print(len(X))\n",
        "print(len(y))"
      ],
      "execution_count": 9,
      "outputs": [
        {
          "output_type": "stream",
          "text": [
            "115144\n",
            "115144\n"
          ],
          "name": "stdout"
        }
      ]
    },
    {
      "cell_type": "code",
      "metadata": {
        "id": "fEijBMz8P0sf"
      },
      "source": [
        "test_size = 0.1\n",
        "random_state = 42\n",
        "X_train, X_test, y_train, y_test = train_test_split(X, y, test_size=test_size, random_state=42, shuffle=True)"
      ],
      "execution_count": 10,
      "outputs": []
    },
    {
      "cell_type": "code",
      "metadata": {
        "id": "ENJ18XUbQP9t",
        "colab": {
          "base_uri": "https://localhost:8080/"
        },
        "outputId": "b0e95ab2-436b-4a07-88ec-2feff9087cc0"
      },
      "source": [
        "print(len(X_train))\n",
        "print(len(y_train))\n",
        "print(len(X_test))\n",
        "print(len(y_test))"
      ],
      "execution_count": 11,
      "outputs": [
        {
          "output_type": "stream",
          "text": [
            "103629\n",
            "103629\n",
            "11515\n",
            "11515\n"
          ],
          "name": "stdout"
        }
      ]
    },
    {
      "cell_type": "code",
      "metadata": {
        "id": "fsR5q-8dQZWJ"
      },
      "source": [
        "tokenizer = Tokenizer()\n",
        "\n",
        "#preparing vocabulary\n",
        "tokenizer.fit_on_texts(X_train)\n",
        "\n",
        "#converting text into integer sequences\n",
        "X_train_seq  = tokenizer.texts_to_sequences(X_train) \n",
        "X_test_seq = tokenizer.texts_to_sequences(X_test)"
      ],
      "execution_count": 12,
      "outputs": []
    },
    {
      "cell_type": "code",
      "metadata": {
        "id": "pyQpCHKl3RBm",
        "colab": {
          "base_uri": "https://localhost:8080/"
        },
        "outputId": "f64ab464-1dc0-474f-ad0d-d645502b220e"
      },
      "source": [
        "vocab_length = len(tokenizer.word_index) + 1\n",
        "vocab_length"
      ],
      "execution_count": 13,
      "outputs": [
        {
          "output_type": "execute_result",
          "data": {
            "text/plain": [
              "374860"
            ]
          },
          "metadata": {
            "tags": []
          },
          "execution_count": 13
        }
      ]
    },
    {
      "cell_type": "code",
      "metadata": {
        "id": "keq92WqVRC0I",
        "colab": {
          "base_uri": "https://localhost:8080/"
        },
        "outputId": "876c2cb9-80a8-48ce-d620-9339f5a5d0a9"
      },
      "source": [
        "print(X_train[0])\n",
        "print(X_train_seq[0])"
      ],
      "execution_count": 14,
      "outputs": [
        {
          "output_type": "stream",
          "text": [
            "flynn hillary clinton big woman campus breitbart ever get feeling life circles roundabout rather heads straight line toward intended destination hillary clinton remains big woman campus leafy liberal wellesley massachusetts everywhere else votes likely inauguration dress remainder days way miss havisham forever wore wedding dress speaking great expectations hillary rodham overflowed years ago first addressed wellesley graduating class president college informed gathered students needed debate far could ascertain spokesman kind like democratic primaries minus terms unknown even seven sisters school glad miss adams made clear speaking today us us miss rodham told classmates appointing edger bergen charlie mccarthys mortimer snerds attendance bespectacled granny glasses awarding matronly wisdom least john lennon wisdom took issue previous speaker despite becoming first win election seat u senate since reconstruction edward brooke came criticism calling empathy goals protestors criticized tactics though clinton senior thesis saul alinsky lamented black power demagogues elitist arrogance repressive intolerance within new left similar words coming republican necessitated brief rebuttal trust rodham ironically observed one word asked class rehearsal wanted say everyone came said talk trust talk lack trust us way feel others talk trust bust say say feeling permeates generation perhaps even understood distrusted trust bust certainly busted clintons plans certainly even understand people distrusted whitewater travelgate vast conspiracy benghazi missing emails clinton found distrusted voice friday load compromising road broadening political horizons distrust american people trump edged percent percent question immediately prior novembers election stood major reason closing horizons clinton described vanquisher supporters embracing lie con alternative facts assault truth reason failed explain american people chose lies truth history majors among today know well people power invent facts attack question mark beginning end free society offered hyperbole like many people emerge hillary clinton embarked upon long strange trip high school goldwater girl wellesley college republican president democratic politician clinton drank times place gave degree significantly went idealist cynic comparison two wellesley commencement addresses show way back lamented long leaders viewed politics art possible challenge practice politics art making appears impossible possible big woman campus odd woman white house wonders current station even possible arent points ahead asked september may asks isnt president woman famously dubbed congenital liar bill safire concludes lies mind getting stood election day like finding jilted bride wedding day inspires dangerous delusions\n",
            "[170, 97, 350, 4674, 2, 1206, 131, 1378, 91, 197, 50, 30, 170, 350, 3, 97, 90, 5, 19, 2, 123, 1206, 590, 2973, 21, 12, 754, 131, 121, 5369, 91, 4287, 2063, 7272, 1144, 464, 2, 97, 74, 171, 2228, 2177, 1177, 125, 1028, 158, 100, 1146, 21, 12, 13278, 754, 1230, 8063, 1367, 12051, 13380, 3, 590, 4011, 19510, 826, 411, 1400, 1013, 91, 197, 783, 748, 138, 898, 1, 2771, 3817, 1255, 1716, 2, 917, 1177, 131, 5369, 1496, 91, 197, 2177, 740, 3209, 131, 6562, 91, 197, 1614, 21, 12, 67146, 1433, 249, 754, 131, 2177, 296, 2, 22, 3, 207, 1090, 230, 526, 2528, 17, 182, 214, 6933, 22, 97, 220, 158, 25316, 13278, 77, 3242, 453, 1934, 2322, 13278, 13278, 49, 55, 1811, 531, 43, 417, 11285, 2973, 100, 183, 190, 4152, 26321, 1151, 6933, 1, 458, 97, 95, 496, 1451, 99, 182, 2177, 1227, 677, 240, 6933, 1177, 825, 13278, 131, 2056, 210, 91, 197, 131, 4, 342, 1151, 3278, 3, 590, 14591, 479, 3, 101, 1584, 13278, 4941, 100, 13380, 3, 325, 49, 55, 3003, 66, 361, 4687, 612, 5, 216, 30, 138, 170, 3, 10738, 154, 1038, 2, 85, 181, 254, 194, 16357, 13278, 261, 1018, 1185, 254, 1157, 1645, 3811, 1, 2431, 78600, 49, 10738, 276, 1311, 23, 15, 114, 61, 46, 223, 290, 405, 78600, 436, 95, 5272, 3, 17, 434, 2668, 5573, 3060, 5963, 840, 1521, 1006, 2528, 1115, 1146, 21, 12, 23957, 279, 5496, 2528, 348, 994, 741, 1, 50, 1987, 99, 654, 419, 91, 4287, 495, 901, 21, 12, 91, 197, 551, 658, 1308, 243, 186, 1222, 462, 1222, 77, 2090, 131, 2528, 348, 994, 10607, 47072, 26, 341, 152, 275, 2771, 131, 2528, 434, 6714, 5619, 752, 131, 4968, 91, 4287, 202, 748, 901, 3, 1955, 14637, 1013, 3, 81, 44, 1052, 91, 879, 2261, 16, 1090, 541, 492, 3070, 654, 131, 390, 45689, 197, 4435, 50, 19510, 194, 6759, 13278, 7615, 590, 1378, 4, 6771, 307, 4, 4570, 13278, 2610, 13278, 898, 1, 2736, 13, 2198, 2060, 590, 1146, 1038, 610, 307, 1057, 405, 17231, 347, 13278, 142, 245, 1, 2038, 127445, 56, 903, 67147, 976, 14737, 1942, 3410, 13278, 3, 17, 928, 617, 590, 406, 2465, 298, 36, 1592, 16, 75, 684, 224, 1378, 33, 1579, 590, 1982, 14592, 3, 2074, 12580, 4431, 1386, 10166, 3407, 9087, 9829, 57219]\n"
          ],
          "name": "stdout"
        }
      ]
    },
    {
      "cell_type": "code",
      "metadata": {
        "id": "vyIH-zLb85Ff"
      },
      "source": [
        "embeddings_dictionary = dict()\n",
        "glove_file = open('/content/drive/MyDrive/MSc Project/glove.6B.100d.txt', encoding=\"utf8\")"
      ],
      "execution_count": 15,
      "outputs": []
    },
    {
      "cell_type": "code",
      "metadata": {
        "id": "fkCJ4YS33aHI"
      },
      "source": [
        "for line in glove_file:\n",
        "    records = line.split()\n",
        "    word = records[0]\n",
        "    vector_dimensions = asarray(records[1:], dtype='float32')\n",
        "    embeddings_dictionary [word] = vector_dimensions\n",
        "\n",
        "glove_file.close()"
      ],
      "execution_count": 16,
      "outputs": []
    },
    {
      "cell_type": "code",
      "metadata": {
        "id": "wIa0WrdT3buk"
      },
      "source": [
        "embedding_matrix = zeros((vocab_length, 100))\n",
        "for word, index in tokenizer.word_index.items():\n",
        "    embedding_vector = embeddings_dictionary.get(word)\n",
        "    if embedding_vector is not None:\n",
        "        embedding_matrix[index] = embedding_vector"
      ],
      "execution_count": 17,
      "outputs": []
    },
    {
      "cell_type": "code",
      "metadata": {
        "id": "_0VRxUHYrl0Q"
      },
      "source": [
        "maxlen = 200"
      ],
      "execution_count": 18,
      "outputs": []
    },
    {
      "cell_type": "code",
      "metadata": {
        "id": "ebiYjr-BtmKf"
      },
      "source": [
        "X_train_pad = pad_sequences(X_train_seq, maxlen=maxlen, padding='post')\n",
        "X_test_pad = pad_sequences(X_test_seq, maxlen=maxlen, padding='post')"
      ],
      "execution_count": 19,
      "outputs": []
    },
    {
      "cell_type": "code",
      "metadata": {
        "id": "IyO2D2a073tk"
      },
      "source": [
        "training_padded = np.array(X_train_pad)\n",
        "training_labels = np.array(y_train)\n",
        "testing_padded = np.array(X_test_pad)\n",
        "testing_labels = np.array(y_test)"
      ],
      "execution_count": 20,
      "outputs": []
    },
    {
      "cell_type": "code",
      "metadata": {
        "id": "voxjtyXf3hpt"
      },
      "source": [
        "model = Sequential()\n",
        "embedding_layer = Embedding(vocab_length, 100, weights=[embedding_matrix], input_length=maxlen, trainable=False)\n",
        "model.add(embedding_layer)\n",
        "model.add(Bidirectional(LSTM(256, dropout=0.1, return_sequences=True)))\n",
        "model.add(Bidirectional(LSTM(256, dropout=0.1)))\n",
        "model.add(Dense(1, activation='sigmoid'))"
      ],
      "execution_count": 26,
      "outputs": []
    },
    {
      "cell_type": "code",
      "metadata": {
        "id": "y9D13iGgQ95u",
        "colab": {
          "base_uri": "https://localhost:8080/",
          "height": 533
        },
        "outputId": "e31865b1-e317-4fff-fafb-7bd31fcecfe6"
      },
      "source": [
        "from keras.utils.vis_utils import plot_model\n",
        "plot_model(model, to_file='model_plot.png', show_shapes=True, show_layer_names=True)"
      ],
      "execution_count": 27,
      "outputs": [
        {
          "output_type": "execute_result",
          "data": {
            "image/png": "[encoded data removed]",
            "text/plain": [
              "<IPython.core.display.Image object>"
            ]
          },
          "metadata": {
            "tags": []
          },
          "execution_count": 27
        }
      ]
    },
    {
      "cell_type": "code",
      "metadata": {
        "id": "zym2Wj9W0Fds"
      },
      "source": [
        "from keras.callbacks import EarlyStopping\n",
        "from keras.callbacks import ModelCheckpoint"
      ],
      "execution_count": 28,
      "outputs": []
    },
    {
      "cell_type": "code",
      "metadata": {
        "id": "LI7my3LX3_4o",
        "colab": {
          "base_uri": "https://localhost:8080/"
        },
        "outputId": "a2b057d3-4103-408c-a376-6cd5abbdd334"
      },
      "source": [
        "# lr_schedule = keras.optimizers.schedules.ExponentialDecay(\n",
        "#     initial_learning_rate=1e-3,\n",
        "#     decay_steps=10000,\n",
        "#     decay_rate=0.9)\n",
        "\n",
        "opt = keras.optimizers.Adam(learning_rate=0.0001)\n",
        "#opt = keras.optimizers.Adam(learning_rate=lr_schedule)\n",
        "model.compile(optimizer=opt, loss='binary_crossentropy', metrics=['acc'])\n",
        "\n",
        "#Adding callbacks\n",
        "es = EarlyStopping(monitor='val_loss', mode='min', verbose=1, patience=20)  \n",
        "mc=ModelCheckpoint('bilstm_best_model_margeddataset.h5', monitor='val_acc', mode='max', save_best_only=True, verbose=1)\n",
        "\n",
        "print(model.summary())"
      ],
      "execution_count": 29,
      "outputs": [
        {
          "output_type": "stream",
          "text": [
            "Model: \"sequential_1\"\n",
            "_________________________________________________________________\n",
            "Layer (type)                 Output Shape              Param #   \n",
            "=================================================================\n",
            "embedding_1 (Embedding)      (None, 200, 100)          37486000  \n",
            "_________________________________________________________________\n",
            "bidirectional_2 (Bidirection (None, 200, 512)          731136    \n",
            "_________________________________________________________________\n",
            "bidirectional_3 (Bidirection (None, 512)               1574912   \n",
            "_________________________________________________________________\n",
            "dense_1 (Dense)              (None, 1)                 513       \n",
            "=================================================================\n",
            "Total params: 39,792,561\n",
            "Trainable params: 2,306,561\n",
            "Non-trainable params: 37,486,000\n",
            "_________________________________________________________________\n",
            "None\n"
          ],
          "name": "stdout"
        }
      ]
    },
    {
      "cell_type": "code",
      "metadata": {
        "id": "Ga1Fx3DP4AXV",
        "colab": {
          "base_uri": "https://localhost:8080/"
        },
        "outputId": "3f58f9fc-669c-4020-cc21-5d40473bc640"
      },
      "source": [
        "history = model.fit(x=training_padded, y=training_labels, epochs=10, verbose=1, validation_data=(testing_padded, testing_labels), callbacks=[es, mc], batch_size=256)"
      ],
      "execution_count": 30,
      "outputs": [
        {
          "output_type": "stream",
          "text": [
            "Epoch 1/10\n",
            "405/405 [==============================] - 90s 209ms/step - loss: 0.3815 - acc: 0.8315 - val_loss: 0.2173 - val_acc: 0.9105\n",
            "\n",
            "Epoch 00001: val_acc improved from -inf to 0.91046, saving model to bilstm_best_model_margeddataset.h5\n",
            "Epoch 2/10\n",
            "405/405 [==============================] - 84s 207ms/step - loss: 0.2138 - acc: 0.9135 - val_loss: 0.1780 - val_acc: 0.9297\n",
            "\n",
            "Epoch 00002: val_acc improved from 0.91046 to 0.92966, saving model to bilstm_best_model_margeddataset.h5\n",
            "Epoch 3/10\n",
            "405/405 [==============================] - 84s 208ms/step - loss: 0.1783 - acc: 0.9302 - val_loss: 0.1566 - val_acc: 0.9410\n",
            "\n",
            "Epoch 00003: val_acc improved from 0.92966 to 0.94103, saving model to bilstm_best_model_margeddataset.h5\n",
            "Epoch 4/10\n",
            "405/405 [==============================] - 84s 207ms/step - loss: 0.1521 - acc: 0.9413 - val_loss: 0.1374 - val_acc: 0.9457\n",
            "\n",
            "Epoch 00004: val_acc improved from 0.94103 to 0.94572, saving model to bilstm_best_model_margeddataset.h5\n",
            "Epoch 5/10\n",
            "405/405 [==============================] - 84s 208ms/step - loss: 0.1407 - acc: 0.9459 - val_loss: 0.1330 - val_acc: 0.9481\n",
            "\n",
            "Epoch 00005: val_acc improved from 0.94572 to 0.94807, saving model to bilstm_best_model_margeddataset.h5\n",
            "Epoch 6/10\n",
            "405/405 [==============================] - 84s 208ms/step - loss: 0.1301 - acc: 0.9497 - val_loss: 0.1272 - val_acc: 0.9517\n",
            "\n",
            "Epoch 00006: val_acc improved from 0.94807 to 0.95172, saving model to bilstm_best_model_margeddataset.h5\n",
            "Epoch 7/10\n",
            "405/405 [==============================] - 84s 207ms/step - loss: 0.1139 - acc: 0.9562 - val_loss: 0.1196 - val_acc: 0.9546\n",
            "\n",
            "Epoch 00007: val_acc improved from 0.95172 to 0.95458, saving model to bilstm_best_model_margeddataset.h5\n",
            "Epoch 8/10\n",
            "405/405 [==============================] - 84s 208ms/step - loss: 0.1083 - acc: 0.9594 - val_loss: 0.1168 - val_acc: 0.9561\n",
            "\n",
            "Epoch 00008: val_acc improved from 0.95458 to 0.95606, saving model to bilstm_best_model_margeddataset.h5\n",
            "Epoch 9/10\n",
            "405/405 [==============================] - 84s 207ms/step - loss: 0.0990 - acc: 0.9632 - val_loss: 0.1137 - val_acc: 0.9570\n",
            "\n",
            "Epoch 00009: val_acc improved from 0.95606 to 0.95701, saving model to bilstm_best_model_margeddataset.h5\n",
            "Epoch 10/10\n",
            "405/405 [==============================] - 84s 207ms/step - loss: 0.0941 - acc: 0.9638 - val_loss: 0.1173 - val_acc: 0.9567\n",
            "\n",
            "Epoch 00010: val_acc did not improve from 0.95701\n"
          ],
          "name": "stdout"
        }
      ]
    },
    {
      "cell_type": "code",
      "metadata": {
        "id": "2Inox2Xua2Lq"
      },
      "source": [
        "import matplotlib.pyplot as plt"
      ],
      "execution_count": 31,
      "outputs": []
    },
    {
      "cell_type": "code",
      "metadata": {
        "id": "93CFv5E2CBBb",
        "colab": {
          "base_uri": "https://localhost:8080/",
          "height": 590
        },
        "outputId": "19c2f000-0f64-4795-aa11-387ad54452d0"
      },
      "source": [
        "# list all data in history\n",
        "print(history.history.keys())\n",
        "# summarize history for accuracy\n",
        "plt.plot(history.history['acc'])\n",
        "#plt.plot(history.history['val_acc'])\n",
        "plt.title('model accuracy')\n",
        "plt.ylabel('accuracy')\n",
        "plt.xlabel('epoch')\n",
        "plt.legend(['train', 'test'], loc='upper left')\n",
        "plt.show()\n",
        "# summarize history for loss\n",
        "plt.plot(history.history['loss'])\n",
        "#plt.plot(history.history['val_loss'])\n",
        "plt.title('model loss')\n",
        "plt.ylabel('loss')\n",
        "plt.xlabel('epoch')\n",
        "plt.legend(['train', 'test'], loc='upper left')\n",
        "plt.show()"
      ],
      "execution_count": 32,
      "outputs": [
        {
          "output_type": "stream",
          "text": [
            "dict_keys(['loss', 'acc', 'val_loss', 'val_acc'])\n"
          ],
          "name": "stdout"
        },
        {
          "output_type": "display_data",
          "data": {
            "image/png": "[encoded data removed]",
            "text/plain": [
              "<Figure size 432x288 with 1 Axes>"
            ]
          },
          "metadata": {
            "tags": []
          }
        },
        {
          "output_type": "display_data",
          "data": {
            "image/png": "[encoded data removed]",
            "text/plain": [
              "<Figure size 432x288 with 1 Axes>"
            ]
          },
          "metadata": {
            "tags": []
          }
        }
      ]
    },
    {
      "cell_type": "code",
      "metadata": {
        "id": "cIu2k7w7CCmK"
      },
      "source": [
        "def plot_confusion_matrix(X, y_true):\n",
        "    classes = ['True','Fake']\n",
        "    y_pred = model.predict_classes(X)\n",
        "    con_mat = tf.math.confusion_matrix(labels=y_true, predictions=y_pred).numpy()\n",
        "    con_mat_norm = np.around(con_mat.astype('float') / con_mat.sum(axis=1)[:, np.newaxis], decimals=2)\n",
        "\n",
        "    con_mat_df = pd.DataFrame(con_mat_norm,\n",
        "                        index = classes, \n",
        "                        columns = classes)\n",
        "    figure = plt.figure(figsize=(8, 8))\n",
        "    sns.heatmap(con_mat_df, annot=True,cmap=plt.cm.Blues)\n",
        "    plt.tight_layout()\n",
        "    plt.ylabel('True label')\n",
        "    plt.xlabel('Predicted label')\n",
        "    plt.show()"
      ],
      "execution_count": 33,
      "outputs": []
    },
    {
      "cell_type": "code",
      "metadata": {
        "id": "3dDnp3OpCD38",
        "colab": {
          "base_uri": "https://localhost:8080/",
          "height": 653
        },
        "outputId": "89871a6c-353f-47aa-c368-b65f7de782b2"
      },
      "source": [
        "plot_confusion_matrix(testing_padded, testing_labels)"
      ],
      "execution_count": 34,
      "outputs": [
        {
          "output_type": "stream",
          "text": [
            "/usr/local/lib/python3.7/dist-packages/tensorflow/python/keras/engine/sequential.py:450: UserWarning: `model.predict_classes()` is deprecated and will be removed after 2021-01-01. Please use instead:* `np.argmax(model.predict(x), axis=-1)`,   if your model does multi-class classification   (e.g. if it uses a `softmax` last-layer activation).* `(model.predict(x) > 0.5).astype(\"int32\")`,   if your model does binary classification   (e.g. if it uses a `sigmoid` last-layer activation).\n",
            "  warnings.warn('`model.predict_classes()` is deprecated and '\n"
          ],
          "name": "stderr"
        },
        {
          "output_type": "display_data",
          "data": {
            "image/png": "[encoded data removed]",
            "text/plain": [
              "<Figure size 576x576 with 2 Axes>"
            ]
          },
          "metadata": {
            "tags": []
          }
        }
      ]
    },
    {
      "cell_type": "code",
      "metadata": {
        "id": "Orqi291Bnkzn"
      },
      "source": [
        "from sklearn.metrics import precision_score , recall_score, f1_score, classification_report   "
      ],
      "execution_count": 35,
      "outputs": []
    },
    {
      "cell_type": "code",
      "metadata": {
        "id": "gXRJ_Wq9nl20"
      },
      "source": [
        "def precision_recall_f1(X, y_val):    \n",
        "    y_val_pred=model.predict_classes(X)\n",
        "\n",
        "    print(\"\\nPrecision score: \",precision_score(y_val,y_val_pred,average=None))\n",
        "    print(\"\\nRecall score: \",recall_score(y_val,y_val_pred,average=None))\n",
        "    print(\"\\nF1 score: \",f1_score(y_val,y_val_pred,average=None))\n",
        "    \n",
        "    print(\"\\n Classification Report:\")\n",
        "    print(classification_report(y_val, y_val_pred))"
      ],
      "execution_count": 36,
      "outputs": []
    },
    {
      "cell_type": "code",
      "metadata": {
        "colab": {
          "base_uri": "https://localhost:8080/"
        },
        "id": "1ts0YgUznnKp",
        "outputId": "b64f50f1-0ab9-45ca-b82a-55d21ce2586b"
      },
      "source": [
        "precision_recall_f1(testing_padded, testing_labels)"
      ],
      "execution_count": 37,
      "outputs": [
        {
          "output_type": "stream",
          "text": [
            "/usr/local/lib/python3.7/dist-packages/tensorflow/python/keras/engine/sequential.py:450: UserWarning: `model.predict_classes()` is deprecated and will be removed after 2021-01-01. Please use instead:* `np.argmax(model.predict(x), axis=-1)`,   if your model does multi-class classification   (e.g. if it uses a `softmax` last-layer activation).* `(model.predict(x) > 0.5).astype(\"int32\")`,   if your model does binary classification   (e.g. if it uses a `sigmoid` last-layer activation).\n",
            "  warnings.warn('`model.predict_classes()` is deprecated and '\n"
          ],
          "name": "stderr"
        },
        {
          "output_type": "stream",
          "text": [
            "\n",
            "Precision score:  [0.97994628 0.93473862]\n",
            "\n",
            "Recall score:  [0.93395904 0.98019452]\n",
            "\n",
            "F1 score:  [0.95640017 0.95692706]\n",
            "\n",
            " Classification Report:\n",
            "              precision    recall  f1-score   support\n",
            "\n",
            "           0       0.98      0.93      0.96      5860\n",
            "           1       0.93      0.98      0.96      5655\n",
            "\n",
            "    accuracy                           0.96     11515\n",
            "   macro avg       0.96      0.96      0.96     11515\n",
            "weighted avg       0.96      0.96      0.96     11515\n",
            "\n"
          ],
          "name": "stdout"
        }
      ]
    },
    {
      "cell_type": "code",
      "metadata": {
        "id": "8bt4ttTzoXTz"
      },
      "source": [
        ""
      ],
      "execution_count": null,
      "outputs": []
    }
  ]
}