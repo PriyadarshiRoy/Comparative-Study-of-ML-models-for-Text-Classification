{
  "nbformat": 4,
  "nbformat_minor": 0,
  "metadata": {
    "colab": {
      "name": "VanillaRNN_MergedDataset.ipynb",
      "provenance": [],
      "collapsed_sections": []
    },
    "kernelspec": {
      "display_name": "Python 3",
      "name": "python3"
    },
    "accelerator": "GPU"
  },
  "cells": [
    {
      "cell_type": "code",
      "metadata": {
        "colab": {
          "base_uri": "https://localhost:8080/"
        },
        "id": "Kl4HWq-Tq9dy",
        "outputId": "e0a0b465-5c87-4fc2-e9a1-e7ef176518ee"
      },
      "source": [
        "import nltk\n",
        "nltk.download('punkt')"
      ],
      "execution_count": 1,
      "outputs": [
        {
          "output_type": "stream",
          "text": [
            "[nltk_data] Downloading package punkt to /root/nltk_data...\n",
            "[nltk_data]   Unzipping tokenizers/punkt.zip.\n"
          ],
          "name": "stdout"
        },
        {
          "output_type": "execute_result",
          "data": {
            "text/plain": [
              "True"
            ]
          },
          "metadata": {
            "tags": []
          },
          "execution_count": 1
        }
      ]
    },
    {
      "cell_type": "code",
      "metadata": {
        "id": "Se70B2pQrZLZ"
      },
      "source": [
        "import pandas as pd\n",
        "import tensorflow as tf\n",
        "from tensorflow.keras.preprocessing.text import Tokenizer\n",
        "import numpy as np\n",
        "from sklearn.model_selection import train_test_split\n",
        "from tensorflow.keras.preprocessing.sequence import pad_sequences\n",
        "from numpy import array\n",
        "from keras.preprocessing.text import one_hot\n",
        "from keras.models import Sequential\n",
        "from keras.layers import Dense\n",
        "from keras.layers import Flatten\n",
        "from keras.layers import Dropout\n",
        "from keras.layers import SimpleRNN\n",
        "from keras.layers.embeddings import Embedding\n",
        "from numpy import asarray\n",
        "from numpy import zeros\n",
        "import keras"
      ],
      "execution_count": 2,
      "outputs": []
    },
    {
      "cell_type": "code",
      "metadata": {
        "colab": {
          "base_uri": "https://localhost:8080/"
        },
        "id": "S6RZ3TnI0LDZ",
        "outputId": "2a0568bd-8ab0-4b4b-b4c8-a0646481f094"
      },
      "source": [
        "from google.colab import drive\n",
        "drive.mount('/content/drive')"
      ],
      "execution_count": 3,
      "outputs": [
        {
          "output_type": "stream",
          "text": [
            "Mounted at /content/drive\n"
          ],
          "name": "stdout"
        }
      ]
    },
    {
      "cell_type": "code",
      "metadata": {
        "id": "Iw0OQMkyLJE7"
      },
      "source": [
        "df = pd.read_csv(r'/content/drive/MyDrive/MSc Project/Data/MergedDataset.csv')"
      ],
      "execution_count": 4,
      "outputs": []
    },
    {
      "cell_type": "code",
      "metadata": {
        "colab": {
          "base_uri": "https://localhost:8080/",
          "height": 198
        },
        "id": "5GMv4KQlLSKR",
        "outputId": "530b0395-c573-4e7a-df12-62bd0cefce9a"
      },
      "source": [
        "df.head()"
      ],
      "execution_count": 5,
      "outputs": [
        {
          "output_type": "execute_result",
          "data": {
            "text/html": [
              "<div>\n",
              "<style scoped>\n",
              "    .dataframe tbody tr th:only-of-type {\n",
              "        vertical-align: middle;\n",
              "    }\n",
              "\n",
              "    .dataframe tbody tr th {\n",
              "        vertical-align: top;\n",
              "    }\n",
              "\n",
              "    .dataframe thead th {\n",
              "        text-align: right;\n",
              "    }\n",
              "</style>\n",
              "<table border=\"1\" class=\"dataframe\">\n",
              "  <thead>\n",
              "    <tr style=\"text-align: right;\">\n",
              "      <th></th>\n",
              "      <th>text</th>\n",
              "      <th>label</th>\n",
              "    </tr>\n",
              "  </thead>\n",
              "  <tbody>\n",
              "    <tr>\n",
              "      <th>0</th>\n",
              "      <td>flynn hillary clinton big woman campus breitba...</td>\n",
              "      <td>0</td>\n",
              "    </tr>\n",
              "    <tr>\n",
              "      <th>1</th>\n",
              "      <td>jackie mason hollywood would love trump bombed...</td>\n",
              "      <td>0</td>\n",
              "    </tr>\n",
              "    <tr>\n",
              "      <th>2</th>\n",
              "      <td>benot hamon wins french socialist partys presi...</td>\n",
              "      <td>0</td>\n",
              "    </tr>\n",
              "    <tr>\n",
              "      <th>3</th>\n",
              "      <td>excerpts draft script donald trumps qampa blac...</td>\n",
              "      <td>0</td>\n",
              "    </tr>\n",
              "    <tr>\n",
              "      <th>4</th>\n",
              "      <td>backchannel plan ukraine russia courtesy trump...</td>\n",
              "      <td>0</td>\n",
              "    </tr>\n",
              "  </tbody>\n",
              "</table>\n",
              "</div>"
            ],
            "text/plain": [
              "                                                text  label\n",
              "0  flynn hillary clinton big woman campus breitba...      0\n",
              "1  jackie mason hollywood would love trump bombed...      0\n",
              "2  benot hamon wins french socialist partys presi...      0\n",
              "3  excerpts draft script donald trumps qampa blac...      0\n",
              "4  backchannel plan ukraine russia courtesy trump...      0"
            ]
          },
          "metadata": {
            "tags": []
          },
          "execution_count": 5
        }
      ]
    },
    {
      "cell_type": "code",
      "metadata": {
        "colab": {
          "base_uri": "https://localhost:8080/",
          "height": 356
        },
        "id": "loMb8pe0OjOo",
        "outputId": "a6f6531c-6418-4f44-9f67-b3dfcc8d3a6f"
      },
      "source": [
        "import seaborn as sns\n",
        "sns.set_style(\"darkgrid\")\n",
        "sns.countplot(df.label)"
      ],
      "execution_count": 6,
      "outputs": [
        {
          "output_type": "stream",
          "text": [
            "/usr/local/lib/python3.7/dist-packages/seaborn/_decorators.py:43: FutureWarning: Pass the following variable as a keyword arg: x. From version 0.12, the only valid positional argument will be `data`, and passing other arguments without an explicit keyword will result in an error or misinterpretation.\n",
            "  FutureWarning\n"
          ],
          "name": "stderr"
        },
        {
          "output_type": "execute_result",
          "data": {
            "text/plain": [
              "<matplotlib.axes._subplots.AxesSubplot at 0x7f877d28f890>"
            ]
          },
          "metadata": {
            "tags": []
          },
          "execution_count": 6
        },
        {
          "output_type": "display_data",
          "data": {
            "image/png": "[encoded data removed]",
            "text/plain": [
              "<Figure size 432x288 with 1 Axes>"
            ]
          },
          "metadata": {
            "tags": []
          }
        }
      ]
    },
    {
      "cell_type": "code",
      "metadata": {
        "colab": {
          "base_uri": "https://localhost:8080/"
        },
        "id": "0ng4lMNf4eei",
        "outputId": "181c7584-c06b-4daa-c5b1-aeb8bbd7a02a"
      },
      "source": [
        "len(df.index)"
      ],
      "execution_count": 7,
      "outputs": [
        {
          "output_type": "execute_result",
          "data": {
            "text/plain": [
              "115144"
            ]
          },
          "metadata": {
            "tags": []
          },
          "execution_count": 7
        }
      ]
    },
    {
      "cell_type": "code",
      "metadata": {
        "id": "WOCQUpiXLUhT"
      },
      "source": [
        "X = df['text']\n",
        "y = df['label']"
      ],
      "execution_count": 8,
      "outputs": []
    },
    {
      "cell_type": "code",
      "metadata": {
        "colab": {
          "base_uri": "https://localhost:8080/"
        },
        "id": "Scn0brIFLYqO",
        "outputId": "edbf5230-e191-488e-e5d0-cdd0396a5d04"
      },
      "source": [
        "print(len(X))\n",
        "print(len(y))"
      ],
      "execution_count": 9,
      "outputs": [
        {
          "output_type": "stream",
          "text": [
            "115144\n",
            "115144\n"
          ],
          "name": "stdout"
        }
      ]
    },
    {
      "cell_type": "code",
      "metadata": {
        "id": "fEijBMz8P0sf"
      },
      "source": [
        "test_size = 0.1\n",
        "random_state = 42\n",
        "X_train, X_test, y_train, y_test = train_test_split(X, y, test_size=test_size, random_state=42, shuffle=True)"
      ],
      "execution_count": 10,
      "outputs": []
    },
    {
      "cell_type": "code",
      "metadata": {
        "id": "ENJ18XUbQP9t",
        "colab": {
          "base_uri": "https://localhost:8080/"
        },
        "outputId": "3178c4fd-7e74-4997-c6ec-79b77ba457b3"
      },
      "source": [
        "print(len(X_train))\n",
        "print(len(y_train))\n",
        "print(len(X_test))\n",
        "print(len(y_test))"
      ],
      "execution_count": 11,
      "outputs": [
        {
          "output_type": "stream",
          "text": [
            "103629\n",
            "103629\n",
            "11515\n",
            "11515\n"
          ],
          "name": "stdout"
        }
      ]
    },
    {
      "cell_type": "code",
      "metadata": {
        "id": "fsR5q-8dQZWJ"
      },
      "source": [
        "tokenizer = Tokenizer()\n",
        "\n",
        "#preparing vocabulary\n",
        "tokenizer.fit_on_texts(X_train)\n",
        "\n",
        "#converting text into integer sequences\n",
        "X_train_seq  = tokenizer.texts_to_sequences(X_train) \n",
        "X_test_seq = tokenizer.texts_to_sequences(X_test)"
      ],
      "execution_count": 12,
      "outputs": []
    },
    {
      "cell_type": "code",
      "metadata": {
        "id": "pyQpCHKl3RBm",
        "colab": {
          "base_uri": "https://localhost:8080/"
        },
        "outputId": "7e763329-65c9-44dd-ad31-1fddbecb4299"
      },
      "source": [
        "vocab_length = len(tokenizer.word_index) + 1\n",
        "vocab_length"
      ],
      "execution_count": 13,
      "outputs": [
        {
          "output_type": "execute_result",
          "data": {
            "text/plain": [
              "374860"
            ]
          },
          "metadata": {
            "tags": []
          },
          "execution_count": 13
        }
      ]
    },
    {
      "cell_type": "code",
      "metadata": {
        "id": "keq92WqVRC0I",
        "colab": {
          "base_uri": "https://localhost:8080/"
        },
        "outputId": "56bcd385-6c4e-47f1-cc62-7faba7b844ec"
      },
      "source": [
        "print(X_train[0])\n",
        "print(X_train_seq[0])"
      ],
      "execution_count": 14,
      "outputs": [
        {
          "output_type": "stream",
          "text": [
            "flynn hillary clinton big woman campus breitbart ever get feeling life circles roundabout rather heads straight line toward intended destination hillary clinton remains big woman campus leafy liberal wellesley massachusetts everywhere else votes likely inauguration dress remainder days way miss havisham forever wore wedding dress speaking great expectations hillary rodham overflowed years ago first addressed wellesley graduating class president college informed gathered students needed debate far could ascertain spokesman kind like democratic primaries minus terms unknown even seven sisters school glad miss adams made clear speaking today us us miss rodham told classmates appointing edger bergen charlie mccarthys mortimer snerds attendance bespectacled granny glasses awarding matronly wisdom least john lennon wisdom took issue previous speaker despite becoming first win election seat u senate since reconstruction edward brooke came criticism calling empathy goals protestors criticized tactics though clinton senior thesis saul alinsky lamented black power demagogues elitist arrogance repressive intolerance within new left similar words coming republican necessitated brief rebuttal trust rodham ironically observed one word asked class rehearsal wanted say everyone came said talk trust talk lack trust us way feel others talk trust bust say say feeling permeates generation perhaps even understood distrusted trust bust certainly busted clintons plans certainly even understand people distrusted whitewater travelgate vast conspiracy benghazi missing emails clinton found distrusted voice friday load compromising road broadening political horizons distrust american people trump edged percent percent question immediately prior novembers election stood major reason closing horizons clinton described vanquisher supporters embracing lie con alternative facts assault truth reason failed explain american people chose lies truth history majors among today know well people power invent facts attack question mark beginning end free society offered hyperbole like many people emerge hillary clinton embarked upon long strange trip high school goldwater girl wellesley college republican president democratic politician clinton drank times place gave degree significantly went idealist cynic comparison two wellesley commencement addresses show way back lamented long leaders viewed politics art possible challenge practice politics art making appears impossible possible big woman campus odd woman white house wonders current station even possible arent points ahead asked september may asks isnt president woman famously dubbed congenital liar bill safire concludes lies mind getting stood election day like finding jilted bride wedding day inspires dangerous delusions\n",
            "[170, 97, 350, 4674, 2, 1206, 131, 1378, 91, 197, 50, 30, 170, 350, 3, 97, 90, 5, 19, 2, 123, 1206, 590, 2973, 21, 12, 754, 131, 121, 5369, 91, 4287, 2063, 7272, 1144, 464, 2, 97, 74, 171, 2228, 2177, 1177, 125, 1028, 158, 100, 1146, 21, 12, 13278, 754, 1230, 8063, 1367, 12051, 13380, 3, 590, 4011, 19510, 826, 411, 1400, 1013, 91, 197, 783, 748, 138, 898, 1, 2771, 3817, 1255, 1716, 2, 917, 1177, 131, 5369, 1496, 91, 197, 2177, 740, 3209, 131, 6562, 91, 197, 1614, 21, 12, 67146, 1433, 249, 754, 131, 2177, 296, 2, 22, 3, 207, 1090, 230, 526, 2528, 17, 182, 214, 6933, 22, 97, 220, 158, 25316, 13278, 77, 3242, 453, 1934, 2322, 13278, 13278, 49, 55, 1811, 531, 43, 417, 11285, 2973, 100, 183, 190, 4152, 26321, 1151, 6933, 1, 458, 97, 95, 496, 1451, 99, 182, 2177, 1227, 677, 240, 6933, 1177, 825, 13278, 131, 2056, 210, 91, 197, 131, 4, 342, 1151, 3278, 3, 590, 14591, 479, 3, 101, 1584, 13278, 4941, 100, 13380, 3, 325, 49, 55, 3003, 66, 361, 4687, 612, 5, 216, 30, 138, 170, 3, 10738, 154, 1038, 2, 85, 181, 254, 194, 16357, 13278, 261, 1018, 1185, 254, 1157, 1645, 3811, 1, 2431, 78600, 49, 10738, 276, 1311, 23, 15, 114, 61, 46, 223, 290, 405, 78600, 436, 95, 5272, 3, 17, 434, 2668, 5573, 3060, 5963, 840, 1521, 1006, 2528, 1115, 1146, 21, 12, 23957, 279, 5496, 2528, 348, 994, 741, 1, 50, 1987, 99, 654, 419, 91, 4287, 495, 901, 21, 12, 91, 197, 551, 658, 1308, 243, 186, 1222, 462, 1222, 77, 2090, 131, 2528, 348, 994, 10607, 47072, 26, 341, 152, 275, 2771, 131, 2528, 434, 6714, 5619, 752, 131, 4968, 91, 4287, 202, 748, 901, 3, 1955, 14637, 1013, 3, 81, 44, 1052, 91, 879, 2261, 16, 1090, 541, 492, 3070, 654, 131, 390, 45689, 197, 4435, 50, 19510, 194, 6759, 13278, 7615, 590, 1378, 4, 6771, 307, 4, 4570, 13278, 2610, 13278, 898, 1, 2736, 13, 2198, 2060, 590, 1146, 1038, 610, 307, 1057, 405, 17231, 347, 13278, 142, 245, 1, 2038, 127445, 56, 903, 67147, 976, 14737, 1942, 3410, 13278, 3, 17, 928, 617, 590, 406, 2465, 298, 36, 1592, 16, 75, 684, 224, 1378, 33, 1579, 590, 1982, 14592, 3, 2074, 12580, 4431, 1386, 10166, 3407, 9087, 9829, 57219]\n"
          ],
          "name": "stdout"
        }
      ]
    },
    {
      "cell_type": "code",
      "metadata": {
        "id": "vyIH-zLb85Ff"
      },
      "source": [
        "embeddings_dictionary = dict()\n",
        "glove_file = open('/content/drive/MyDrive/MSc Project/glove.6B.100d.txt', encoding=\"utf8\")"
      ],
      "execution_count": 15,
      "outputs": []
    },
    {
      "cell_type": "code",
      "metadata": {
        "id": "fkCJ4YS33aHI"
      },
      "source": [
        "for line in glove_file:\n",
        "    records = line.split()\n",
        "    word = records[0]\n",
        "    vector_dimensions = asarray(records[1:], dtype='float32')\n",
        "    embeddings_dictionary [word] = vector_dimensions\n",
        "\n",
        "glove_file.close()"
      ],
      "execution_count": 16,
      "outputs": []
    },
    {
      "cell_type": "code",
      "metadata": {
        "id": "wIa0WrdT3buk"
      },
      "source": [
        "embedding_matrix = zeros((vocab_length, 100))\n",
        "for word, index in tokenizer.word_index.items():\n",
        "    embedding_vector = embeddings_dictionary.get(word)\n",
        "    if embedding_vector is not None:\n",
        "        embedding_matrix[index] = embedding_vector"
      ],
      "execution_count": 17,
      "outputs": []
    },
    {
      "cell_type": "code",
      "metadata": {
        "id": "_0VRxUHYrl0Q"
      },
      "source": [
        "maxlen = 50"
      ],
      "execution_count": 60,
      "outputs": []
    },
    {
      "cell_type": "code",
      "metadata": {
        "id": "ebiYjr-BtmKf"
      },
      "source": [
        "X_train_pad = pad_sequences(X_train_seq, maxlen=maxlen, padding='post')\n",
        "X_test_pad = pad_sequences(X_test_seq, maxlen=maxlen, padding='post')"
      ],
      "execution_count": 61,
      "outputs": []
    },
    {
      "cell_type": "code",
      "metadata": {
        "id": "IyO2D2a073tk"
      },
      "source": [
        "training_padded = np.array(X_train_pad)\n",
        "training_labels = np.array(y_train)\n",
        "testing_padded = np.array(X_test_pad)\n",
        "testing_labels = np.array(y_test)"
      ],
      "execution_count": 62,
      "outputs": []
    },
    {
      "cell_type": "code",
      "metadata": {
        "id": "voxjtyXf3hpt"
      },
      "source": [
        "model = Sequential()\n",
        "embedding_layer = Embedding(vocab_length, 100, weights=[embedding_matrix], input_length=maxlen, trainable=False)\n",
        "model.add(embedding_layer)\n",
        "model.add(SimpleRNN(256, dropout=0.1, return_sequences=True))\n",
        "model.add(SimpleRNN(256, dropout=0.1))\n",
        "model.add(Dense(1, activation='sigmoid'))"
      ],
      "execution_count": 63,
      "outputs": []
    },
    {
      "cell_type": "code",
      "metadata": {
        "colab": {
          "base_uri": "https://localhost:8080/",
          "height": 533
        },
        "id": "-6q4X6ElMEGM",
        "outputId": "5ec20a58-112c-41ac-c10e-adac8956e182"
      },
      "source": [
        "from keras.utils.vis_utils import plot_model\n",
        "plot_model(model, to_file='model_plot.png', show_shapes=True, show_layer_names=True)"
      ],
      "execution_count": 64,
      "outputs": [
        {
          "output_type": "execute_result",
          "data": {
            "image/png": "[encoded data removed]",
            "text/plain": [
              "<IPython.core.display.Image object>"
            ]
          },
          "metadata": {
            "tags": []
          },
          "execution_count": 64
        }
      ]
    },
    {
      "cell_type": "code",
      "metadata": {
        "id": "zym2Wj9W0Fds"
      },
      "source": [
        "from keras.callbacks import EarlyStopping\n",
        "from keras.callbacks import ModelCheckpoint"
      ],
      "execution_count": 65,
      "outputs": []
    },
    {
      "cell_type": "code",
      "metadata": {
        "id": "LI7my3LX3_4o",
        "colab": {
          "base_uri": "https://localhost:8080/"
        },
        "outputId": "b0b5d5c7-85f7-4f9d-80b0-5454c427e938"
      },
      "source": [
        "# lr_schedule = keras.optimizers.schedules.ExponentialDecay(\n",
        "#     initial_learning_rate=0.0001,\n",
        "#     decay_steps=10000,\n",
        "#     decay_rate=0.9)\n",
        "\n",
        "opt = keras.optimizers.Adam(learning_rate=0.001)\n",
        "# #opt = keras.optimizers.Adam(learning_rate=lr_schedule)\n",
        "model.compile(optimizer=opt, loss='binary_crossentropy', metrics=['acc'])\n",
        "\n",
        "#Adding callbacks\n",
        "es = EarlyStopping(monitor='val_loss', mode='min', verbose=1, patience=20)  \n",
        "mc=ModelCheckpoint('vanillarnn_best_model_margeddataset.h5', monitor='val_acc', mode='max', save_best_only=True, verbose=1)\n",
        "\n",
        "print(model.summary())"
      ],
      "execution_count": 66,
      "outputs": [
        {
          "output_type": "stream",
          "text": [
            "Model: \"sequential_6\"\n",
            "_________________________________________________________________\n",
            "Layer (type)                 Output Shape              Param #   \n",
            "=================================================================\n",
            "embedding_6 (Embedding)      (None, 50, 100)           37486000  \n",
            "_________________________________________________________________\n",
            "simple_rnn_12 (SimpleRNN)    (None, 50, 256)           91392     \n",
            "_________________________________________________________________\n",
            "simple_rnn_13 (SimpleRNN)    (None, 256)               131328    \n",
            "_________________________________________________________________\n",
            "dense_6 (Dense)              (None, 1)                 257       \n",
            "=================================================================\n",
            "Total params: 37,708,977\n",
            "Trainable params: 222,977\n",
            "Non-trainable params: 37,486,000\n",
            "_________________________________________________________________\n",
            "None\n"
          ],
          "name": "stdout"
        }
      ]
    },
    {
      "cell_type": "code",
      "metadata": {
        "id": "Ga1Fx3DP4AXV",
        "colab": {
          "base_uri": "https://localhost:8080/"
        },
        "outputId": "496a05f8-59ac-4f6d-803b-3c9bd7b7ace5"
      },
      "source": [
        "history = model.fit(x=training_padded, y=training_labels, epochs=10, verbose=1, validation_data=(testing_padded, testing_labels), callbacks=[es, mc], batch_size=256)"
      ],
      "execution_count": 67,
      "outputs": [
        {
          "output_type": "stream",
          "text": [
            "Epoch 1/10\n",
            "405/405 [==============================] - 41s 98ms/step - loss: 0.3959 - acc: 0.8186 - val_loss: 0.2864 - val_acc: 0.8776\n",
            "\n",
            "Epoch 00001: val_acc improved from -inf to 0.87755, saving model to vanillarnn_best_model_margeddataset.h5\n",
            "Epoch 2/10\n",
            "405/405 [==============================] - 37s 92ms/step - loss: 0.2907 - acc: 0.8792 - val_loss: 0.2347 - val_acc: 0.9064\n",
            "\n",
            "Epoch 00002: val_acc improved from 0.87755 to 0.90638, saving model to vanillarnn_best_model_margeddataset.h5\n",
            "Epoch 3/10\n",
            "405/405 [==============================] - 38s 94ms/step - loss: 0.2628 - acc: 0.8914 - val_loss: 0.4359 - val_acc: 0.7950\n",
            "\n",
            "Epoch 00003: val_acc did not improve from 0.90638\n",
            "Epoch 4/10\n",
            "405/405 [==============================] - 39s 96ms/step - loss: 0.3009 - acc: 0.8707 - val_loss: 0.3334 - val_acc: 0.8489\n",
            "\n",
            "Epoch 00004: val_acc did not improve from 0.90638\n",
            "Epoch 5/10\n",
            "405/405 [==============================] - 39s 95ms/step - loss: 0.2612 - acc: 0.8912 - val_loss: 0.3063 - val_acc: 0.8621\n",
            "\n",
            "Epoch 00005: val_acc did not improve from 0.90638\n",
            "Epoch 6/10\n",
            "405/405 [==============================] - 39s 96ms/step - loss: 0.2545 - acc: 0.8951 - val_loss: 0.2390 - val_acc: 0.9037\n",
            "\n",
            "Epoch 00006: val_acc did not improve from 0.90638\n",
            "Epoch 7/10\n",
            "405/405 [==============================] - 39s 97ms/step - loss: 0.2572 - acc: 0.8933 - val_loss: 0.2629 - val_acc: 0.8940\n",
            "\n",
            "Epoch 00007: val_acc did not improve from 0.90638\n",
            "Epoch 8/10\n",
            "405/405 [==============================] - 39s 97ms/step - loss: 0.2607 - acc: 0.8916 - val_loss: 0.4919 - val_acc: 0.7719\n",
            "\n",
            "Epoch 00008: val_acc did not improve from 0.90638\n",
            "Epoch 9/10\n",
            "405/405 [==============================] - 39s 97ms/step - loss: 0.4255 - acc: 0.8017 - val_loss: 0.3024 - val_acc: 0.8742\n",
            "\n",
            "Epoch 00009: val_acc did not improve from 0.90638\n",
            "Epoch 10/10\n",
            "405/405 [==============================] - 38s 94ms/step - loss: 0.3683 - acc: 0.8319 - val_loss: 0.3004 - val_acc: 0.8782\n",
            "\n",
            "Epoch 00010: val_acc did not improve from 0.90638\n"
          ],
          "name": "stdout"
        }
      ]
    },
    {
      "cell_type": "code",
      "metadata": {
        "id": "afEWYgbT0PuS"
      },
      "source": [
        "import matplotlib.pyplot as plt"
      ],
      "execution_count": 68,
      "outputs": []
    },
    {
      "cell_type": "code",
      "metadata": {
        "id": "IUCrJkDOjGyN",
        "colab": {
          "base_uri": "https://localhost:8080/",
          "height": 591
        },
        "outputId": "457db3c0-c68a-4832-ca48-59f08d5e5f20"
      },
      "source": [
        "# list all data in history\n",
        "print(history.history.keys())\n",
        "# summarize history for accuracy\n",
        "plt.plot(history.history['acc'])\n",
        "#plt.plot(history.history['val_acc'])\n",
        "plt.title('model accuracy')\n",
        "plt.ylabel('accuracy')\n",
        "plt.xlabel('epoch')\n",
        "plt.legend(['train', 'test'], loc='upper left')\n",
        "plt.show()\n",
        "# summarize history for loss\n",
        "plt.plot(history.history['loss'])\n",
        "#plt.plot(history.history['val_loss'])\n",
        "plt.title('model loss')\n",
        "plt.ylabel('loss')\n",
        "plt.xlabel('epoch')\n",
        "plt.legend(['train', 'test'], loc='upper left')\n",
        "plt.show()"
      ],
      "execution_count": 69,
      "outputs": [
        {
          "output_type": "stream",
          "text": [
            "dict_keys(['loss', 'acc', 'val_loss', 'val_acc'])\n"
          ],
          "name": "stdout"
        },
        {
          "output_type": "display_data",
          "data": {
            "image/png": "[encoded data removed]",
            "text/plain": [
              "<Figure size 432x288 with 1 Axes>"
            ]
          },
          "metadata": {
            "tags": []
          }
        },
        {
          "output_type": "display_data",
          "data": {
            "image/png": "[encoded data removed]",
            "text/plain": [
              "<Figure size 432x288 with 1 Axes>"
            ]
          },
          "metadata": {
            "tags": []
          }
        }
      ]
    },
    {
      "cell_type": "code",
      "metadata": {
        "id": "XBA_0EU_jIjW"
      },
      "source": [
        "def plot_confusion_matrix(X, y_true):\n",
        "    classes = ['True','Fake']\n",
        "    y_pred = model.predict_classes(X)\n",
        "    con_mat = tf.math.confusion_matrix(labels=y_true, predictions=y_pred).numpy()\n",
        "    con_mat_norm = np.around(con_mat.astype('float') / con_mat.sum(axis=1)[:, np.newaxis], decimals=2)\n",
        "\n",
        "    con_mat_df = pd.DataFrame(con_mat_norm,\n",
        "                        index = classes, \n",
        "                        columns = classes)\n",
        "    figure = plt.figure(figsize=(8, 8))\n",
        "    sns.heatmap(con_mat_df, annot=True,cmap=plt.cm.Blues)\n",
        "    plt.tight_layout()\n",
        "    plt.ylabel('True label')\n",
        "    plt.xlabel('Predicted label')\n",
        "    plt.show()"
      ],
      "execution_count": 70,
      "outputs": []
    },
    {
      "cell_type": "code",
      "metadata": {
        "id": "cO4wyh1TjJyb",
        "colab": {
          "base_uri": "https://localhost:8080/",
          "height": 655
        },
        "outputId": "cdf26675-0c26-49f5-f812-412db7531e51"
      },
      "source": [
        "plot_confusion_matrix(testing_padded, testing_labels)"
      ],
      "execution_count": 71,
      "outputs": [
        {
          "output_type": "stream",
          "text": [
            "/usr/local/lib/python3.7/dist-packages/tensorflow/python/keras/engine/sequential.py:450: UserWarning: `model.predict_classes()` is deprecated and will be removed after 2021-01-01. Please use instead:* `np.argmax(model.predict(x), axis=-1)`,   if your model does multi-class classification   (e.g. if it uses a `softmax` last-layer activation).* `(model.predict(x) > 0.5).astype(\"int32\")`,   if your model does binary classification   (e.g. if it uses a `sigmoid` last-layer activation).\n",
            "  warnings.warn('`model.predict_classes()` is deprecated and '\n"
          ],
          "name": "stderr"
        },
        {
          "output_type": "display_data",
          "data": {
            "image/png": "[encoded data removed]",
            "text/plain": [
              "<Figure size 576x576 with 2 Axes>"
            ]
          },
          "metadata": {
            "tags": []
          }
        }
      ]
    },
    {
      "cell_type": "code",
      "metadata": {
        "id": "mc_lcGRSjqcR"
      },
      "source": [
        "from sklearn.metrics import precision_score , recall_score, f1_score, classification_report   "
      ],
      "execution_count": 72,
      "outputs": []
    },
    {
      "cell_type": "code",
      "metadata": {
        "id": "9mbkttkGOFst"
      },
      "source": [
        "def precision_recall_f1(X, y_val):    \n",
        "    y_val_pred=model.predict_classes(X)\n",
        "\n",
        "    print(\"\\nPrecision score: \",precision_score(y_val,y_val_pred,average=None))\n",
        "    print(\"\\nRecall score: \",recall_score(y_val,y_val_pred,average=None))\n",
        "    print(\"\\nF1 score: \",f1_score(y_val,y_val_pred,average=None))\n",
        "    \n",
        "    print(\"\\n Classification Report:\")\n",
        "    print(classification_report(y_val, y_val_pred))"
      ],
      "execution_count": 73,
      "outputs": []
    },
    {
      "cell_type": "code",
      "metadata": {
        "id": "Cyg9Sk8VOHEC",
        "colab": {
          "base_uri": "https://localhost:8080/"
        },
        "outputId": "3a196554-2ed8-4120-f6b1-b724780983fd"
      },
      "source": [
        "precision_recall_f1(testing_padded, testing_labels)"
      ],
      "execution_count": 74,
      "outputs": [
        {
          "output_type": "stream",
          "text": [
            "/usr/local/lib/python3.7/dist-packages/tensorflow/python/keras/engine/sequential.py:450: UserWarning: `model.predict_classes()` is deprecated and will be removed after 2021-01-01. Please use instead:* `np.argmax(model.predict(x), axis=-1)`,   if your model does multi-class classification   (e.g. if it uses a `softmax` last-layer activation).* `(model.predict(x) > 0.5).astype(\"int32\")`,   if your model does binary classification   (e.g. if it uses a `sigmoid` last-layer activation).\n",
            "  warnings.warn('`model.predict_classes()` is deprecated and '\n"
          ],
          "name": "stderr"
        },
        {
          "output_type": "stream",
          "text": [
            "\n",
            "Precision score:  [0.91383473 0.84681892]\n",
            "\n",
            "Recall score:  [0.83976109 0.91794872]\n",
            "\n",
            "F1 score:  [0.87523344 0.88095036]\n",
            "\n",
            " Classification Report:\n",
            "              precision    recall  f1-score   support\n",
            "\n",
            "           0       0.91      0.84      0.88      5860\n",
            "           1       0.85      0.92      0.88      5655\n",
            "\n",
            "    accuracy                           0.88     11515\n",
            "   macro avg       0.88      0.88      0.88     11515\n",
            "weighted avg       0.88      0.88      0.88     11515\n",
            "\n"
          ],
          "name": "stdout"
        }
      ]
    },
    {
      "cell_type": "code",
      "metadata": {
        "id": "4EyB8WOXRydG"
      },
      "source": [
        ""
      ],
      "execution_count": null,
      "outputs": []
    }
  ]
}