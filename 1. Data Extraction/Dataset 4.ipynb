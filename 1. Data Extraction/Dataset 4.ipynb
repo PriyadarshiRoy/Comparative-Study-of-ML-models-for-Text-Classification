{
  "nbformat": 4,
  "nbformat_minor": 0,
  "metadata": {
    "colab": {
      "name": "Dataset 4.ipynb",
      "provenance": [],
      "collapsed_sections": []
    },
    "kernelspec": {
      "name": "python3",
      "display_name": "Python 3"
    },
    "language_info": {
      "name": "python"
    },
    "accelerator": "GPU"
  },
  "cells": [
    {
      "cell_type": "code",
      "metadata": {
        "id": "cYLxR5mZpdF7"
      },
      "source": [
        "import pandas as pd\n",
        "import tensorflow as tf\n",
        "from tensorflow.keras.preprocessing.text import Tokenizer\n",
        "import numpy as np\n",
        "from sklearn.model_selection import train_test_split\n",
        "from tensorflow.keras.preprocessing.sequence import pad_sequences\n",
        "from numpy import array\n",
        "import keras\n",
        "from keras.preprocessing.text import one_hot\n",
        "from keras.models import Sequential\n",
        "from keras.layers import Dense\n",
        "from keras.layers import Flatten\n",
        "from keras.layers.embeddings import Embedding\n",
        "from numpy import asarray\n",
        "from numpy import zeros"
      ],
      "execution_count": 1,
      "outputs": []
    },
    {
      "cell_type": "code",
      "metadata": {
        "colab": {
          "base_uri": "https://localhost:8080/"
        },
        "id": "w0845QtPpj88",
        "outputId": "fe1c0448-bd32-46ba-9a52-955dd7db656c"
      },
      "source": [
        "from google.colab import drive\n",
        "drive.mount('/content/drive')"
      ],
      "execution_count": 2,
      "outputs": [
        {
          "output_type": "stream",
          "text": [
            "Mounted at /content/drive\n"
          ],
          "name": "stdout"
        }
      ]
    },
    {
      "cell_type": "markdown",
      "metadata": {
        "id": "XAAAG4M3Cugh"
      },
      "source": [
        "DATASET 4"
      ]
    },
    {
      "cell_type": "code",
      "metadata": {
        "id": "D9NY4IXepliR",
        "colab": {
          "base_uri": "https://localhost:8080/",
          "height": 204
        },
        "outputId": "999f689c-09de-4295-accb-0cab09fd29c3"
      },
      "source": [
        "url_d4 = \"/content/drive/MyDrive/MSc Project/Data/4. Fake News Dataset (Syrian War) (Kaggle) 0-fake 1-true/FA-KES-Dataset.csv\"\n",
        "df_d4 = pd.read_csv(url_d4, encoding= 'unicode_escape')\n",
        "df_d4.head()"
      ],
      "execution_count": 4,
      "outputs": [
        {
          "output_type": "execute_result",
          "data": {
            "text/html": [
              "<div>\n",
              "<style scoped>\n",
              "    .dataframe tbody tr th:only-of-type {\n",
              "        vertical-align: middle;\n",
              "    }\n",
              "\n",
              "    .dataframe tbody tr th {\n",
              "        vertical-align: top;\n",
              "    }\n",
              "\n",
              "    .dataframe thead th {\n",
              "        text-align: right;\n",
              "    }\n",
              "</style>\n",
              "<table border=\"1\" class=\"dataframe\">\n",
              "  <thead>\n",
              "    <tr style=\"text-align: right;\">\n",
              "      <th></th>\n",
              "      <th>unit_id</th>\n",
              "      <th>article_title</th>\n",
              "      <th>article_content</th>\n",
              "      <th>source</th>\n",
              "      <th>date</th>\n",
              "      <th>location</th>\n",
              "      <th>labels</th>\n",
              "    </tr>\n",
              "  </thead>\n",
              "  <tbody>\n",
              "    <tr>\n",
              "      <th>0</th>\n",
              "      <td>1914947530</td>\n",
              "      <td>Syria attack symptoms consistent with nerve ag...</td>\n",
              "      <td>Wed 05 Apr 2017 Syria attack symptoms consiste...</td>\n",
              "      <td>nna</td>\n",
              "      <td>4/5/2017</td>\n",
              "      <td>idlib</td>\n",
              "      <td>0</td>\n",
              "    </tr>\n",
              "    <tr>\n",
              "      <th>1</th>\n",
              "      <td>1914947532</td>\n",
              "      <td>Homs governor says U.S. attack caused deaths b...</td>\n",
              "      <td>Fri 07 Apr 2017 at 0914 Homs governor says U.S...</td>\n",
              "      <td>nna</td>\n",
              "      <td>4/7/2017</td>\n",
              "      <td>homs</td>\n",
              "      <td>0</td>\n",
              "    </tr>\n",
              "    <tr>\n",
              "      <th>2</th>\n",
              "      <td>1914947533</td>\n",
              "      <td>Death toll from Aleppo bomb attack at least 112</td>\n",
              "      <td>Sun 16 Apr 2017 Death toll from Aleppo bomb at...</td>\n",
              "      <td>nna</td>\n",
              "      <td>4/16/2017</td>\n",
              "      <td>aleppo</td>\n",
              "      <td>0</td>\n",
              "    </tr>\n",
              "    <tr>\n",
              "      <th>3</th>\n",
              "      <td>1914947534</td>\n",
              "      <td>Aleppo bomb blast kills six Syrian state TV</td>\n",
              "      <td>Wed 19 Apr 2017 Aleppo bomb blast kills six Sy...</td>\n",
              "      <td>nna</td>\n",
              "      <td>4/19/2017</td>\n",
              "      <td>aleppo</td>\n",
              "      <td>0</td>\n",
              "    </tr>\n",
              "    <tr>\n",
              "      <th>4</th>\n",
              "      <td>1914947535</td>\n",
              "      <td>29 Syria Rebels Dead in Fighting for Key Alepp...</td>\n",
              "      <td>Sun 10 Jul 2016 29 Syria Rebels Dead in Fighti...</td>\n",
              "      <td>nna</td>\n",
              "      <td>7/10/2016</td>\n",
              "      <td>aleppo</td>\n",
              "      <td>0</td>\n",
              "    </tr>\n",
              "  </tbody>\n",
              "</table>\n",
              "</div>"
            ],
            "text/plain": [
              "      unit_id  ... labels\n",
              "0  1914947530  ...      0\n",
              "1  1914947532  ...      0\n",
              "2  1914947533  ...      0\n",
              "3  1914947534  ...      0\n",
              "4  1914947535  ...      0\n",
              "\n",
              "[5 rows x 7 columns]"
            ]
          },
          "metadata": {
            "tags": []
          },
          "execution_count": 4
        }
      ]
    },
    {
      "cell_type": "code",
      "metadata": {
        "colab": {
          "base_uri": "https://localhost:8080/"
        },
        "id": "bQCpxI9t5i09",
        "outputId": "1d121de8-f4c6-4f9e-c1a2-6d7006ff244a"
      },
      "source": [
        "df_d4.isnull().sum()"
      ],
      "execution_count": 5,
      "outputs": [
        {
          "output_type": "execute_result",
          "data": {
            "text/plain": [
              "unit_id            0\n",
              "article_title      0\n",
              "article_content    0\n",
              "source             0\n",
              "date               0\n",
              "location           0\n",
              "labels             0\n",
              "dtype: int64"
            ]
          },
          "metadata": {
            "tags": []
          },
          "execution_count": 5
        }
      ]
    },
    {
      "cell_type": "code",
      "metadata": {
        "id": "dcwtuoVX-OaO"
      },
      "source": [
        "X = df_d4['article_title'] + ' ' + df_d4['article_content']"
      ],
      "execution_count": 7,
      "outputs": []
    },
    {
      "cell_type": "code",
      "metadata": {
        "colab": {
          "base_uri": "https://localhost:8080/"
        },
        "id": "TBwnTdA8_109",
        "outputId": "ff9d3dc3-af8a-4e01-fdaf-07bffbe34612"
      },
      "source": [
        "X"
      ],
      "execution_count": 8,
      "outputs": [
        {
          "output_type": "execute_result",
          "data": {
            "text/plain": [
              "0      Syria attack symptoms consistent with nerve ag...\n",
              "1      Homs governor says U.S. attack caused deaths b...\n",
              "2      Death toll from Aleppo bomb attack at least 11...\n",
              "3      Aleppo bomb blast kills six Syrian state TV We...\n",
              "4      29 Syria Rebels Dead in Fighting for Key Alepp...\n",
              "                             ...                        \n",
              "799    Turkish Bombardment Kills 20 Civilians in Syri...\n",
              "800    Martyrs as Terrorists Shell Aleppos Salah Eddi...\n",
              "801    Chemical Attack Kills Five Syrians in Aleppo S...\n",
              "802    5 Killed as Russian Military Chopper Shot down...\n",
              "803    Syrian Army Kills 48 ISIL Terrorists in Deir E...\n",
              "Length: 804, dtype: object"
            ]
          },
          "metadata": {
            "tags": []
          },
          "execution_count": 8
        }
      ]
    },
    {
      "cell_type": "code",
      "metadata": {
        "id": "yvo2HkFRAE3e"
      },
      "source": [
        "# Exhange label value 0 and 1\n",
        "\n",
        "def exchange_labels(labels):\n",
        "    newlist = []\n",
        "    for l in labels:\n",
        "        if l == 0:\n",
        "            newlist.append(1)\n",
        "        else:\n",
        "            newlist.append(0)\n",
        "    return newlist"
      ],
      "execution_count": 10,
      "outputs": []
    },
    {
      "cell_type": "code",
      "metadata": {
        "id": "8uFN5PQOg_eS"
      },
      "source": [
        "y = exchange_labels(df_d4['labels'].to_list())"
      ],
      "execution_count": 11,
      "outputs": []
    },
    {
      "cell_type": "code",
      "metadata": {
        "colab": {
          "base_uri": "https://localhost:8080/"
        },
        "id": "IBwXMCFAjKaE",
        "outputId": "d33a0d03-2bb5-4c66-a9f5-b15d6786b26d"
      },
      "source": [
        "print(y)"
      ],
      "execution_count": 13,
      "outputs": [
        {
          "output_type": "stream",
          "text": [
            "[1, 1, 1, 1, 1, 1, 1, 1, 0, 1, 0, 0, 0, 0, 1, 1, 0, 0, 1, 1, 1, 1, 0, 0, 0, 0, 0, 1, 1, 0, 1, 1, 0, 1, 1, 0, 0, 0, 0, 0, 0, 0, 0, 1, 0, 0, 0, 0, 0, 0, 1, 1, 0, 0, 1, 1, 0, 1, 0, 0, 0, 0, 1, 0, 0, 0, 1, 1, 1, 0, 1, 0, 1, 1, 0, 1, 0, 0, 1, 1, 1, 1, 1, 1, 0, 0, 0, 0, 1, 1, 1, 1, 0, 0, 1, 0, 0, 0, 0, 0, 1, 0, 1, 1, 0, 0, 0, 1, 1, 0, 0, 0, 0, 0, 0, 0, 1, 0, 0, 0, 0, 0, 0, 0, 0, 1, 0, 1, 1, 0, 1, 0, 1, 0, 1, 0, 0, 0, 0, 0, 1, 0, 0, 0, 1, 0, 1, 1, 0, 0, 1, 1, 1, 0, 0, 0, 0, 1, 0, 0, 0, 0, 0, 1, 1, 0, 0, 1, 0, 1, 0, 1, 1, 1, 1, 0, 0, 1, 1, 0, 1, 0, 0, 1, 1, 0, 1, 0, 1, 1, 1, 1, 0, 1, 1, 0, 0, 1, 1, 1, 1, 1, 0, 1, 1, 1, 0, 1, 0, 0, 0, 0, 0, 1, 1, 1, 0, 0, 1, 0, 1, 0, 1, 1, 1, 1, 1, 0, 1, 1, 1, 1, 0, 0, 1, 0, 0, 0, 1, 0, 0, 1, 1, 1, 0, 0, 1, 0, 0, 1, 1, 0, 0, 1, 0, 0, 1, 0, 0, 1, 0, 0, 1, 1, 0, 0, 0, 0, 1, 1, 1, 1, 0, 0, 1, 0, 1, 1, 1, 0, 1, 1, 0, 1, 1, 0, 0, 0, 0, 0, 0, 0, 0, 0, 0, 1, 0, 1, 1, 1, 0, 0, 0, 1, 0, 0, 0, 0, 0, 1, 1, 0, 1, 0, 0, 1, 0, 1, 1, 1, 0, 1, 0, 0, 0, 0, 0, 1, 1, 1, 1, 0, 0, 1, 0, 0, 0, 1, 1, 0, 1, 1, 0, 0, 0, 0, 1, 0, 0, 1, 1, 1, 0, 1, 1, 1, 1, 1, 0, 1, 0, 1, 0, 1, 1, 0, 1, 1, 1, 0, 0, 1, 0, 1, 0, 0, 1, 1, 1, 1, 0, 1, 0, 1, 0, 0, 0, 0, 0, 1, 0, 0, 0, 0, 1, 0, 1, 1, 0, 1, 1, 1, 1, 0, 0, 1, 0, 0, 0, 1, 0, 0, 1, 1, 0, 0, 1, 1, 1, 0, 0, 0, 1, 1, 1, 0, 0, 0, 1, 1, 1, 1, 0, 0, 0, 0, 0, 1, 1, 0, 0, 1, 0, 1, 1, 1, 1, 0, 0, 1, 1, 1, 1, 0, 1, 0, 1, 1, 1, 1, 1, 0, 1, 1, 1, 1, 0, 0, 0, 0, 1, 1, 0, 1, 1, 0, 0, 0, 0, 0, 1, 1, 0, 1, 1, 0, 0, 1, 1, 1, 0, 1, 0, 1, 0, 1, 1, 1, 0, 0, 1, 1, 0, 1, 1, 0, 1, 1, 1, 1, 0, 1, 0, 1, 0, 1, 1, 1, 1, 0, 1, 0, 1, 1, 0, 1, 0, 1, 0, 1, 0, 1, 0, 1, 0, 0, 0, 1, 1, 0, 0, 1, 1, 0, 1, 0, 1, 1, 0, 1, 0, 1, 0, 1, 0, 0, 1, 0, 1, 0, 0, 0, 1, 1, 1, 0, 0, 0, 0, 1, 1, 0, 0, 1, 0, 1, 0, 0, 1, 0, 0, 1, 0, 1, 0, 0, 0, 1, 0, 0, 1, 0, 0, 0, 1, 0, 1, 0, 1, 0, 1, 1, 1, 1, 1, 1, 1, 0, 1, 0, 1, 1, 1, 1, 0, 0, 0, 0, 0, 0, 0, 1, 0, 0, 1, 0, 1, 1, 1, 0, 0, 1, 1, 1, 0, 0, 1, 1, 0, 0, 1, 0, 0, 0, 1, 0, 1, 0, 0, 1, 0, 0, 1, 0, 1, 1, 0, 0, 1, 0, 0, 1, 1, 1, 0, 0, 0, 0, 0, 0, 0, 0, 1, 1, 0, 0, 0, 1, 0, 1, 0, 1, 0, 0, 0, 0, 0, 0, 1, 1, 0, 0, 0, 0, 1, 0, 0, 0, 1, 0, 0, 0, 0, 0, 0, 0, 0, 1, 0, 1, 1, 1, 0, 0, 1, 0, 0, 0, 0, 0, 0, 0, 1, 1, 0, 1, 1, 0, 0, 1, 1, 0, 0, 0, 0, 0, 0, 0, 0, 1, 1, 1, 1, 0, 0, 1, 1, 1, 1, 1, 1, 0, 0, 1, 0, 0, 1, 0, 1, 0, 0, 1, 1, 1, 0, 1, 1, 1, 1, 0, 0, 1, 1, 0, 1, 0, 1, 1, 0, 0, 0, 0, 1, 1, 0, 0, 0, 1, 1, 1, 1, 1, 1, 1, 1, 0, 0, 1, 0, 0, 0, 1, 0, 0]\n"
          ],
          "name": "stdout"
        }
      ]
    },
    {
      "cell_type": "code",
      "metadata": {
        "id": "luMCU0MEIJYH"
      },
      "source": [
        "df = pd.DataFrame(list(zip(X, y)),\n",
        "               columns =['text', 'label'])"
      ],
      "execution_count": 15,
      "outputs": []
    },
    {
      "cell_type": "code",
      "metadata": {
        "id": "wJ5yf4hxRKFB"
      },
      "source": [
        "df.to_csv(r'/content/drive/MyDrive/MSc Project/Data/dataset4.csv', index=False)"
      ],
      "execution_count": 16,
      "outputs": []
    },
    {
      "cell_type": "code",
      "metadata": {
        "colab": {
          "base_uri": "https://localhost:8080/",
          "height": 204
        },
        "id": "ObGtHUdfhpje",
        "outputId": "d3be1cb8-c4d9-4edb-a049-24e10a3ebc85"
      },
      "source": [
        "url_save = '/content/drive/MyDrive/MSc Project/Data/dataset4.csv'\n",
        "df_check = pd.read_csv(url_save)\n",
        "df_check.head()"
      ],
      "execution_count": 17,
      "outputs": [
        {
          "output_type": "execute_result",
          "data": {
            "text/html": [
              "<div>\n",
              "<style scoped>\n",
              "    .dataframe tbody tr th:only-of-type {\n",
              "        vertical-align: middle;\n",
              "    }\n",
              "\n",
              "    .dataframe tbody tr th {\n",
              "        vertical-align: top;\n",
              "    }\n",
              "\n",
              "    .dataframe thead th {\n",
              "        text-align: right;\n",
              "    }\n",
              "</style>\n",
              "<table border=\"1\" class=\"dataframe\">\n",
              "  <thead>\n",
              "    <tr style=\"text-align: right;\">\n",
              "      <th></th>\n",
              "      <th>text</th>\n",
              "      <th>label</th>\n",
              "    </tr>\n",
              "  </thead>\n",
              "  <tbody>\n",
              "    <tr>\n",
              "      <th>0</th>\n",
              "      <td>Syria attack symptoms consistent with nerve ag...</td>\n",
              "      <td>1</td>\n",
              "    </tr>\n",
              "    <tr>\n",
              "      <th>1</th>\n",
              "      <td>Homs governor says U.S. attack caused deaths b...</td>\n",
              "      <td>1</td>\n",
              "    </tr>\n",
              "    <tr>\n",
              "      <th>2</th>\n",
              "      <td>Death toll from Aleppo bomb attack at least 11...</td>\n",
              "      <td>1</td>\n",
              "    </tr>\n",
              "    <tr>\n",
              "      <th>3</th>\n",
              "      <td>Aleppo bomb blast kills six Syrian state TV We...</td>\n",
              "      <td>1</td>\n",
              "    </tr>\n",
              "    <tr>\n",
              "      <th>4</th>\n",
              "      <td>29 Syria Rebels Dead in Fighting for Key Alepp...</td>\n",
              "      <td>1</td>\n",
              "    </tr>\n",
              "  </tbody>\n",
              "</table>\n",
              "</div>"
            ],
            "text/plain": [
              "                                                text  label\n",
              "0  Syria attack symptoms consistent with nerve ag...      1\n",
              "1  Homs governor says U.S. attack caused deaths b...      1\n",
              "2  Death toll from Aleppo bomb attack at least 11...      1\n",
              "3  Aleppo bomb blast kills six Syrian state TV We...      1\n",
              "4  29 Syria Rebels Dead in Fighting for Key Alepp...      1"
            ]
          },
          "metadata": {
            "tags": []
          },
          "execution_count": 17
        }
      ]
    },
    {
      "cell_type": "code",
      "metadata": {
        "id": "RAusaI65h6tm"
      },
      "source": [
        ""
      ],
      "execution_count": null,
      "outputs": []
    }
  ]
}