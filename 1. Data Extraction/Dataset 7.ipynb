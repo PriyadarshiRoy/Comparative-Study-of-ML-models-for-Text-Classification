{
  "nbformat": 4,
  "nbformat_minor": 0,
  "metadata": {
    "colab": {
      "name": "Dataset 7.ipynb",
      "provenance": [],
      "collapsed_sections": []
    },
    "kernelspec": {
      "name": "python3",
      "display_name": "Python 3"
    },
    "language_info": {
      "name": "python"
    },
    "accelerator": "GPU"
  },
  "cells": [
    {
      "cell_type": "code",
      "metadata": {
        "id": "cYLxR5mZpdF7"
      },
      "source": [
        "import pandas as pd\n",
        "import tensorflow as tf\n",
        "from tensorflow.keras.preprocessing.text import Tokenizer\n",
        "import numpy as np\n",
        "from sklearn.model_selection import train_test_split\n",
        "from tensorflow.keras.preprocessing.sequence import pad_sequences\n",
        "from numpy import array\n",
        "import keras\n",
        "from keras.preprocessing.text import one_hot\n",
        "from keras.models import Sequential\n",
        "from keras.layers import Dense\n",
        "from keras.layers import Flatten\n",
        "from keras.layers.embeddings import Embedding\n",
        "from numpy import asarray\n",
        "from numpy import zeros"
      ],
      "execution_count": null,
      "outputs": []
    },
    {
      "cell_type": "code",
      "metadata": {
        "colab": {
          "base_uri": "https://localhost:8080/"
        },
        "id": "w0845QtPpj88",
        "outputId": "d9fde350-52da-4916-f5c7-486eac56a704"
      },
      "source": [
        "from google.colab import drive\n",
        "drive.mount('/content/drive')"
      ],
      "execution_count": null,
      "outputs": [
        {
          "output_type": "stream",
          "text": [
            "Mounted at /content/drive\n"
          ],
          "name": "stdout"
        }
      ]
    },
    {
      "cell_type": "markdown",
      "metadata": {
        "id": "XAAAG4M3Cugh"
      },
      "source": [
        "DATASET 9\n"
      ]
    },
    {
      "cell_type": "code",
      "metadata": {
        "id": "D9NY4IXepliR"
      },
      "source": [
        "url_d9 = \"/content/drive/MyDrive/MSc Project/Data/7. Source based Fake News Classification (Kaggle)/news_articles.csv\"\n",
        "df_d9 = pd.read_csv(url_d9)"
      ],
      "execution_count": null,
      "outputs": []
    },
    {
      "cell_type": "code",
      "metadata": {
        "colab": {
          "base_uri": "https://localhost:8080/",
          "height": 1000
        },
        "id": "FW3ZuUwskUY5",
        "outputId": "4e7546a5-078f-4f36-cda6-18065bcd91c3"
      },
      "source": [
        "df_d9"
      ],
      "execution_count": null,
      "outputs": [
        {
          "output_type": "execute_result",
          "data": {
            "text/html": [
              "<div>\n",
              "<style scoped>\n",
              "    .dataframe tbody tr th:only-of-type {\n",
              "        vertical-align: middle;\n",
              "    }\n",
              "\n",
              "    .dataframe tbody tr th {\n",
              "        vertical-align: top;\n",
              "    }\n",
              "\n",
              "    .dataframe thead th {\n",
              "        text-align: right;\n",
              "    }\n",
              "</style>\n",
              "<table border=\"1\" class=\"dataframe\">\n",
              "  <thead>\n",
              "    <tr style=\"text-align: right;\">\n",
              "      <th></th>\n",
              "      <th>author</th>\n",
              "      <th>published</th>\n",
              "      <th>title</th>\n",
              "      <th>text</th>\n",
              "      <th>language</th>\n",
              "      <th>site_url</th>\n",
              "      <th>main_img_url</th>\n",
              "      <th>type</th>\n",
              "      <th>label</th>\n",
              "      <th>title_without_stopwords</th>\n",
              "      <th>text_without_stopwords</th>\n",
              "      <th>hasImage</th>\n",
              "    </tr>\n",
              "  </thead>\n",
              "  <tbody>\n",
              "    <tr>\n",
              "      <th>0</th>\n",
              "      <td>Barracuda Brigade</td>\n",
              "      <td>2016-10-26T21:41:00.000+03:00</td>\n",
              "      <td>muslims busted they stole millions in govt ben...</td>\n",
              "      <td>print they should pay all the back all the mon...</td>\n",
              "      <td>english</td>\n",
              "      <td>100percentfedup.com</td>\n",
              "      <td>http://bb4sp.com/wp-content/uploads/2016/10/Fu...</td>\n",
              "      <td>bias</td>\n",
              "      <td>Real</td>\n",
              "      <td>muslims busted stole millions govt benefits</td>\n",
              "      <td>print pay back money plus interest entire fami...</td>\n",
              "      <td>1.0</td>\n",
              "    </tr>\n",
              "    <tr>\n",
              "      <th>1</th>\n",
              "      <td>reasoning with facts</td>\n",
              "      <td>2016-10-29T08:47:11.259+03:00</td>\n",
              "      <td>re why did attorney general loretta lynch plea...</td>\n",
              "      <td>why did attorney general loretta lynch plead t...</td>\n",
              "      <td>english</td>\n",
              "      <td>100percentfedup.com</td>\n",
              "      <td>http://bb4sp.com/wp-content/uploads/2016/10/Fu...</td>\n",
              "      <td>bias</td>\n",
              "      <td>Real</td>\n",
              "      <td>attorney general loretta lynch plead fifth</td>\n",
              "      <td>attorney general loretta lynch plead fifth bar...</td>\n",
              "      <td>1.0</td>\n",
              "    </tr>\n",
              "    <tr>\n",
              "      <th>2</th>\n",
              "      <td>Barracuda Brigade</td>\n",
              "      <td>2016-10-31T01:41:49.479+02:00</td>\n",
              "      <td>breaking weiner cooperating with fbi on hillar...</td>\n",
              "      <td>red state  \\nfox news sunday reported this mor...</td>\n",
              "      <td>english</td>\n",
              "      <td>100percentfedup.com</td>\n",
              "      <td>http://bb4sp.com/wp-content/uploads/2016/10/Fu...</td>\n",
              "      <td>bias</td>\n",
              "      <td>Real</td>\n",
              "      <td>breaking weiner cooperating fbi hillary email ...</td>\n",
              "      <td>red state fox news sunday reported morning ant...</td>\n",
              "      <td>1.0</td>\n",
              "    </tr>\n",
              "    <tr>\n",
              "      <th>3</th>\n",
              "      <td>Fed Up</td>\n",
              "      <td>2016-11-01T05:22:00.000+02:00</td>\n",
              "      <td>pin drop speech by father of daughter kidnappe...</td>\n",
              "      <td>email kayla mueller was a prisoner and torture...</td>\n",
              "      <td>english</td>\n",
              "      <td>100percentfedup.com</td>\n",
              "      <td>http://100percentfedup.com/wp-content/uploads/...</td>\n",
              "      <td>bias</td>\n",
              "      <td>Real</td>\n",
              "      <td>pin drop speech father daughter kidnapped kill...</td>\n",
              "      <td>email kayla mueller prisoner tortured isis cha...</td>\n",
              "      <td>1.0</td>\n",
              "    </tr>\n",
              "    <tr>\n",
              "      <th>4</th>\n",
              "      <td>Fed Up</td>\n",
              "      <td>2016-11-01T21:56:00.000+02:00</td>\n",
              "      <td>fantastic trumps  point plan to reform healthc...</td>\n",
              "      <td>email healthcare reform to make america great ...</td>\n",
              "      <td>english</td>\n",
              "      <td>100percentfedup.com</td>\n",
              "      <td>http://100percentfedup.com/wp-content/uploads/...</td>\n",
              "      <td>bias</td>\n",
              "      <td>Real</td>\n",
              "      <td>fantastic trumps point plan reform healthcare ...</td>\n",
              "      <td>email healthcare reform make america great sin...</td>\n",
              "      <td>1.0</td>\n",
              "    </tr>\n",
              "    <tr>\n",
              "      <th>...</th>\n",
              "      <td>...</td>\n",
              "      <td>...</td>\n",
              "      <td>...</td>\n",
              "      <td>...</td>\n",
              "      <td>...</td>\n",
              "      <td>...</td>\n",
              "      <td>...</td>\n",
              "      <td>...</td>\n",
              "      <td>...</td>\n",
              "      <td>...</td>\n",
              "      <td>...</td>\n",
              "      <td>...</td>\n",
              "    </tr>\n",
              "    <tr>\n",
              "      <th>2091</th>\n",
              "      <td>-NO AUTHOR-</td>\n",
              "      <td>2016-10-27T15:36:10.573+03:00</td>\n",
              "      <td>teens walk free after gangrape conviction</td>\n",
              "      <td>NaN</td>\n",
              "      <td>english</td>\n",
              "      <td>wnd.com</td>\n",
              "      <td>http://www.wnd.com/files/2016/10/hillary_haunt...</td>\n",
              "      <td>bias</td>\n",
              "      <td>Real</td>\n",
              "      <td>good samaritan wearing indian headdress disarm...</td>\n",
              "      <td>NaN</td>\n",
              "      <td>1.0</td>\n",
              "    </tr>\n",
              "    <tr>\n",
              "      <th>2092</th>\n",
              "      <td>-NO AUTHOR-</td>\n",
              "      <td>2016-10-27T15:36:10.671+03:00</td>\n",
              "      <td>school named for munichmassacre mastermind</td>\n",
              "      <td>NaN</td>\n",
              "      <td>english</td>\n",
              "      <td>wnd.com</td>\n",
              "      <td>http://www.wnd.com/files/2016/10/rambo_richard...</td>\n",
              "      <td>bias</td>\n",
              "      <td>Real</td>\n",
              "      <td>skype sex scam fortune built shame</td>\n",
              "      <td>NaN</td>\n",
              "      <td>1.0</td>\n",
              "    </tr>\n",
              "    <tr>\n",
              "      <th>2093</th>\n",
              "      <td>-NO AUTHOR-</td>\n",
              "      <td>2016-10-27T13:30:00.000+03:00</td>\n",
              "      <td>russia unveils satan  missile</td>\n",
              "      <td>NaN</td>\n",
              "      <td>english</td>\n",
              "      <td>wnd.com</td>\n",
              "      <td>http://www.wnd.com/files/2016/10/skype_sex_sca...</td>\n",
              "      <td>bs</td>\n",
              "      <td>Fake</td>\n",
              "      <td>cannabis aficionados develop thca crystalline ...</td>\n",
              "      <td>NaN</td>\n",
              "      <td>1.0</td>\n",
              "    </tr>\n",
              "    <tr>\n",
              "      <th>2094</th>\n",
              "      <td>-NO AUTHOR-</td>\n",
              "      <td>2016-10-27T15:58:41.935+03:00</td>\n",
              "      <td>check out hillarythemed haunted house</td>\n",
              "      <td>NaN</td>\n",
              "      <td>english</td>\n",
              "      <td>wnd.com</td>\n",
              "      <td>http://worldtruth.tv/wp-content/uploads/2016/1...</td>\n",
              "      <td>bs</td>\n",
              "      <td>Fake</td>\n",
              "      <td>title</td>\n",
              "      <td>NaN</td>\n",
              "      <td>0.0</td>\n",
              "    </tr>\n",
              "    <tr>\n",
              "      <th>2095</th>\n",
              "      <td>Eddy Lavine</td>\n",
              "      <td>2016-10-28T01:02:00.000+03:00</td>\n",
              "      <td>cannabis aficionados develop thca crystalline ...</td>\n",
              "      <td>NaN</td>\n",
              "      <td>NaN</td>\n",
              "      <td>NaN</td>\n",
              "      <td>NaN</td>\n",
              "      <td>NaN</td>\n",
              "      <td>NaN</td>\n",
              "      <td>NaN</td>\n",
              "      <td>NaN</td>\n",
              "      <td>NaN</td>\n",
              "    </tr>\n",
              "  </tbody>\n",
              "</table>\n",
              "<p>2096 rows × 12 columns</p>\n",
              "</div>"
            ],
            "text/plain": [
              "                    author  ... hasImage\n",
              "0        Barracuda Brigade  ...      1.0\n",
              "1     reasoning with facts  ...      1.0\n",
              "2        Barracuda Brigade  ...      1.0\n",
              "3                   Fed Up  ...      1.0\n",
              "4                   Fed Up  ...      1.0\n",
              "...                    ...  ...      ...\n",
              "2091           -NO AUTHOR-  ...      1.0\n",
              "2092           -NO AUTHOR-  ...      1.0\n",
              "2093           -NO AUTHOR-  ...      1.0\n",
              "2094           -NO AUTHOR-  ...      0.0\n",
              "2095           Eddy Lavine  ...      NaN\n",
              "\n",
              "[2096 rows x 12 columns]"
            ]
          },
          "metadata": {
            "tags": []
          },
          "execution_count": 4
        }
      ]
    },
    {
      "cell_type": "code",
      "metadata": {
        "colab": {
          "base_uri": "https://localhost:8080/"
        },
        "id": "Bot7pNfskdML",
        "outputId": "2feadf18-2a6b-4064-8e1f-2a5591aa8b24"
      },
      "source": [
        "df_d9.isnull().sum()"
      ],
      "execution_count": null,
      "outputs": [
        {
          "output_type": "execute_result",
          "data": {
            "text/plain": [
              "author                      0\n",
              "published                   0\n",
              "title                       0\n",
              "text                       46\n",
              "language                    1\n",
              "site_url                    1\n",
              "main_img_url                1\n",
              "type                        1\n",
              "label                       1\n",
              "title_without_stopwords     2\n",
              "text_without_stopwords     50\n",
              "hasImage                    1\n",
              "dtype: int64"
            ]
          },
          "metadata": {
            "tags": []
          },
          "execution_count": 5
        }
      ]
    },
    {
      "cell_type": "code",
      "metadata": {
        "id": "qNT7a1UtkkzX"
      },
      "source": [
        "df_d9 = df_d9.dropna()"
      ],
      "execution_count": null,
      "outputs": []
    },
    {
      "cell_type": "code",
      "metadata": {
        "colab": {
          "base_uri": "https://localhost:8080/"
        },
        "id": "wWIyH9Kvn44_",
        "outputId": "4d4eea96-0c96-43d0-ff8c-4a5e90e79315"
      },
      "source": [
        "df_d9.isnull().sum()"
      ],
      "execution_count": null,
      "outputs": [
        {
          "output_type": "execute_result",
          "data": {
            "text/plain": [
              "author                     0\n",
              "published                  0\n",
              "title                      0\n",
              "text                       0\n",
              "language                   0\n",
              "site_url                   0\n",
              "main_img_url               0\n",
              "type                       0\n",
              "label                      0\n",
              "title_without_stopwords    0\n",
              "text_without_stopwords     0\n",
              "hasImage                   0\n",
              "dtype: int64"
            ]
          },
          "metadata": {
            "tags": []
          },
          "execution_count": 7
        }
      ]
    },
    {
      "cell_type": "code",
      "metadata": {
        "id": "TBwnTdA8_109"
      },
      "source": [
        "X = (df_d9['title'] + ' ' + df_d9['text']).to_list()"
      ],
      "execution_count": null,
      "outputs": []
    },
    {
      "cell_type": "code",
      "metadata": {
        "colab": {
          "base_uri": "https://localhost:8080/"
        },
        "id": "Te2q_NX7lLDu",
        "outputId": "7d9ea8d2-bc37-4f39-e249-0ec6ab2a14e1"
      },
      "source": [
        "len(X)"
      ],
      "execution_count": null,
      "outputs": [
        {
          "output_type": "execute_result",
          "data": {
            "text/plain": [
              "2045"
            ]
          },
          "metadata": {
            "tags": []
          },
          "execution_count": 9
        }
      ]
    },
    {
      "cell_type": "code",
      "metadata": {
        "id": "eLX20dGioUDl"
      },
      "source": [
        "# Exchange label value \"REAL\" and \"FAKE\" for 0 and 1\n",
        "\n",
        "def changelabels(labels):\n",
        "    newlist = []\n",
        "    for l in labels:\n",
        "        if l == \"Real\":\n",
        "            newlist.append(0)\n",
        "        else:\n",
        "            newlist.append(1)\n",
        "    return newlist"
      ],
      "execution_count": null,
      "outputs": []
    },
    {
      "cell_type": "code",
      "metadata": {
        "id": "8uFN5PQOg_eS"
      },
      "source": [
        "y = changelabels(df_d9['label'].to_list())"
      ],
      "execution_count": null,
      "outputs": []
    },
    {
      "cell_type": "code",
      "metadata": {
        "colab": {
          "base_uri": "https://localhost:8080/"
        },
        "id": "IBwXMCFAjKaE",
        "outputId": "41ec12ad-44fd-439e-fd2b-349c5e5e023b"
      },
      "source": [
        "len(y)"
      ],
      "execution_count": null,
      "outputs": [
        {
          "output_type": "execute_result",
          "data": {
            "text/plain": [
              "2045"
            ]
          },
          "metadata": {
            "tags": []
          },
          "execution_count": 13
        }
      ]
    },
    {
      "cell_type": "code",
      "metadata": {
        "id": "luMCU0MEIJYH"
      },
      "source": [
        "df = pd.DataFrame(list(zip(X, y)),\n",
        "               columns =['text', 'label'])"
      ],
      "execution_count": null,
      "outputs": []
    },
    {
      "cell_type": "code",
      "metadata": {
        "id": "wJ5yf4hxRKFB"
      },
      "source": [
        "df.to_csv(r'/content/drive/MyDrive/MSc Project/Data/dataset7.csv', index=False)"
      ],
      "execution_count": null,
      "outputs": []
    },
    {
      "cell_type": "code",
      "metadata": {
        "id": "ObGtHUdfhpje",
        "colab": {
          "base_uri": "https://localhost:8080/",
          "height": 419
        },
        "outputId": "bcdfe79f-cac8-4b18-d35d-be7894224751"
      },
      "source": [
        "url_save = '/content/drive/MyDrive/MSc Project/Data/dataset7.csv'\n",
        "df_check = pd.read_csv(url_save)\n",
        "df_check"
      ],
      "execution_count": null,
      "outputs": [
        {
          "output_type": "execute_result",
          "data": {
            "text/html": [
              "<div>\n",
              "<style scoped>\n",
              "    .dataframe tbody tr th:only-of-type {\n",
              "        vertical-align: middle;\n",
              "    }\n",
              "\n",
              "    .dataframe tbody tr th {\n",
              "        vertical-align: top;\n",
              "    }\n",
              "\n",
              "    .dataframe thead th {\n",
              "        text-align: right;\n",
              "    }\n",
              "</style>\n",
              "<table border=\"1\" class=\"dataframe\">\n",
              "  <thead>\n",
              "    <tr style=\"text-align: right;\">\n",
              "      <th></th>\n",
              "      <th>text</th>\n",
              "      <th>label</th>\n",
              "    </tr>\n",
              "  </thead>\n",
              "  <tbody>\n",
              "    <tr>\n",
              "      <th>0</th>\n",
              "      <td>muslims busted they stole millions in govt ben...</td>\n",
              "      <td>0</td>\n",
              "    </tr>\n",
              "    <tr>\n",
              "      <th>1</th>\n",
              "      <td>re why did attorney general loretta lynch plea...</td>\n",
              "      <td>0</td>\n",
              "    </tr>\n",
              "    <tr>\n",
              "      <th>2</th>\n",
              "      <td>breaking weiner cooperating with fbi on hillar...</td>\n",
              "      <td>0</td>\n",
              "    </tr>\n",
              "    <tr>\n",
              "      <th>3</th>\n",
              "      <td>pin drop speech by father of daughter kidnappe...</td>\n",
              "      <td>0</td>\n",
              "    </tr>\n",
              "    <tr>\n",
              "      <th>4</th>\n",
              "      <td>fantastic trumps  point plan to reform healthc...</td>\n",
              "      <td>0</td>\n",
              "    </tr>\n",
              "    <tr>\n",
              "      <th>...</th>\n",
              "      <td>...</td>\n",
              "      <td>...</td>\n",
              "    </tr>\n",
              "    <tr>\n",
              "      <th>2040</th>\n",
              "      <td>why never trumpers must reconsider prof canoes...</td>\n",
              "      <td>0</td>\n",
              "    </tr>\n",
              "    <tr>\n",
              "      <th>2041</th>\n",
              "      <td>election crossroads socialism or capitalism te...</td>\n",
              "      <td>0</td>\n",
              "    </tr>\n",
              "    <tr>\n",
              "      <th>2042</th>\n",
              "      <td>reasons ill vote for trump school named for mu...</td>\n",
              "      <td>0</td>\n",
              "    </tr>\n",
              "    <tr>\n",
              "      <th>2043</th>\n",
              "      <td>our new country women and minorities hit harde...</td>\n",
              "      <td>0</td>\n",
              "    </tr>\n",
              "    <tr>\n",
              "      <th>2044</th>\n",
              "      <td>trump vs clinton a risk vs a disaster check ou...</td>\n",
              "      <td>0</td>\n",
              "    </tr>\n",
              "  </tbody>\n",
              "</table>\n",
              "<p>2045 rows × 2 columns</p>\n",
              "</div>"
            ],
            "text/plain": [
              "                                                   text  label\n",
              "0     muslims busted they stole millions in govt ben...      0\n",
              "1     re why did attorney general loretta lynch plea...      0\n",
              "2     breaking weiner cooperating with fbi on hillar...      0\n",
              "3     pin drop speech by father of daughter kidnappe...      0\n",
              "4     fantastic trumps  point plan to reform healthc...      0\n",
              "...                                                 ...    ...\n",
              "2040  why never trumpers must reconsider prof canoes...      0\n",
              "2041  election crossroads socialism or capitalism te...      0\n",
              "2042  reasons ill vote for trump school named for mu...      0\n",
              "2043  our new country women and minorities hit harde...      0\n",
              "2044  trump vs clinton a risk vs a disaster check ou...      0\n",
              "\n",
              "[2045 rows x 2 columns]"
            ]
          },
          "metadata": {
            "tags": []
          },
          "execution_count": 16
        }
      ]
    },
    {
      "cell_type": "code",
      "metadata": {
        "id": "RAusaI65h6tm"
      },
      "source": [
        ""
      ],
      "execution_count": null,
      "outputs": []
    }
  ]
}